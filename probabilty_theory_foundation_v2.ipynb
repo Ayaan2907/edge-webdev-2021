{
  "cells": [
    {
      "cell_type": "markdown",
      "metadata": {
        "id": "view-in-github",
        "colab_type": "text"
      },
      "source": [
        "<a href=\"https://colab.research.google.com/github/scaleracademy/edge-webdev-2021/blob/main/probabilty_theory_foundation_v2.ipynb\" target=\"_parent\"><img src=\"https://colab.research.google.com/assets/colab-badge.svg\" alt=\"Open In Colab\"/></a>"
      ]
    },
    {
      "cell_type": "code",
      "source": [
        "from google.colab import drive\n",
        "drive.mount(\"/content/drive\", force_remount=True) "
      ],
      "metadata": {
        "colab": {
          "base_uri": "https://localhost:8080/"
        },
        "id": "bFopZ10ohPm4",
        "outputId": "0818db2c-ca31-4045-9fbc-2c6bf5838786"
      },
      "id": "bFopZ10ohPm4",
      "execution_count": null,
      "outputs": [
        {
          "output_type": "stream",
          "name": "stdout",
          "text": [
            "Mounted at /content/drive\n"
          ]
        }
      ]
    },
    {
      "cell_type": "code",
      "source": [
        ""
      ],
      "metadata": {
        "id": "3qXUlsIPr1tn"
      },
      "id": "3qXUlsIPr1tn",
      "execution_count": null,
      "outputs": []
    },
    {
      "cell_type": "markdown",
      "source": [
        "# UTILITY FUNCTIONS:"
      ],
      "metadata": {
        "id": "4b-a_i2er2Pp"
      },
      "id": "4b-a_i2er2Pp"
    },
    {
      "cell_type": "code",
      "source": [
        "data_path = 'drive/My Drive/2_SCALER/'"
      ],
      "metadata": {
        "id": "W_Q6-YWDhAU4"
      },
      "id": "W_Q6-YWDhAU4",
      "execution_count": null,
      "outputs": []
    },
    {
      "cell_type": "code",
      "source": [
        "import numpy as np\n",
        "import pandas as pd\n",
        "\n",
        "import matplotlib.image as img\n",
        "import matplotlib.pyplot as plt\n",
        "from matplotlib_venn import venn2, venn2_circles, venn3, venn3_circles\n",
        "from collections import Counter\n",
        "from sklearn.model_selection import ParameterGrid\n",
        "\n",
        "plt.style.use('seaborn-whitegrid')"
      ],
      "metadata": {
        "id": "AkdWDP4Wg4oD"
      },
      "id": "AkdWDP4Wg4oD",
      "execution_count": null,
      "outputs": []
    },
    {
      "cell_type": "code",
      "source": [
        "def fn_load_img(img_path, figsize = (12, 7)):\n",
        "    plt.figure(figsize = figsize)\n",
        "    plt.imshow(img.imread(img_path))\n",
        "    plt.axis('off')"
      ],
      "metadata": {
        "id": "9KDByW9ljNrl"
      },
      "id": "9KDByW9ljNrl",
      "execution_count": null,
      "outputs": []
    },
    {
      "cell_type": "code",
      "source": [
        "def fn_permutations(dictO_lists_to_permute):\n",
        "    permutations = [*ParameterGrid(dictO_lists_to_permute)]\n",
        "    return pd.DataFrame(permutations)"
      ],
      "metadata": {
        "id": "YJqlgi7HPrWW"
      },
      "id": "YJqlgi7HPrWW",
      "execution_count": null,
      "outputs": []
    },
    {
      "cell_type": "code",
      "source": [
        "def fn_dictO_proba_dist_continuous(continuous_vals, n_bins = 10):\n",
        "    start, stop = min(continuous_vals), max(continuous_vals)\n",
        "    bins = np.linspace(start, stop, n_bins).round(2)\n",
        "    s = pd.Series(continuous_vals)\n",
        "    z = df.age.groupby(pd.cut(s, bins=bins)).count()\n",
        "    z = dict(z/z.sum())\n",
        "    k = [str(i) for i in z.keys()]\n",
        "    v = np.array([i for i in z.values()]).round(2)\n",
        "    return {k: v for k, v in zip(k, v)}"
      ],
      "metadata": {
        "id": "9mVr9akIFDz8"
      },
      "id": "9mVr9akIFDz8",
      "execution_count": null,
      "outputs": []
    },
    {
      "cell_type": "code",
      "source": [
        "def fn_visualize_discrete_dist(dictO_proba_dist, alpha = 0.6, \n",
        "                               width = 4):    \n",
        "    d = dictO_proba_dist\n",
        "    kw = dict(alpha = alpha)\n",
        "    plt.figure(figsize = (width, 4))\n",
        "    plt.bar(d.keys(), d.values(), **kw)\n",
        "    plt.xticks(size = 13, rotation = 90)\n",
        "    plt.ylabel('PROBABILITY', fontsize=13)"
      ],
      "metadata": {
        "id": "HLyQVLwA5BHn"
      },
      "id": "HLyQVLwA5BHn",
      "execution_count": null,
      "outputs": []
    },
    {
      "cell_type": "code",
      "source": [
        "def fn_box(lower_vertex, upper_vertex, color = 'black', hide_axis = False):\n",
        "\n",
        "    lower_x, lower_y = lower_vertex\n",
        "    upper_x, upper_y = upper_vertex\n",
        "\n",
        "    plt.plot([lower_x, upper_x], [lower_y, lower_y], color = color)\n",
        "    plt.plot([lower_x, lower_x], [lower_y, upper_y], color = color)\n",
        "    plt.plot([upper_x, upper_x], [lower_y, upper_y], color = color)\n",
        "    plt.plot([lower_x, upper_x], [upper_y, upper_y], color = color)\n",
        "\n",
        "    plt.xlabel('X', fontsize = 18)\n",
        "    plt.ylabel('Y', fontsize = 18)\n",
        "\n",
        "    plt.axis('equal')\n",
        "    if hide_axis:\n",
        "       plt.axis('off')"
      ],
      "metadata": {
        "id": "ftzSvdao5BEU"
      },
      "id": "ftzSvdao5BEU",
      "execution_count": null,
      "outputs": []
    },
    {
      "cell_type": "code",
      "source": [
        "def fn_venn_mutually_exclusive():\n",
        "    intersection = 0 \n",
        "    z = venn2(subsets = (15, 5, intersection), set_labels = ('A', 'B'))\n",
        "    z.subset_labels[0].set_visible(False)\n",
        "    z.subset_labels[1].set_visible(False)\n",
        "    venn2_circles(subsets = (15, 5, intersection))\n",
        "    title = \"\"\"P(A or B) = P(A) + P(B)\"\"\"\n",
        "    plt.title(title)"
      ],
      "metadata": {
        "id": "7mzVIlIK4j8m"
      },
      "id": "7mzVIlIK4j8m",
      "execution_count": null,
      "outputs": []
    },
    {
      "cell_type": "code",
      "source": [
        "def fn_venn_mutually_non_exclusive(show_counts = False):\n",
        "    intersection = 2\n",
        "    z = venn2(subsets = (15, 5, intersection), set_labels = ('A', 'B'))\n",
        "    if not show_counts:\n",
        "        z.subset_labels[0].set_visible(False)\n",
        "        z.subset_labels[1].set_visible(False)\n",
        "        z.subset_labels[-1].set_visible(False)\n",
        "    venn2_circles(subsets = (15, 5, intersection))\n",
        "    title = \"\"\"P(A or B) = P(A) + P(B) - P(A ∩ B)\"\"\"\n",
        "    plt.title(title)"
      ],
      "metadata": {
        "id": "eIfl20-M4js4"
      },
      "id": "eIfl20-M4js4",
      "execution_count": null,
      "outputs": []
    },
    {
      "cell_type": "code",
      "source": [
        "def fn_venn_A_B(S, only_A, only_B, AB):\n",
        "    subsets = (only_A, only_B, AB)\n",
        "    venn2(subsets = subsets, set_labels = ('A', 'B'))\n",
        "    venn2_circles(subsets = subsets)\n",
        "    plt.title(f'\\nSample space S: {S}')\n"
      ],
      "metadata": {
        "id": "8RlK0doCj5jQ"
      },
      "id": "8RlK0doCj5jQ",
      "execution_count": null,
      "outputs": []
    },
    {
      "cell_type": "code",
      "source": [
        "def fn_venn_A_B_disjoint():\n",
        "    S, only_A, only_B, AB = 50, 7, 7, 0\n",
        "    subsets = (only_A, only_B, AB)\n",
        "    venn2(subsets = subsets, set_labels = ('A', 'B'))\n",
        "    venn2_circles(subsets = subsets)\n",
        "    plt.title(f'\\nSample space S: {S}')\n"
      ],
      "metadata": {
        "id": "qJmEnTly1yg_"
      },
      "id": "qJmEnTly1yg_",
      "execution_count": null,
      "outputs": []
    },
    {
      "cell_type": "code",
      "source": [
        "def fn_venn_A_B_non_disjoint():\n",
        "    S, only_A, only_B, AB = 50, 7, 4, 2\n",
        "    subsets = (only_A, only_B, AB)\n",
        "    venn2(subsets = subsets, set_labels = ('A', 'B'))\n",
        "    venn2_circles(subsets = subsets)\n",
        "    plt.title(f'\\nSample space S: {S}')\n"
      ],
      "metadata": {
        "id": "PWlR3_Nk1zaI"
      },
      "id": "PWlR3_Nk1zaI",
      "execution_count": null,
      "outputs": []
    },
    {
      "cell_type": "code",
      "source": [
        "def fn_venn_independence():\n",
        "    S, only_A, only_B, AB = 60, 20, 10, 20\n",
        "    subsets = (only_A, only_B, AB)\n",
        "    venn2(subsets = subsets, set_labels = ('A', 'B'))\n",
        "    venn2_circles(subsets = subsets)\n",
        "    plt.title(f'\\nSample space S: {S}')\n"
      ],
      "metadata": {
        "id": "KF4yRHmLypwh"
      },
      "id": "KF4yRHmLypwh",
      "execution_count": null,
      "outputs": []
    },
    {
      "cell_type": "code",
      "source": [
        "def fn_venn_conditional_independence(show_counts = False):\n",
        "    intersection = 2\n",
        "    z = venn2(subsets = (15, 10, intersection), set_labels = ('A', 'B'))\n",
        "    if not show_counts:\n",
        "        z.subset_labels[0].set_visible(False)\n",
        "        z.subset_labels[1].set_visible(False)\n",
        "        z.subset_labels[-1].set_visible(False)\n",
        "    venn2_circles(subsets = (15, 10, intersection))\n",
        "\n",
        "    plt.axhline(y=0.3, xmin=0, xmax=1, linewidth=2.25, linestyle = '--', c = 'k')\n",
        "    plt.text(-0.8, 0.32, 'C', fontsize = 16)\n",
        "    plt.text(-0.33, 0.32, '2', fontsize = 12)\n",
        "    plt.text(-0.33, 0.0, '20', fontsize = 12)\n",
        "    plt.text(0.35, 0.32, '2', fontsize = 12)\n",
        "    plt.text(0.35, 0.0, '10', fontsize = 12)\n",
        "    plt.text(0.04, 0.0, '20', fontsize = 12)\n",
        "\n",
        "    title = 'S = 60'\n",
        "    plt.title(title)"
      ],
      "metadata": {
        "id": "TSd70hgpkgIh"
      },
      "id": "TSd70hgpkgIh",
      "execution_count": null,
      "outputs": []
    },
    {
      "cell_type": "code",
      "source": [
        "def fn_venn_law_total_proba(show_counts = False):\n",
        "    intersection = 0\n",
        "    z = venn2(subsets = (15, 0, intersection), set_labels = ('', ''))\n",
        "              \n",
        "    if not show_counts:\n",
        "        z.subset_labels[0].set_visible(False)\n",
        "        z.subset_labels[1].set_visible(False)\n",
        "    venn2_circles(subsets = (15, 0, intersection))\n",
        "\n",
        "    plt.axhline(y=0.0, xmin=0, xmax=1, linewidth=2.25, linestyle = '-', c = 'k')\n",
        "    plt.axvline(x=0.2, ymin=0, ymax=1, linewidth=2.25, linestyle = '-', c = 'k')\n",
        "    plt.text(-0.6, 0.4, 'A1', fontsize = 13)\n",
        "    plt.text(0.7, 0.4, 'A2', fontsize = 13)\n",
        "    plt.text(-0.6, -0.55, 'A3', fontsize = 13)\n",
        "    plt.text(0.7, -0.55, 'A4', fontsize = 13)\n",
        "    plt.text(0.0, 0.25, 'B', fontsize = 13)\n",
        "\n",
        "    title = 'S'\n",
        "    plt.title(title, fontsize = 16)"
      ],
      "metadata": {
        "id": "GT8_kz2B2ym-"
      },
      "id": "GT8_kz2B2ym-",
      "execution_count": null,
      "outputs": []
    },
    {
      "cell_type": "code",
      "source": [
        "def fn_venn_bayes(show_counts = False):\n",
        "    intersection = 0\n",
        "    z = venn2(subsets = (15, 0, intersection), set_labels = ('', ''),\n",
        "              set_colors = ('blue', 'purple'))\n",
        "    if not show_counts:\n",
        "        z.subset_labels[0].set_visible(False)\n",
        "        z.subset_labels[1].set_visible(False)\n",
        "    venn2_circles(subsets = (15, 0, intersection))\n",
        "    plt.axvline(x=-0.06, ymin=0, ymax=1, linewidth=2.25, linestyle = '-', c = 'k')\n",
        "    plt.text(-0.8, -0.6, 'bag_1', fontsize = 13)\n",
        "    plt.text(0.8, -0.6, 'bag_2', fontsize = 13)\n",
        "    plt.text(0.1, 0.25, 'blue', fontsize = 13)\n",
        "    title1 = 'S = {bag_1, bag_2} or {red, blue}\\n'\n",
        "    plt.title(title1, fontsize = 16)"
      ],
      "metadata": {
        "id": "iB8El-3JLqiy"
      },
      "id": "iB8El-3JLqiy",
      "execution_count": null,
      "outputs": []
    },
    {
      "cell_type": "code",
      "source": [
        "def fn_joint_combinations():\n",
        "    dictO_lists_to_permute = {'prime': ['yes', 'no'],\n",
        "                            'div_2_3': ['div_both', 'not_div_both', 'div_3', 'div_2']}\n",
        "\n",
        "    permutations = [*ParameterGrid(dictO_lists_to_permute)]\n",
        "    return pd.DataFrame(permutations)"
      ],
      "metadata": {
        "id": "Wbe7TFAYF0Mp"
      },
      "id": "Wbe7TFAYF0Mp",
      "execution_count": null,
      "outputs": []
    },
    {
      "cell_type": "code",
      "source": [
        ""
      ],
      "metadata": {
        "id": "ROI-LAAfM34b"
      },
      "id": "ROI-LAAfM34b",
      "execution_count": null,
      "outputs": []
    },
    {
      "cell_type": "code",
      "source": [
        ""
      ],
      "metadata": {
        "id": "A4UT6-Hy-MQ0"
      },
      "id": "A4UT6-Hy-MQ0",
      "execution_count": null,
      "outputs": []
    },
    {
      "cell_type": "code",
      "source": [
        ""
      ],
      "metadata": {
        "id": "6MZmJXOj-MOb"
      },
      "id": "6MZmJXOj-MOb",
      "execution_count": null,
      "outputs": []
    },
    {
      "cell_type": "code",
      "source": [
        ""
      ],
      "metadata": {
        "id": "rUWSZMUm-MKM"
      },
      "id": "rUWSZMUm-MKM",
      "execution_count": null,
      "outputs": []
    },
    {
      "cell_type": "code",
      "source": [
        ""
      ],
      "metadata": {
        "id": "2tktog1B-MHO"
      },
      "id": "2tktog1B-MHO",
      "execution_count": null,
      "outputs": []
    },
    {
      "cell_type": "markdown",
      "source": [
        "# 1. SECTION 1 (INTRO): 10 mins"
      ],
      "metadata": {
        "id": "lXhSMcdZTBBM"
      },
      "id": "lXhSMcdZTBBM"
    },
    {
      "cell_type": "markdown",
      "source": [
        "##WHAT IS PROBABILTY THEORY ABOUT?\n",
        "\n",
        "To explore this question, we will first have to look at __PROCESSES__.  \n",
        "A process can be loosely defined as:    \n",
        "- \"An action or a series of actions taken, that result in some kind of __OUTCOME__.\"  \n",
        "\n",
        "Processes can be categorized into two kinds, based on their outcomes when subjected to **REPITITION**.  \n",
        "       \n",
        "They are:\n",
        "1. Deterministic processes.  \n",
        "2. Stochastic or Random processes.\n"
      ],
      "metadata": {
        "id": "G0DcUFOp5FcY"
      },
      "id": "G0DcUFOp5FcY"
    },
    {
      "cell_type": "markdown",
      "source": [
        "##WHAT ARE DETERMINISTIC PROCESSES?\n",
        "These are processes that yield the same outcome irrespective of the number of times they are repeated.  \n",
        "For example:    \n",
        "The chemical processes of combining 2 atoms of hydrogen with one atom of oxygen will always result in the production of water (H20). \n",
        "\n",
        "&nbsp; \n",
        "\n",
        "\n"
      ],
      "metadata": {
        "id": "FzJV7AAw600B"
      },
      "id": "FzJV7AAw600B"
    },
    {
      "cell_type": "markdown",
      "source": [
        "## WHAT ARE STOCHASTIC PROCESSES:  \n",
        "These are processes that can yield different outcomes each time they are repeated.  \n",
        "\n",
        "ie: Their outcomes cannot be deterministically predicted.  \n",
        "\n",
        "For example:   \n",
        "Consider the process of flipping a coin and noting which side is up.  \n",
        "The outcome for any particular repitition cannot be deterministically predicted.   \n",
        "\n",
        "Even though only 2 outcomes are possible (ie: either head or tails),    \n",
        "one cannot be completely sure what the outcome of any particular coin toss will be.    \n",
        "\n",
        "There is an element of RANDOMNESS inherent to the process, which produces an UNCERTANITY about the outcome.\n",
        "\n",
        "&nbsp;\n",
        "\n",
        "PROBABILITY THEORY is the study of stochastic processes.   \n",
        "It is a framework that helps us quantify the uncertainities in stochastic processes."
      ],
      "metadata": {
        "id": "VPFzdUAE6Svu"
      },
      "id": "VPFzdUAE6Svu"
    },
    {
      "cell_type": "code",
      "source": [
        ""
      ],
      "metadata": {
        "id": "QljRCWnDEXi_"
      },
      "id": "QljRCWnDEXi_",
      "execution_count": null,
      "outputs": []
    },
    {
      "cell_type": "code",
      "source": [
        ""
      ],
      "metadata": {
        "id": "37B--M1tQ4T3"
      },
      "id": "37B--M1tQ4T3",
      "execution_count": null,
      "outputs": []
    },
    {
      "cell_type": "code",
      "source": [
        ""
      ],
      "metadata": {
        "id": "MIlyt7V_Q4NO"
      },
      "id": "MIlyt7V_Q4NO",
      "execution_count": null,
      "outputs": []
    },
    {
      "cell_type": "code",
      "source": [
        ""
      ],
      "metadata": {
        "id": "2HwRqqHKQ4KI"
      },
      "id": "2HwRqqHKQ4KI",
      "execution_count": null,
      "outputs": []
    },
    {
      "cell_type": "markdown",
      "source": [
        "# SECTION 2: 45 mins"
      ],
      "metadata": {
        "id": "JbuvZdedTKn3"
      },
      "id": "JbuvZdedTKn3"
    },
    {
      "cell_type": "markdown",
      "source": [
        "##  WHAT IS PROBABILITY?\n",
        "Consider the stochastic process of blindly picking a ball from a bag containing 2 red balls and 1 blue ball.  \n",
        "What are the __chances__ of a red ball?  \n",
        "What are the __chances__ of a green ball?\n",
        "\n",
        "&nbsp; \n",
        "\n",
        "The number of red balls in the bag is greater than the number of blue balls.\n",
        "Hence, the __chances__ of picking a red ball is larger.\n",
        "\n",
        "The propotions of the red and blue balls in the bag affects the __chances__ of each of the outcomes.   \n",
        "\n",
        "We can intuitively say that the __chances__ of picking the red ball is two times more than that of picking the blue ball.\n",
        "\n",
        "&nbsp; \n",
        "\n",
        "## So how can we define probabilty?\n",
        "A simple way to define it would be: \n",
        "- __\"It is a measure that quantifies the chances of occurence of an EVENT.__\" \n",
        "\n",
        "Let us unpack this definition.   \n",
        "Within this statement are the following implications:\n",
        "- Repitition\n",
        "- Outcome of interest\n",
        "- Sample space\n",
        "\n",
        "Let us explore what they mean using the bag of balls example.  \n",
        "Imagine that we want to determine the probability of the red ball __without inspecting__ the contents of the bag.  \n",
        "&nbsp;\n",
        "\n",
        "\n",
        "   \n",
        "\n",
        "\n",
        "\n",
        "\n",
        "\n",
        "\n",
        "\n",
        "\n",
        "\n",
        "\n",
        "\n"
      ],
      "metadata": {
        "id": "5wtAYQJ0EYCi"
      },
      "id": "5wtAYQJ0EYCi"
    },
    {
      "cell_type": "markdown",
      "source": [
        "## To do this we conduct the following __EXPERIMENT__:\n",
        "- We repeat the process of blindly drawing a ball from the bag for a __suitable number__ of repititions.\n",
        "- Each repitition is identical. \n",
        "    - ie: We replace the ball back into the bag after each repitition.\n",
        "- A record of the outcomes of each repitition is maintained.  \n",
        "&nbsp;\n",
        "\n",
        "Once the chosen number of repititions are performed we inspect our record.    \n",
        "We determine the number of times the red ball was drawn.\n",
        "\n",
        "&nbsp;\n",
        "\n",
        "The probability of the red ball is defined to be:     \n",
        "P(red) = number of times the red ball occurred / number of repititions of the experiment.  \n",
        "\n",
        "ie: P(outcome of interest) = number of occurances of that outcome / number of repititions of the experiment.     \n",
        "ie: P(event) = number of occurances of the event/ number of repititions of the experiment.\n",
        "\n",
        "&nbsp;\n",
        "\n",
        "ie:  \n",
        " __Given the collection of outcomes of a repeated experiment,    \n",
        "the probabilty of an event,   \n",
        "is the fraction of those outcomes that are events.__\n",
        "\n",
        "&nbsp;\n",
        "\n",
        "Note that since probability of an event is a fraction: \n",
        "- The maximum value possible is 1.   \n",
        "ie: n_events = n_repititions\n",
        "- The minimum values possible is 0.   \n",
        "ie: n_events = 0\n",
        "\n",
        "\n",
        "\n",
        "\n",
        "      "
      ],
      "metadata": {
        "id": "jUVE6EtVDY32"
      },
      "id": "jUVE6EtVDY32"
    },
    {
      "cell_type": "markdown",
      "source": [
        "## So what is an EXPERIMENT ?\n",
        "An experiment is basically a stochastic process that is being studied.\n",
        "\n",
        "\n",
        "\n",
        "&nbsp;\n",
        "\n",
        "## What is an EVENT?\n",
        "In the most basic sense an __EVENT__ is an outcome or a set of outcomes of interest.    \n",
        "\n",
        "It could be defined as:  \n",
        "\n",
        "\"__An outcome that satifies some condition specified by the one conducting the experiment__\" \n",
        "\n",
        "We shall explore this definition in some more depth a little later.\n",
        "\n",
        "\n",
        "&nbsp;\n",
        "\n",
        "\n",
        "## What is a SAMPLE SPACE?\n",
        "The sample space is the __SET__ of all possible outcomes of an experment.\n",
        "It is denoted by \"S\" or \"Ω\".  \n",
        "For example:\n",
        "- The sample space of the bag of balls experiment would be S = {red, blue}\n",
        "- The sample space for a 6 faced dice roll experiment would be S = {1 ,2, 3, 4, 5, 6}\n",
        "\n",
        "\n",
        "&nbsp;\n",
        "\n",
        "## The sample space S, is a __SET__. What is a set?\n",
        "In the simplest sense, a set is a collection of unique items.  \n",
        "ie: It is a group of items without any dupicates.  \n",
        "It is represented by a capital letter.  \n",
        "We distinguish a set from other types of groupings by enclosing the elements of the set with Curly brackets.    \n",
        "Ex: S = {red, blue}  or S = {1 ,2, 3, 4, 5, 6}\n",
        "\n",
        "\n",
        "\n",
        "&nbsp;\n",
        "\n",
        "\n",
        "## What is the logic behind the previous experiment?\n",
        "\n",
        "The __calculation of probability__ in this experiment is based on the following logic:\n",
        "- If a stochastic process has been repeated a __\"suitable\"__ number of times.\n",
        "- Then the approximate chances of an event ocurring can be represented by:\n",
        "    - The proportion of the outcomes that are __events__.\n",
        "\n",
        "- Here the word \"suitable\" has importance:\n",
        "    - A repitition size of 5 would be inadequate.\n",
        "    - The larger the number of repititions, the more accurate the probability measurement will be. "
      ],
      "metadata": {
        "id": "ZvFv0O4rDr_I"
      },
      "id": "ZvFv0O4rDr_I"
    },
    {
      "cell_type": "markdown",
      "source": [
        "## So, what would be considered a \"suitable\" number of repititions?\n",
        "\n",
        "Lets us explore this question using a simple simulation of the bag of balls experiment.   \n",
        "The code shown below:\n",
        "1. Simulates the bag of ball experiment \n",
        "2. Allows us to compare P(red_ball) computed at various repitition sizes."
      ],
      "metadata": {
        "id": "vahyazO0xd-n"
      },
      "id": "vahyazO0xd-n"
    },
    {
      "cell_type": "code",
      "source": [
        "S = ['R', 'R', 'B'] # Assume that we do not know the proportions\n",
        "for i in  [5, 10, 25, 50, 100, 1000, 10_000, 50_000]:          \n",
        "    outcomes =  [np.random.choice(S) for j in range(i)]\n",
        "    n_events = len([i for i in outcomes if i == 'R'])\n",
        "    print(f'n_events/n_repititions  = {n_events}/{i} = {n_events / i}')"
      ],
      "metadata": {
        "colab": {
          "base_uri": "https://localhost:8080/"
        },
        "id": "HP7ztXGOqW_W",
        "outputId": "22e9585f-cabe-4d36-ba13-a1fa43c1d5a6"
      },
      "id": "HP7ztXGOqW_W",
      "execution_count": null,
      "outputs": [
        {
          "output_type": "stream",
          "name": "stdout",
          "text": [
            "n_events/n_repititions  = 5/5 = 1.0\n",
            "n_events/n_repititions  = 5/10 = 0.5\n",
            "n_events/n_repititions  = 16/25 = 0.64\n",
            "n_events/n_repititions  = 30/50 = 0.6\n",
            "n_events/n_repititions  = 65/100 = 0.65\n",
            "n_events/n_repititions  = 688/1000 = 0.688\n",
            "n_events/n_repititions  = 6658/10000 = 0.6658\n",
            "n_events/n_repititions  = 33398/50000 = 0.66796\n"
          ]
        }
      ]
    },
    {
      "cell_type": "markdown",
      "source": [
        "From the values seen above, we could __generalize__ that: \n",
        "- As the number of repititions are increased.. \n",
        "- The computed value of P(red_ball) gets closer & closer to..\n",
        "- The actual proportion of the red balls in the bag. ie: 2/3 = 0.6667\n",
        "\n",
        "\n",
        "\n",
        "\n"
      ],
      "metadata": {
        "id": "oslVAlK4oe_y"
      },
      "id": "oslVAlK4oe_y"
    },
    {
      "cell_type": "markdown",
      "source": [
        "\n",
        "The method of computation followed in the experiment above is called:\n",
        "- The FREQUENTIST approach for computing probabilities.   \n",
        "\n",
        "The frequentist approach basis its probabilty calculations on:  \n",
        "- The __frequency__ of occurance of an event, given a suitable number of repititions of the experiment.  \n",
        "  \n",
        "The generalization made earlier is in essence, the Frequentist paradigm.  \n",
        "As per this paradigm:\n",
        "- The emphirical probability will tend towards the theoretical probabilty as the number of repititions of the experiment tends to infinity.  \n",
        "&nbsp;\n",
        "\n",
        "## WHAT ARE EMPHIRICAL & THEORETICAL PROBABILITIES?\n",
        "1. The probability computed by repeating an experiment multiple times is called EMPIRICAL PROBABILITY.\n",
        "2. The probabilty calculated by using prior knowledge of the __PROBABILITY DISTRIBUTION__ of the  sample space, is called THEORETICAL PROBABILTY.\n"
      ],
      "metadata": {
        "id": "7fnuVwfiGln_"
      },
      "id": "7fnuVwfiGln_"
    },
    {
      "cell_type": "code",
      "source": [
        ""
      ],
      "metadata": {
        "id": "St9YElCMvfv5"
      },
      "id": "St9YElCMvfv5",
      "execution_count": null,
      "outputs": []
    },
    {
      "cell_type": "code",
      "source": [
        ""
      ],
      "metadata": {
        "id": "iQz0RGrrvfgj"
      },
      "id": "iQz0RGrrvfgj",
      "execution_count": null,
      "outputs": []
    },
    {
      "cell_type": "markdown",
      "source": [
        "In the previous defination for theoretical probability we used the term PROBABILITY DISTRIBUTION..\n",
        "\n",
        "## WHAT ARE PROBABILTY DISTRIBUTIONS?\n",
        "\n",
        "In the bag of balls experiment just conducted, we know that:\n",
        "- There are red balls and blue balls.\n",
        "    - This represents the sample space. ie S = {red, blue}\n",
        "- We also know that there are 2 red balls and 1 blue ball.\n",
        "    - This means that as the number of repititions of the experiment tends to infinity, the number of the red and blue balls that occur will reflect this proportion.    \n",
        "\n",
        "ie: The proportion red & blue balls  will be: {'red': 2/3, 'blue': 1/3}    \n",
        "ie: The total probabilty of the sample space (ie: 1) is distributed among the red & blue balls as shown: {'red': 2/3, 'blue': 1/3}\n",
        "\n",
        "&nbsp;\n",
        "\n",
        "The __Probability Distributions__ of a sample space or experiment is   \n",
        "basically an overview of    \n",
        "how the probabilty of occurance is distributed within the sample space.  \n",
        "\n",
        "For example consider the sample space of a six sided dice roll:    \n",
        "Distr_dice:  {1: 1/6, 2: 1/6, 3: 1/6, 4: 1/6, 5: 1/6, 6: 1/6}  \n",
        "ie: All outcomes in the sample space are equally likely or probable.\n",
        "\n",
        "&nbsp;\n",
        "\n",
        "\n",
        "\n",
        "Probabilty distributions is a much wider topic. \n",
        "It will be discussed in more detail in future lectures.  \n",
        "For now, it suffices for us to just have this fundamental understanding of what they are."
      ],
      "metadata": {
        "id": "bfI7AAb7zg4I"
      },
      "id": "bfI7AAb7zg4I"
    },
    {
      "cell_type": "code",
      "source": [
        ""
      ],
      "metadata": {
        "id": "gNZRTW0L2yFO"
      },
      "id": "gNZRTW0L2yFO",
      "execution_count": null,
      "outputs": []
    },
    {
      "cell_type": "code",
      "source": [
        ""
      ],
      "metadata": {
        "id": "rLURyFtIRVtM"
      },
      "id": "rLURyFtIRVtM",
      "execution_count": null,
      "outputs": []
    },
    {
      "cell_type": "markdown",
      "source": [
        "## Let us summarize what we have understood so far:\n",
        " - Deterministic & Stochastic processes.\n",
        " - Experiment, sample space, outcome, event.\n",
        " - Sets.\n",
        " - Theoretical & Empirical Probabilties.\n",
        " - Frequentist paradigm.\n",
        " - Probabilty distributions."
      ],
      "metadata": {
        "id": "-xcwIoSN9nPj"
      },
      "id": "-xcwIoSN9nPj"
    },
    {
      "cell_type": "code",
      "source": [
        ""
      ],
      "metadata": {
        "id": "yaw2wvJpQ1Ir"
      },
      "id": "yaw2wvJpQ1Ir",
      "execution_count": null,
      "outputs": []
    },
    {
      "cell_type": "code",
      "source": [
        ""
      ],
      "metadata": {
        "id": "2gEfXxlIQ1FY"
      },
      "id": "2gEfXxlIQ1FY",
      "execution_count": null,
      "outputs": []
    },
    {
      "cell_type": "code",
      "source": [
        ""
      ],
      "metadata": {
        "id": "VV4rlORDQ1CH"
      },
      "id": "VV4rlORDQ1CH",
      "execution_count": null,
      "outputs": []
    },
    {
      "cell_type": "code",
      "source": [
        ""
      ],
      "metadata": {
        "id": "alQTyqC1dyfG"
      },
      "id": "alQTyqC1dyfG",
      "execution_count": null,
      "outputs": []
    },
    {
      "cell_type": "markdown",
      "source": [
        "# SECTION 3: 30 mins"
      ],
      "metadata": {
        "id": "jDCmck7adqg5"
      },
      "id": "jDCmck7adqg5"
    },
    {
      "cell_type": "markdown",
      "source": [
        "## Let us now explore what events are in some more detail:\n",
        "\n",
        "Previously we defined an event as:  \n",
        "- __Given an experiment, an event is an outcome that satifies some condition specified by the one conducting the experiment__.  \n",
        "&nbsp;\n",
        "\n",
        "Let us explore this definition further.  \n",
        "\n",
        "Consider a slightly more complex version of the \"bag of balls\" experiment.   \n",
        "Say that the bag  contains 50 balls uniquely labelled 1 to 50.\n",
        "\n",
        "We randomly pick one ball from the bag.     \n",
        "What would be the sample space of this experiment?  \n",
        "\n",
        "- The sample space of this experiment would be the set of all possible outcomes.\n",
        "- Thus the sample space will be the set:\n",
        "- S = {1,2,3..50}\n",
        "\n",
        "\n",
        "\n",
        "\n",
        "\n",
        "\n",
        "\n",
        "  "
      ],
      "metadata": {
        "id": "D_QA_74qQ0Oe"
      },
      "id": "D_QA_74qQ0Oe"
    },
    {
      "cell_type": "markdown",
      "source": [
        "## Some examples of event conditions given the above sample space would be:\n",
        "An outcome is considered as an event if it satifies the condition that:\n",
        "1. The outcome number is even and less than 15. \n",
        "2. The outcome number is odd and less than 15. \n",
        "\n",
        "Lets denote the event set resulting from\n",
        "- The 1st condition as set A.  \n",
        "- The 2nd condition as set B.    \n",
        "\n",
        "Then:\n",
        "    "
      ],
      "metadata": {
        "id": "t-y4WE7U3oTO"
      },
      "id": "t-y4WE7U3oTO"
    },
    {
      "cell_type": "code",
      "source": [
        "S = set(range(1, 51))\n",
        "A = {i for i in S if i%2 == 0 and i < 15}\n",
        "B = {i for i in S if i%2 != 0 and i < 15}"
      ],
      "metadata": {
        "id": "HxRag6f9t45I"
      },
      "id": "HxRag6f9t45I",
      "execution_count": null,
      "outputs": []
    },
    {
      "cell_type": "code",
      "source": [
        "A, len(A)"
      ],
      "metadata": {
        "colab": {
          "base_uri": "https://localhost:8080/"
        },
        "id": "bjpkMohmuwer",
        "outputId": "55fcaecb-0173-4b48-da05-b8df3e367ef6"
      },
      "id": "bjpkMohmuwer",
      "execution_count": null,
      "outputs": [
        {
          "output_type": "execute_result",
          "data": {
            "text/plain": [
              "({2, 4, 6, 8, 10, 12, 14}, 7)"
            ]
          },
          "metadata": {},
          "execution_count": 19
        }
      ]
    },
    {
      "cell_type": "code",
      "source": [
        "B, len(B)"
      ],
      "metadata": {
        "colab": {
          "base_uri": "https://localhost:8080/"
        },
        "id": "y6t0vsVgnxo4",
        "outputId": "2c982c8e-8097-4fa3-c91a-08b4209aff18"
      },
      "id": "y6t0vsVgnxo4",
      "execution_count": null,
      "outputs": [
        {
          "output_type": "execute_result",
          "data": {
            "text/plain": [
              "({1, 3, 5, 7, 9, 11, 13}, 7)"
            ]
          },
          "metadata": {},
          "execution_count": 20
        }
      ]
    },
    {
      "cell_type": "markdown",
      "source": [
        "Thus probabilities of events from sets A & B are:"
      ],
      "metadata": {
        "id": "XXyOk7-Un2nT"
      },
      "id": "XXyOk7-Un2nT"
    },
    {
      "cell_type": "code",
      "source": [
        "P_A = len(A)/len(S)\n",
        "P_B = len(B)/len(S)\n",
        "\n",
        "P_A, P_B"
      ],
      "metadata": {
        "colab": {
          "base_uri": "https://localhost:8080/"
        },
        "id": "SEnEndrHvWvf",
        "outputId": "5aebe1d7-3103-4a8a-9719-f209877c8147"
      },
      "id": "SEnEndrHvWvf",
      "execution_count": null,
      "outputs": [
        {
          "output_type": "execute_result",
          "data": {
            "text/plain": [
              "(0.14, 0.14)"
            ]
          },
          "metadata": {},
          "execution_count": 21
        }
      ]
    },
    {
      "cell_type": "markdown",
      "source": [
        "Notice that event sets A & B:\n",
        "- Are __SUBSETS__ of S. ie: S completely contains sets A & B\n",
        "- Do not share any common elements between them.   \n",
        "    - Such sets are called __DISJOINT SETS__ or __MUTUALLY EXCLUSIVE SETS__\n",
        "\n"
      ],
      "metadata": {
        "id": "Kxys_VvXzuff"
      },
      "id": "Kxys_VvXzuff"
    },
    {
      "cell_type": "code",
      "source": [
        ""
      ],
      "metadata": {
        "id": "zkyhMcnXvac0"
      },
      "id": "zkyhMcnXvac0",
      "execution_count": null,
      "outputs": []
    },
    {
      "cell_type": "code",
      "source": [
        ""
      ],
      "metadata": {
        "id": "K2RIK9bAaxKJ"
      },
      "id": "K2RIK9bAaxKJ",
      "execution_count": null,
      "outputs": []
    },
    {
      "cell_type": "markdown",
      "source": [
        "## WHAT DO DISJOINT EVENTS SETS IMPLY?\n",
        "They imply that, given any particular repitition of the experiment,    \n",
        "the outcome will exclusively belong to only one event set.   \n",
        "\n",
        "So for the experiment just described, the outcomes can  either be A or B, not both.\n",
        "\n",
        "Sets and their subsets are best visualized using  __VENN DIAGRAMS__ as shown below: "
      ],
      "metadata": {
        "id": "AmzHLnOX2QFN"
      },
      "id": "AmzHLnOX2QFN"
    },
    {
      "cell_type": "code",
      "source": [
        "fn_venn_A_B_disjoint()"
      ],
      "metadata": {
        "colab": {
          "base_uri": "https://localhost:8080/",
          "height": 212
        },
        "id": "qFHLsB3OvaVW",
        "outputId": "99c3f621-8ff1-4f65-993d-9da67225958d"
      },
      "id": "qFHLsB3OvaVW",
      "execution_count": null,
      "outputs": [
        {
          "output_type": "display_data",
          "data": {
            "text/plain": [
              "<Figure size 432x288 with 1 Axes>"
            ],
            "image/png": "[encoded data removed]"
          },
          "metadata": {}
        }
      ]
    },
    {
      "cell_type": "markdown",
      "source": [
        "In the venn diagram above:\n",
        "- The sample space S, is represented by the space inside the white rectangle. \n",
        "- The spaces inside red and green circles represent event sets A & B.\n",
        "- The fact that there is no overlap between the circles representing A & B means that A & B are disjoint."
      ],
      "metadata": {
        "id": "qxkoAdYQpCMg"
      },
      "id": "qxkoAdYQpCMg"
    },
    {
      "cell_type": "code",
      "source": [
        ""
      ],
      "metadata": {
        "id": "4h8ygBEMRc8G"
      },
      "id": "4h8ygBEMRc8G",
      "execution_count": null,
      "outputs": []
    },
    {
      "cell_type": "code",
      "source": [
        ""
      ],
      "metadata": {
        "id": "zv2iETTFRc4s"
      },
      "id": "zv2iETTFRc4s",
      "execution_count": null,
      "outputs": []
    },
    {
      "cell_type": "markdown",
      "source": [
        "## Let us further explore events/event conditions:\n",
        "Consider the same example as above, but with 2 new event conditions.  \n",
        "\n",
        "An outcome is considered as an event if it satisfies the condition that::  \n",
        "1. It is divisible by 2 and lesser than 15.\n",
        "2. It is divisible by 3 and lesser than 15."
      ],
      "metadata": {
        "id": "UVXiVgx149tR"
      },
      "id": "UVXiVgx149tR"
    },
    {
      "cell_type": "markdown",
      "source": [
        "Lets denote the event set resulting from the 1st condition as set A.  \n",
        "Lets denote the event set resulting from the 2nd condition as set B.  \n",
        "Thus:"
      ],
      "metadata": {
        "id": "fkBbxdTmeK3b"
      },
      "id": "fkBbxdTmeK3b"
    },
    {
      "cell_type": "code",
      "source": [
        "S = set(range(1, 51))\n",
        "A = {i for i in S if i%2 == 0 and i < 15}\n",
        "B = {i for i in S if i%3 == 0 and i < 15}"
      ],
      "metadata": {
        "id": "AQrKIQnE480A"
      },
      "id": "AQrKIQnE480A",
      "execution_count": null,
      "outputs": []
    },
    {
      "cell_type": "code",
      "source": [
        "A, len(A)"
      ],
      "metadata": {
        "colab": {
          "base_uri": "https://localhost:8080/"
        },
        "id": "nsmBZuaGvaPI",
        "outputId": "476ba3ad-1741-4c84-d12a-66817d480494"
      },
      "id": "nsmBZuaGvaPI",
      "execution_count": null,
      "outputs": [
        {
          "output_type": "execute_result",
          "data": {
            "text/plain": [
              "({2, 4, 6, 8, 10, 12, 14}, 7)"
            ]
          },
          "metadata": {},
          "execution_count": 25
        }
      ]
    },
    {
      "cell_type": "code",
      "source": [
        "B, len(B)"
      ],
      "metadata": {
        "colab": {
          "base_uri": "https://localhost:8080/"
        },
        "id": "_goqsvN35c0V",
        "outputId": "1f87c5d2-f47c-4983-ee73-816b1eaa891c"
      },
      "id": "_goqsvN35c0V",
      "execution_count": null,
      "outputs": [
        {
          "output_type": "execute_result",
          "data": {
            "text/plain": [
              "({3, 6, 9, 12}, 4)"
            ]
          },
          "metadata": {},
          "execution_count": 26
        }
      ]
    },
    {
      "cell_type": "code",
      "source": [
        "P_A = len(A)/len(S)\n",
        "P_B = len(B)/len(S)\n",
        "\n",
        "P_A, P_B"
      ],
      "metadata": {
        "colab": {
          "base_uri": "https://localhost:8080/"
        },
        "id": "p5HK5WlE5cv7",
        "outputId": "88d6198d-c9c2-417b-d2b6-c74b80ec7fca"
      },
      "id": "p5HK5WlE5cv7",
      "execution_count": null,
      "outputs": [
        {
          "output_type": "execute_result",
          "data": {
            "text/plain": [
              "(0.14, 0.08)"
            ]
          },
          "metadata": {},
          "execution_count": 27
        }
      ]
    },
    {
      "cell_type": "markdown",
      "source": [
        "Notice that sets A and B have common elements between them.  \n",
        "This is because there are numbers that are divisible by both 2 and 3.  \n",
        "The elements common to both sets are:\n"
      ],
      "metadata": {
        "id": "sDWexX37gn38"
      },
      "id": "sDWexX37gn38"
    },
    {
      "cell_type": "code",
      "source": [
        "A & B    # ------ \"&\" is python's set intersection operator"
      ],
      "metadata": {
        "colab": {
          "base_uri": "https://localhost:8080/"
        },
        "id": "csj7HQHognWN",
        "outputId": "8a5426dc-b067-411d-8ad6-d543a0406e71"
      },
      "id": "csj7HQHognWN",
      "execution_count": null,
      "outputs": [
        {
          "output_type": "execute_result",
          "data": {
            "text/plain": [
              "{6, 12}"
            ]
          },
          "metadata": {},
          "execution_count": 28
        }
      ]
    },
    {
      "cell_type": "markdown",
      "source": [
        "Values/items common to 2 or more sets are called INTERSECTIONS.       \n",
        "The intersection of sets A and B is denoted as A ∩ B.    \n",
        "Thus:\n",
        "- A ∩ B = {6, 12, 18}      \n",
        "\n",
        "\n",
        "Note that: __A∩B and B∩A have the same meaning__\n",
        "\n",
        "\n",
        "\n"
      ],
      "metadata": {
        "id": "h7ywIwbkhKUw"
      },
      "id": "h7ywIwbkhKUw"
    },
    {
      "cell_type": "markdown",
      "source": [
        "Sets having intersections are called NON DISJOINT or NON MUTUALLY BEXCLUSIVE sets."
      ],
      "metadata": {
        "id": "cDrnWPH8jDYU"
      },
      "id": "cDrnWPH8jDYU"
    },
    {
      "cell_type": "code",
      "source": [
        ""
      ],
      "metadata": {
        "id": "LDuq4SEXgmqe"
      },
      "id": "LDuq4SEXgmqe",
      "execution_count": null,
      "outputs": []
    },
    {
      "cell_type": "code",
      "source": [
        ""
      ],
      "metadata": {
        "id": "Mg8ZdbKBzrkS"
      },
      "id": "Mg8ZdbKBzrkS",
      "execution_count": null,
      "outputs": []
    },
    {
      "cell_type": "markdown",
      "source": [
        "## Let us summarize what we have understood so far:\n",
        "\n",
        "- Event conditions.\n",
        "- Subsets.\n",
        "- Intersection of sets.\n",
        "- Disjoint & Non disjoint sets.\n",
        "- Event conditions decide whether sets can be disjoint or not."
      ],
      "metadata": {
        "id": "FG3SR2lZ5Tum"
      },
      "id": "FG3SR2lZ5Tum"
    },
    {
      "cell_type": "code",
      "source": [
        ""
      ],
      "metadata": {
        "id": "81bUvthLSTn9"
      },
      "id": "81bUvthLSTn9",
      "execution_count": null,
      "outputs": []
    },
    {
      "cell_type": "code",
      "source": [
        ""
      ],
      "metadata": {
        "id": "jRJbgBU3STiI"
      },
      "id": "jRJbgBU3STiI",
      "execution_count": null,
      "outputs": []
    },
    {
      "cell_type": "code",
      "source": [
        ""
      ],
      "metadata": {
        "id": "14Rj96E9zrUe"
      },
      "id": "14Rj96E9zrUe",
      "execution_count": null,
      "outputs": []
    },
    {
      "cell_type": "code",
      "source": [
        ""
      ],
      "metadata": {
        "id": "mqB_Mq5sSSmU"
      },
      "id": "mqB_Mq5sSSmU",
      "execution_count": null,
      "outputs": []
    },
    {
      "cell_type": "markdown",
      "source": [
        "# SECTION 4: 45 mins"
      ],
      "metadata": {
        "id": "xi9U1-m0TwAf"
      },
      "id": "xi9U1-m0TwAf"
    },
    {
      "cell_type": "markdown",
      "source": [
        "\n",
        "\n",
        "## WHAT DO NON DISJOINT SETS IMPLY?\n",
        "They imply that, given any particular repitition of the experiment, the outcome:\n",
        "- Could exclusively belong to only one event set  \n",
        "- Could belong to multiple sets.\n",
        "\n",
        "They also imply the existence of __CONDITIONAL PROBABILITIES__.\n",
        "\n",
        "\n",
        "\n"
      ],
      "metadata": {
        "id": "NV5Hbi5vkBwL"
      },
      "id": "NV5Hbi5vkBwL"
    },
    {
      "cell_type": "markdown",
      "source": [
        "## WHAT ARE CONDITIONAL PROBABILITIES?\n",
        "Let us explore what conditional probabilities are with reference to the Venn diagram of this experiment."
      ],
      "metadata": {
        "id": "jLYIEEpwbwgq"
      },
      "id": "jLYIEEpwbwgq"
    },
    {
      "cell_type": "code",
      "source": [
        "fn_venn_A_B_non_disjoint()"
      ],
      "metadata": {
        "colab": {
          "base_uri": "https://localhost:8080/",
          "height": 277
        },
        "id": "Dz6SczukkLL7",
        "outputId": "cc4a0cde-b6cf-4a09-e988-2ab6e491366e"
      },
      "id": "Dz6SczukkLL7",
      "execution_count": null,
      "outputs": [
        {
          "output_type": "display_data",
          "data": {
            "text/plain": [
              "<Figure size 432x288 with 1 Axes>"
            ],
            "image/png": "[encoded data removed]"
          },
          "metadata": {}
        }
      ]
    },
    {
      "cell_type": "markdown",
      "source": [
        "The yellow region of overlap between the 2 circles representing sets A & B indicates that :\n",
        "- Event sets A & B have common elements. ie: A ∩ B exists.\n",
        "- The common elements {6, 12, 18} are contained within this yellow region/space.\n",
        "\n",
        "Now imagine that we have drawn a ball from the bag.\n",
        "- Lets say it turns out to belong to set A (ie: divisible by 2)\n",
        "- What is the probability that this ball belongs to set B also? (ie: divisible by 3 also)\n",
        "\n",
        "In other words:\n",
        "- What is the probability that a ball belongs to set B given the condition that it belongs to set A?\n",
        "- Or in simpler terms: What is the probability of B given A. \n",
        "- Or what is P(B|A) - - - - (set notation for conditional probabilty). \n",
        "\n",
        "&nbsp;\n",
        "\n",
        "\n",
        "In the example above we can easily compute this by:\n",
        "- Finding out what proportion of set A does A ∩ B occupy.\n",
        "- ie: Assuming A as the sample space and then finding out P(B)\n",
        "\n",
        "\n",
        "Thus:\n",
        "- P(B|A) = len(A∩B) / len(A)   \n",
        "\n",
        "Note that his nothing but : P(A∩B) / P(A)   \n",
        "Because: \n",
        "- P(A∩B) = len(A∩B) / len(S)\n",
        "- P(A) = len(A) / len(S)\n",
        "\n",
        "&nbsp;\n",
        "\n",
        "\n",
        "- Hence: P(B|A) = P(A∩B) / P(A)\n",
        "- Similarly: P(A|B) = P(A∩B) / P(B)\n",
        "\n",
        "\n"
      ],
      "metadata": {
        "id": "kIhoOETAvCYd"
      },
      "id": "kIhoOETAvCYd"
    },
    {
      "cell_type": "code",
      "source": [
        "P_B_given_A = len(A & B)/len(A)\n",
        "P_A_given_B = len(A & B)/len(B)\n",
        "\n",
        "P_B_given_A, P_A_given_B"
      ],
      "metadata": {
        "colab": {
          "base_uri": "https://localhost:8080/"
        },
        "id": "bAU7teoCrug6",
        "outputId": "50c123cd-36b9-436b-eeb0-c2474d1832ed"
      },
      "id": "bAU7teoCrug6",
      "execution_count": null,
      "outputs": [
        {
          "output_type": "execute_result",
          "data": {
            "text/plain": [
              "(0.2857142857142857, 0.5)"
            ]
          },
          "metadata": {},
          "execution_count": 30
        }
      ]
    },
    {
      "cell_type": "code",
      "source": [
        ""
      ],
      "metadata": {
        "id": "GJ-mvGbjMIa8"
      },
      "id": "GJ-mvGbjMIa8",
      "execution_count": null,
      "outputs": []
    },
    {
      "cell_type": "code",
      "source": [
        ""
      ],
      "metadata": {
        "id": "Jmhb8HsrnBBe"
      },
      "id": "Jmhb8HsrnBBe",
      "execution_count": null,
      "outputs": []
    },
    {
      "cell_type": "code",
      "source": [
        ""
      ],
      "metadata": {
        "id": "u2oZycirMIXj"
      },
      "id": "u2oZycirMIXj",
      "execution_count": null,
      "outputs": []
    },
    {
      "cell_type": "markdown",
      "source": [
        "## WHAT IS THE PROBABILITY OF A ∩ B? (THE MULTIPLICATION RULE)\n",
        "The probability of A∩B can be got by rearranging the expression for conditional probability as shown below:\n",
        "\n",
        "P(A∩B) = P(A)P(B|A)  = P(B)P(A|B)\n",
        "\n",
        "This expression is called the MULTIPLICATION RULE.   \n",
        "It is used to determine intersectional probabilities, given the actual and conditional probabilities of the sets in question.\n",
        "\n",
        "\n",
        "\n",
        "\n",
        "\n",
        "\n",
        "\n"
      ],
      "metadata": {
        "id": "7ucz_t-91TRv"
      },
      "id": "7ucz_t-91TRv"
    },
    {
      "cell_type": "code",
      "source": [
        ""
      ],
      "metadata": {
        "id": "CUoH3j1fxY3n"
      },
      "id": "CUoH3j1fxY3n",
      "execution_count": null,
      "outputs": []
    },
    {
      "cell_type": "code",
      "source": [
        ""
      ],
      "metadata": {
        "id": "BBAc1i1b2eEp"
      },
      "id": "BBAc1i1b2eEp",
      "execution_count": null,
      "outputs": []
    },
    {
      "cell_type": "markdown",
      "source": [
        "## WHAT IF P(B|A) = P(B)?\n",
        "This means that P(B) is unaffected by the occurance of event A.  \n",
        "ie: P(B) remains the same given  event A.  \n",
        "In such case we say event B is INDEPENDENT of event A.\n",
        "\n",
        "\n"
      ],
      "metadata": {
        "id": "h0gyg2DGcCgh"
      },
      "id": "h0gyg2DGcCgh"
    },
    {
      "cell_type": "code",
      "source": [
        ""
      ],
      "metadata": {
        "id": "XrVk8ewhxZwP"
      },
      "id": "XrVk8ewhxZwP",
      "execution_count": null,
      "outputs": []
    },
    {
      "cell_type": "markdown",
      "source": [
        "## LET US EXPLORE INDEPENDENCE WRT DISJOINT & NON DISJOINT SETS:\n",
        "Consider the disjoint sets A & B shown below."
      ],
      "metadata": {
        "id": "iVq39bNo82dN"
      },
      "id": "iVq39bNo82dN"
    },
    {
      "cell_type": "code",
      "source": [
        "fn_venn_A_B_disjoint()"
      ],
      "metadata": {
        "colab": {
          "base_uri": "https://localhost:8080/",
          "height": 212
        },
        "id": "e5fHUyxM9UP6",
        "outputId": "02d9b6c7-e789-4085-c4d7-c2f62306c8f0"
      },
      "id": "e5fHUyxM9UP6",
      "execution_count": null,
      "outputs": [
        {
          "output_type": "display_data",
          "data": {
            "text/plain": [
              "<Figure size 432x288 with 1 Axes>"
            ],
            "image/png": "[encoded data removed]"
          },
          "metadata": {}
        }
      ]
    },
    {
      "cell_type": "markdown",
      "source": [
        "P(B) = 7/50   \n",
        "But P(B|A) = 0.  \n",
        "Hence B is not independent given A.  \n",
        "\n",
        "Now, consider the non disjoint sets given below."
      ],
      "metadata": {
        "id": "FRi5mWdn9uEF"
      },
      "id": "FRi5mWdn9uEF"
    },
    {
      "cell_type": "code",
      "source": [
        "fn_venn_A_B_non_disjoint()"
      ],
      "metadata": {
        "colab": {
          "base_uri": "https://localhost:8080/",
          "height": 277
        },
        "id": "YbWkNqRe9UMh",
        "outputId": "e742b981-9be3-4820-ef8c-96cc8c41bbd9"
      },
      "id": "YbWkNqRe9UMh",
      "execution_count": null,
      "outputs": [
        {
          "output_type": "display_data",
          "data": {
            "text/plain": [
              "<Figure size 432x288 with 1 Axes>"
            ],
            "image/png": "[encoded data removed]"
          },
          "metadata": {}
        }
      ]
    },
    {
      "cell_type": "markdown",
      "source": [
        "P(B) = 6/50,   \n",
        "But P(B|A) = 2/7\n",
        "\n",
        "Hence B is not independent given A."
      ],
      "metadata": {
        "id": "fru4Zc66-nKx"
      },
      "id": "fru4Zc66-nKx"
    },
    {
      "cell_type": "code",
      "source": [
        ""
      ],
      "metadata": {
        "id": "9zBlZHOa_p5Y"
      },
      "id": "9zBlZHOa_p5Y",
      "execution_count": null,
      "outputs": []
    },
    {
      "cell_type": "code",
      "source": [
        ""
      ],
      "metadata": {
        "id": "zjKblEOr_pqs"
      },
      "id": "zjKblEOr_pqs",
      "execution_count": null,
      "outputs": []
    },
    {
      "cell_type": "markdown",
      "source": [
        "## Can P(B|A) be = P(B)?\n",
        "Yes this can occur in case of __PARALLEL EXPERIMENTS__ .  \n",
        "ie: An experiment where 2 or more sub experiments are conducted independent of each other.\n",
        "\n",
        "Consider another version of the bag of balls experiment.   \n",
        "Instead of just one bag we have 2 bags with balls 1 to 50 each.  \n",
        "\n",
        "Lets say we draw a ball from bag 1 and it turns out to belong to set A (sub experiment 1).  \n",
        "Does this affect the probability of drawing a ball belonging to set B from bag 2 ? (sub experiment 2) \n",
        "\n",
        "The answer is no. Sub experiments 1 and 2 are completely independent of each other.\n",
        "\n",
        "ie: \n",
        "- P(B2|A1) = P(B2)  \n",
        "- P(A2|B1) = P(A2)   \n",
        "\n",
        "We will explore Parallel experiments  in some more depth further along the lecture."
      ],
      "metadata": {
        "id": "KEfNl7FG_XcK"
      },
      "id": "KEfNl7FG_XcK"
    },
    {
      "cell_type": "code",
      "source": [
        ""
      ],
      "metadata": {
        "id": "Z2pU66c99UIs"
      },
      "id": "Z2pU66c99UIs",
      "execution_count": null,
      "outputs": []
    },
    {
      "cell_type": "code",
      "source": [
        ""
      ],
      "metadata": {
        "id": "7z0ycbwnr4VG"
      },
      "id": "7z0ycbwnr4VG",
      "execution_count": null,
      "outputs": []
    },
    {
      "cell_type": "code",
      "source": [
        ""
      ],
      "metadata": {
        "id": "n96XOPxVr34e"
      },
      "id": "n96XOPxVr34e",
      "execution_count": null,
      "outputs": []
    },
    {
      "cell_type": "markdown",
      "source": [
        "CAN SIMPLE (NON PARALLEL) EXPERIMENTS HAVE INDEPENDENT EVENTS?  \n",
        "\n",
        "Yes this can occur among non disjoint sets if:\n",
        " - len(A∩B) = (len(A) * len(B)) / len(S)\n",
        "\n",
        "Consider the venn diagram of the non disjoint sets A and B as shown below:\n"
      ],
      "metadata": {
        "id": "OKws8CJdEEN6"
      },
      "id": "OKws8CJdEEN6"
    },
    {
      "cell_type": "code",
      "source": [
        "fn_venn_independence()"
      ],
      "metadata": {
        "colab": {
          "base_uri": "https://localhost:8080/",
          "height": 280
        },
        "id": "xSyBTTt6E2Sa",
        "outputId": "70e03a87-3e82-4050-f385-ac01b1bdc735"
      },
      "id": "xSyBTTt6E2Sa",
      "execution_count": null,
      "outputs": [
        {
          "output_type": "display_data",
          "data": {
            "text/plain": [
              "<Figure size 432x288 with 1 Axes>"
            ],
            "image/png": "[encoded data removed]"
          },
          "metadata": {}
        }
      ]
    },
    {
      "cell_type": "markdown",
      "source": [
        "P(B) = 30/60 = 1/2  \n",
        "P(B|A) = 20/40 = 1/2   \n",
        "\n",
        "P(A) = 40/60 = 2/3   \n",
        "P(A|B) = 20/30 = 2/3    \n",
        "\n",
        "This is because len(A∩B) = (len(A) * len(B)) / len(S)\n"
      ],
      "metadata": {
        "id": "eUSGTRg7zPO4"
      },
      "id": "eUSGTRg7zPO4"
    },
    {
      "cell_type": "code",
      "source": [
        ""
      ],
      "metadata": {
        "id": "obcg97t2E2Kr"
      },
      "id": "obcg97t2E2Kr",
      "execution_count": null,
      "outputs": []
    },
    {
      "cell_type": "code",
      "source": [
        ""
      ],
      "metadata": {
        "id": "A_LsbQORh7S8"
      },
      "id": "A_LsbQORh7S8",
      "execution_count": null,
      "outputs": []
    },
    {
      "cell_type": "code",
      "source": [
        ""
      ],
      "metadata": {
        "id": "lLcwZm9fh7PC"
      },
      "id": "lLcwZm9fh7PC",
      "execution_count": null,
      "outputs": []
    },
    {
      "cell_type": "markdown",
      "source": [
        "Are there any other cases where a simple experiment can have independent events?\n",
        "\n",
        "Yes there is one more case where this is possible.    \n",
        "\n",
        "That is if non disjoint sets A and B are __conditionally independent__.\n",
        "\n",
        "\n"
      ],
      "metadata": {
        "id": "3NvTDdhj26qV"
      },
      "id": "3NvTDdhj26qV"
    },
    {
      "cell_type": "markdown",
      "source": [
        "##  WHAT IS CONDITIONAL INDEPEDENCE?\n",
        "Consider the venn diagram shown below."
      ],
      "metadata": {
        "id": "ui6VGKR-rmpm"
      },
      "id": "ui6VGKR-rmpm"
    },
    {
      "cell_type": "code",
      "source": [
        "fn_venn_conditional_independence()"
      ],
      "metadata": {
        "colab": {
          "base_uri": "https://localhost:8080/",
          "height": 264
        },
        "id": "phLp62Io5Hyd",
        "outputId": "031de3a5-8f01-43fe-c7b5-78b900f153e9"
      },
      "id": "phLp62Io5Hyd",
      "execution_count": null,
      "outputs": [
        {
          "output_type": "display_data",
          "data": {
            "text/plain": [
              "<Figure size 432x288 with 1 Axes>"
            ],
            "image/png": "[encoded data removed]"
          },
          "metadata": {}
        }
      ]
    },
    {
      "cell_type": "markdown",
      "source": [
        "Let set C be all elements above line C.    \n",
        "As can be seen A ∩ C = 2 and B ∩ C = 2.  \n",
        "\n",
        "Now:      \n",
        "P(B) = 32/60 = 0.5333      \n",
        "P(B|A) = 20/42 = 0.4762     \n",
        "\n",
        "But given the condition that only elemnts not belonging to C are considered:    \n",
        "P(B) = 30/60 = 1/2       \n",
        "P(B|A) = 20/40 = 1/2\n",
        "\n",
        "Similarly:    \n",
        "P(A) = 40/60 = 2/3     \n",
        "P(A|B) = 20/30 = 2/3\n",
        "\n",
        "These kind of events are called __conditionally independent__ events.   \n",
        "\n",
        "Conditional probability is possible if there are some conditions,    \n",
        "which if applied,    \n",
        "changes the proportions of A & B such that:    \n",
        "\n",
        "len(A∩B) = (len(A) * len(B)) / len(S)  \n",
        "\n",
        "Note that conditional independence is represented as:   \n",
        "P(A | B,C) = P(A)    \n",
        "Where C represents the condition that creates independence. "
      ],
      "metadata": {
        "id": "7DmVF1Kr62Hc"
      },
      "id": "7DmVF1Kr62Hc"
    },
    {
      "cell_type": "code",
      "source": [
        ""
      ],
      "metadata": {
        "id": "OdYnU6Yj7Fty"
      },
      "id": "OdYnU6Yj7Fty",
      "execution_count": null,
      "outputs": []
    },
    {
      "cell_type": "code",
      "source": [
        ""
      ],
      "metadata": {
        "id": "0aADqaUNqt9z"
      },
      "id": "0aADqaUNqt9z",
      "execution_count": null,
      "outputs": []
    },
    {
      "cell_type": "markdown",
      "source": [
        "Are there any other forms of conditional probabilities?   \n",
        "Yes there is one other kind - __Sequential Conditional Probability__.  \n",
        "\n",
        "## WHAT ARE SEQUENTIAL CONDITIONAL PROBABILITIES?\n",
        "Consider the 2 red - 1 blue, balls in bag experiment.  \n",
        "Say that we draw a ball from the bag and it turns out to be a red ball.  \n",
        "What is the probability that the next ball picked will be blue?   \n",
        "\n",
        "Since the first ball is not put back into the bag,   \n",
        "the sample space of the experiment is reduced     \n",
        "and hence the probabilities also change.  \n",
        "\n",
        "So P(Blue) = 1/3 and P(Blue|Red) = 1/2   \n",
        "\n",
        "We will explore Sequential experiments in some more depth further along the lecture.\n",
        "\n",
        "\n"
      ],
      "metadata": {
        "id": "ae9m2v2Kn1FQ"
      },
      "id": "ae9m2v2Kn1FQ"
    },
    {
      "cell_type": "code",
      "source": [
        ""
      ],
      "metadata": {
        "id": "GsnsF0YvE4bR"
      },
      "id": "GsnsF0YvE4bR",
      "execution_count": null,
      "outputs": []
    },
    {
      "cell_type": "code",
      "source": [
        ""
      ],
      "metadata": {
        "id": "fEsaFPrroceB"
      },
      "id": "fEsaFPrroceB",
      "execution_count": null,
      "outputs": []
    },
    {
      "cell_type": "code",
      "source": [
        ""
      ],
      "metadata": {
        "id": "oQ138YIpocYx"
      },
      "id": "oQ138YIpocYx",
      "execution_count": null,
      "outputs": []
    },
    {
      "cell_type": "markdown",
      "source": [
        "## Let us summarize what we have understood so far:\n",
        "- Conditional Probability\n",
        "- Independent and dependent events.\n",
        "- Parallel experiments are independent of each other.\n",
        "- Disjoint sets are not independent.\n",
        "- Non disjoint sets can be independent or dependent depending on:\n",
        "    - If len(A∩B) = (len(A) * len(B)) / len(S)  \n",
        "- Non disjoint sets can be conditionally independent.\n",
        "    - P(A | B,C) = P(A)\n",
        "- Multiplication rule for finding set intersections:       \n",
        "ie: Probabillity of Outcomes that satify the conditions of both - events A & B.  \n",
        "    - P(A∩B) = P(B) P(A|B) = P(A) P(B|A)\n",
        "- Sequential experiments have Conditional Probabilities. "
      ],
      "metadata": {
        "id": "aYrD8oUXUdy3"
      },
      "id": "aYrD8oUXUdy3"
    },
    {
      "cell_type": "code",
      "source": [
        ""
      ],
      "metadata": {
        "id": "rx_Y_2fC5cqg"
      },
      "id": "rx_Y_2fC5cqg",
      "execution_count": null,
      "outputs": []
    },
    {
      "cell_type": "code",
      "source": [
        " "
      ],
      "metadata": {
        "id": "NTnFsXVW7T0h"
      },
      "id": "NTnFsXVW7T0h",
      "execution_count": null,
      "outputs": []
    },
    {
      "cell_type": "code",
      "source": [
        ""
      ],
      "metadata": {
        "id": "9T4T2MRD3N9R"
      },
      "id": "9T4T2MRD3N9R",
      "execution_count": null,
      "outputs": []
    },
    {
      "cell_type": "code",
      "source": [
        ""
      ],
      "metadata": {
        "id": "fI3wiBD0cf0p"
      },
      "id": "fI3wiBD0cf0p",
      "execution_count": null,
      "outputs": []
    },
    {
      "cell_type": "markdown",
      "source": [
        "# SECTION 5: 30 mins\n",
        "\n",
        "In the previous section we discussed about probabilities for intersection of sets,    \n",
        "but what about probabilities for set unions?"
      ],
      "metadata": {
        "id": "O3PdhAciUhPr"
      },
      "id": "O3PdhAciUhPr"
    },
    {
      "cell_type": "markdown",
      "source": [
        "## WHAT IS THE PROBABILITY FOR A ∪ B?\n",
        "\n",
        "Consider the venn diagram shown below:\n"
      ],
      "metadata": {
        "id": "_7elq5Do1XOM"
      },
      "id": "_7elq5Do1XOM"
    },
    {
      "cell_type": "code",
      "source": [
        "fn_venn_A_B_non_disjoint()"
      ],
      "metadata": {
        "colab": {
          "base_uri": "https://localhost:8080/",
          "height": 277
        },
        "id": "9LA4GQvK7C2v",
        "outputId": "3bfcb1b4-2a5d-4681-cf91-a039f055cbc4"
      },
      "id": "9LA4GQvK7C2v",
      "execution_count": null,
      "outputs": [
        {
          "output_type": "display_data",
          "data": {
            "text/plain": [
              "<Figure size 432x288 with 1 Axes>"
            ],
            "image/png": "[encoded data removed]"
          },
          "metadata": {}
        }
      ]
    },
    {
      "cell_type": "markdown",
      "source": [
        "The union of 2 sets mean that the two sets are merged into one set.  \n",
        "So the probability of an even that belongs to A∪B is: (7+2+4)/50 = 13/50  \n",
        "ie: P(A∪B) = total number of __unique elements__ when sets A & B are combined / size of sample space.  \n",
        "\n",
        "Total number of unique elements when sets A & B are combined  = len(A) + len(B) - len(A∩B)   \n",
        "Hence P(A∪B) = (len(A) + len(B) - len(A∩B)) / len(S)  \n",
        "ie: P(A∪B) = len(A)/len(S) + len(B)/len(S) - len(A∩B)/len(S)\n",
        "\n",
        "&nbsp;\n",
        "\n",
        "ie: __P(A∪B) = P(A) + P(B) - P(A∩B)__ \n",
        "\n",
        "&nbsp;\n",
        "\n",
        "This is called the __ADDITION RULE__ of Probability.  \n",
        "Note that in the above equation:\n",
        "- P(A∩B) will be  = 0 for disjoint sets.\n",
        "- P(A∩B) will be > 0 for non disjoint sets.\n",
        "- P(A∩B) will be = P(A) P(B|A) = P(B) P(A|B) if A & B are dependent events\n",
        "- P(A∩B) will be = P(A) P(B) if A & B are independent events"
      ],
      "metadata": {
        "id": "4K0cqIup7a2Y"
      },
      "id": "4K0cqIup7a2Y"
    },
    {
      "cell_type": "code",
      "source": [
        ""
      ],
      "metadata": {
        "id": "QUpe0EHP7T5E"
      },
      "id": "QUpe0EHP7T5E",
      "execution_count": null,
      "outputs": []
    },
    {
      "cell_type": "code",
      "source": [
        ""
      ],
      "metadata": {
        "id": "qSc9DXOaGTZR"
      },
      "id": "qSc9DXOaGTZR",
      "execution_count": null,
      "outputs": []
    },
    {
      "cell_type": "markdown",
      "source": [
        "In the discussions had till now we have explained the basics of probability theory    \n",
        "using variations of the bag of balls experiment.    \n",
        "This helped us get a good intuitive understanding of the different types of probabilties        \n",
        "and the respective calculations involved.   \n",
        "Now let us formally explore the laws/axioms of probabilty.  \n",
        "\n",
        "\n",
        "\n",
        "## AXIOMS OF PROBABILITY:\n",
        "There are just __3 axioms of probabity__, they are:\n",
        "1. Non Negativity: P(any_event) >= 0.    \n",
        "\n",
        "- This is another way of saying that the concept of negative probability does not exist.\n",
        "\n",
        "\n",
        "\n",
        "\n",
        "2. Normalization: P(S) = 1.  \n",
        "\n",
        "- This is another way of saying that the probability that an event is part of the sample space is  always 1.\n",
        "\n",
        "\n",
        "\n",
        "3. Additive law:  \n",
        "If A ∩ B = {∅},&nbsp; then P(A ∪ B) = P(A) + P(B)  \n",
        "Where:  \n",
        "- {∅} signifies a Null or Empty set. ie: A & B are disjoint\n",
        "\n",
        "Note that:\n",
        "- (A ∪ B) is synonymous with (A or B)\n",
        "- (A ∩ B) is synonymous with (A & B)  \n"
      ],
      "metadata": {
        "id": "vCFF_aLSXoes"
      },
      "id": "vCFF_aLSXoes"
    },
    {
      "cell_type": "markdown",
      "source": [
        "## IMPLICATIONS OF THE PROBABILITY AXIOMS:\n",
        "The probability axioms are the basic rules of probability theory.   \n",
        "As was seen, they are suprising few.   \n",
        "But they imply some interesting and sometimes obvious properties    \n",
        "which we shall now discuss.  \n",
        "\n",
        "Given an outcome set A:\n",
        "1. P(A) <= 1\n",
        "2. P(∅) = 0\n",
        "- ie: Probability values are always between 0 & 1. \n",
        "- P(1) signifies certainity of an event happening \n",
        "- P(0) signifies certainity of an event not happening.\n",
        "- P(0.5) signifies complete uncertainity about the event's occurance.    \n",
        "\n",
        "3. P(A) + P($A^C$) = 1   \n",
        "where $A^C$ refers to the compliment of set A. It is the set of all outcomes in S that does not belong to A.\n",
        "\n",
        "4. Given that:  \n",
        "A1, A2, A3 ....A_n  are n disjoint sets where   \n",
        "each of them represents outcomes      \n",
        "that satisfy different event conditions    \n",
        "in the same sample space S, then:  \n",
        " \n",
        "- P(A1 ∪ A2 ∪ A3 ... ∪ An) = P(A1) + P(A2) + P(A3) ... + P(An)   \n",
        "(This is the generalization of the 3rd axiom).\n",
        "\n",
        "5. Give outcome sets A & B belonging to the same sample space S:   \n",
        "If A is a subset of B (ie:A ⊆ B), then P(A) <= P(B)\n",
        "\n",
        "6. Give outcome sets A & B belonging to the same sample space S and which are mutually non exclusive   \n",
        "(ie: A ∩ B != {∅}),  \n",
        "then:   \n",
        "P(A ∪ B) = P(A) + P(B) - P(A ∩ B)   \n",
        "This is the Addition law in case of disjoint sets.   \n",
        "7. THE LAW OF TOTAL PROBABILITY:    \n",
        "Consider the venn diagram shown below.\n",
        "\n",
        "\n",
        "\n",
        "\n",
        "\n",
        "\n"
      ],
      "metadata": {
        "id": "itWSIBTNDiWw"
      },
      "id": "itWSIBTNDiWw"
    },
    {
      "cell_type": "code",
      "source": [
        "fn_venn_law_total_proba()"
      ],
      "metadata": {
        "colab": {
          "base_uri": "https://localhost:8080/",
          "height": 265
        },
        "id": "bU_a6MngQcpz",
        "outputId": "8cac9e07-a504-4f4b-8877-fe352178e32a"
      },
      "id": "bU_a6MngQcpz",
      "execution_count": null,
      "outputs": [
        {
          "output_type": "display_data",
          "data": {
            "text/plain": [
              "<Figure size 432x288 with 1 Axes>"
            ],
            "image/png": "[encoded data removed]"
          },
          "metadata": {}
        }
      ]
    },
    {
      "cell_type": "markdown",
      "source": [
        "Sets A1, A2, A3 & A4 are disjoint sets such that A1 ∪ A2 ∪ A3 ∪ A4 = S.     \n",
        "In other words the disjoint sets A1, A2, A3 & A4 together form the sample space S.  \n",
        "Now consider the set B which is formed out of intersections with A1, A2, A3 & A4 as shown above.  \n",
        "\n",
        "&nbsp;\n",
        "\n",
        "Using the additive axiom we have:  \n",
        "P(B) = P(B ∩ A1) + P(B ∩ A2) + P(B ∩ A3) + P(B ∩ A4)  \n",
        "- event B is union of 4 disjoint sets.\n",
        "\n",
        "&nbsp;\n",
        "\n",
        "Using the multiplication rule for intersection probability we have:\n",
        "\n",
        "&nbsp;\n",
        "\n",
        "\n",
        "P(B) = P(A1) P(B|A1) + P(A2) P(B|A2) + P(A3) P(B|A3) + P(A4) P(B|A4)  \n",
        "\n",
        "This eqn can now be generalized as:\n",
        "\n",
        "P(B) = Σ P(Ai) P(B|Ai) --- for all i.   \n",
        "This is the Law of Total Probability\n",
        "\n",
        "&nbsp;\n",
        "\n",
        "Now since  A1 ∪ A2 ∪ A3 ∪ A4 = S, we know that P(A1) + P(A2) + P(A3) + P(A4) = 1      \n",
        "ie: Σ P(Ai) for all i = 1.    \n",
        "\n",
        "Thus in essense the Law of total probabilities states that:   \n",
        "- The P(B) is the __weighted average__ of    \n",
        "the conditional probabilities of B   \n",
        "wrt to the disjoint sets    \n",
        "whose union forms the sample space, ie: A1, A2, .. An.\n",
        "\n",
        "\n",
        "\n",
        "&nbsp;\n",
        "\n",
        "This can be understood using the following example:  \n",
        "Consider the bag of balls experiment where the bag contains 50 balls numbered from 1 to 50.  \n",
        "let:  \n",
        "A1 = set of all balls having even numbers.    \n",
        "A2 = set of all balls having odd numbers.   \n",
        "B = set of all balls having numbers less than 20.\n",
        "\n",
        "Now A & B are disjoint and together represent the entire sample space.  \n",
        "Set C is non-disjoint wrt sets A & B.   \n",
        "\n",
        "Now as per Law of total Probabilty   \n",
        "P(B) = P(A1) P(B|A1) + P(A2) P(B|A2)\n",
        "\n",
        "This can be seen in the code below.\n",
        "\n"
      ],
      "metadata": {
        "id": "mFs3I5G6_W9S"
      },
      "id": "mFs3I5G6_W9S"
    },
    {
      "cell_type": "code",
      "source": [
        "S = set(range(1, 51))\n",
        "\n",
        "A1 = {i for i in S if i%2 == 0}\n",
        "A2 = {i for i in S if i%2 != 0}\n",
        "B = {i for i in S if i < 20}\n",
        "\n",
        "P_A1, P_A2, P_B = len(A1)/len(S), len(A2)/len(S), len(B)/len(S)\n",
        "P_B_given_A1 = len(B & A1)/len(A1)\n",
        "P_B_given_A2 = len(B & A2)/len(A2)\n",
        "\n",
        "P_B == (P_A1 * P_B_given_A1) + (P_A2 * P_B_given_A2)"
      ],
      "metadata": {
        "colab": {
          "base_uri": "https://localhost:8080/"
        },
        "id": "Xm_ehYrS_XkW",
        "outputId": "2b0f6da5-6a47-47cb-b4bb-a220d62c6538"
      },
      "id": "Xm_ehYrS_XkW",
      "execution_count": null,
      "outputs": [
        {
          "output_type": "execute_result",
          "data": {
            "text/plain": [
              "True"
            ]
          },
          "metadata": {},
          "execution_count": 20
        }
      ]
    },
    {
      "cell_type": "markdown",
      "source": [
        "Most of the axioms and their implications have actually been discussed   \n",
        "in the previous sections without mentioning them explicitly.  \n",
        "\n",
        "Some of them are so obvious,   \n",
        "that we understand them without need for an explanation"
      ],
      "metadata": {
        "id": "pLWga42-E7P5"
      },
      "id": "pLWga42-E7P5"
    },
    {
      "cell_type": "code",
      "source": [
        ""
      ],
      "metadata": {
        "id": "M1MOoZuBW7at"
      },
      "id": "M1MOoZuBW7at",
      "execution_count": null,
      "outputs": []
    },
    {
      "cell_type": "code",
      "source": [
        ""
      ],
      "metadata": {
        "id": "tIyitstwW7Hd"
      },
      "id": "tIyitstwW7Hd",
      "execution_count": null,
      "outputs": []
    },
    {
      "cell_type": "markdown",
      "source": [
        "## Let us summarize what we have understood so far:\n",
        "- Set compliment\n",
        "- Addition Law: P(A ∪ B) = P(A) + P(B) - P(A ∩ B) \n",
        "- Total probability law: \n",
        "    - P(B) = Σ P(Ai) P(B|Ai) --- for all i.\n",
        " \n"
      ],
      "metadata": {
        "id": "Qh446GAcU7CK"
      },
      "id": "Qh446GAcU7CK"
    },
    {
      "cell_type": "code",
      "source": [
        ""
      ],
      "metadata": {
        "id": "Sng-swEQ67wI"
      },
      "id": "Sng-swEQ67wI",
      "execution_count": null,
      "outputs": []
    },
    {
      "cell_type": "code",
      "source": [
        ""
      ],
      "metadata": {
        "id": "JmVosJXtw0aM"
      },
      "id": "JmVosJXtw0aM",
      "execution_count": null,
      "outputs": []
    },
    {
      "cell_type": "code",
      "source": [
        ""
      ],
      "metadata": {
        "id": "X0pm5ErTw0WA"
      },
      "id": "X0pm5ErTw0WA",
      "execution_count": null,
      "outputs": []
    },
    {
      "cell_type": "code",
      "source": [
        ""
      ],
      "metadata": {
        "id": "cVJYVU6Awz5N"
      },
      "id": "cVJYVU6Awz5N",
      "execution_count": null,
      "outputs": []
    },
    {
      "cell_type": "code",
      "source": [
        ""
      ],
      "metadata": {
        "id": "Y9eNEl4bj4gk"
      },
      "id": "Y9eNEl4bj4gk",
      "execution_count": null,
      "outputs": []
    },
    {
      "cell_type": "code",
      "source": [
        ""
      ],
      "metadata": {
        "id": "mUALI1POj4U7"
      },
      "id": "mUALI1POj4U7",
      "execution_count": null,
      "outputs": []
    },
    {
      "cell_type": "markdown",
      "source": [
        "# SECTION 6: 15 mins\n",
        "Let us now step back and look at what we have discussed from a broader perspective.\n",
        "\n",
        "- What kinds of Sample spaces exist?\n",
        "- What is the simplest way to classify the different kinds of experiments?\n",
        "- What are the different formulae we used till now? "
      ],
      "metadata": {
        "id": "g2Fr605HxOO1"
      },
      "id": "g2Fr605HxOO1"
    },
    {
      "cell_type": "markdown",
      "source": [
        "\n",
        "\n",
        "## WHAT ARE THE DIFFERENT KINDS OF SAMPLE SPACES?\n",
        "In general, Sample spaces can be:\n",
        "- Discrete\n",
        "- Continuous\n",
        "\n",
        "\n",
        "\n",
        "## WHAT ARE DISCRETE SAMPLE SPACES?\n",
        "Discrete sample spaces contain a finite set of clearly distinctive countable outcomes.  \n",
        "Examples:\n",
        "- the sample space of the previous balls in a bag experiment {R, B}.\n",
        "- the sample space of a coin toss experiment {H, T}.\n",
        "- The sample space of a lottery draw experiment {alphanumeric values}.  \n",
        "\n",
        "ie: The outcomes consist of integers or categories.\n",
        "\n",
        "\n",
        "\n",
        "&nbsp;\n",
        "\n",
        "\n",
        "## WHAT ARE CONTINUOUS SAMPLE SPACES?\n",
        "Continuous sample spaces contain non discrete outcomes.  \n",
        "ie: The outcomes consist of real numbers. \n",
        "\n",
        "Consider the collection of all distances covered by the long jump participants of a particular school.   \n",
        "\n",
        "The sample space could be a continuous range of values between  5 feet and 15 feet.      \n",
        "\n",
        "In this lecture we have/will focus only discrete sample spaces.\n",
        "\n",
        "\n",
        "\n",
        "\n",
        "\n"
      ],
      "metadata": {
        "id": "AzHlu4Qmj6_u"
      },
      "id": "AzHlu4Qmj6_u"
    },
    {
      "cell_type": "code",
      "source": [
        ""
      ],
      "metadata": {
        "id": "MlCLLKifw-WO"
      },
      "id": "MlCLLKifw-WO",
      "execution_count": null,
      "outputs": []
    },
    {
      "cell_type": "code",
      "source": [
        ""
      ],
      "metadata": {
        "id": "v_kU29qGw9_i"
      },
      "id": "v_kU29qGw9_i",
      "execution_count": null,
      "outputs": []
    },
    {
      "cell_type": "markdown",
      "source": [
        "## WHAT ARE THE DIFFERENT KINDS OF EXPERIMENTS?\n",
        "When we examine/recall the types of experiments we have encountered till now,   \n",
        "We can classify them as shown in the image below:"
      ],
      "metadata": {
        "id": "FzuEyW8x2BRk"
      },
      "id": "FzuEyW8x2BRk"
    },
    {
      "cell_type": "code",
      "source": [
        "img_path = data_path + 'types_of_experiments.jpg'\n",
        "\n",
        "fn_load_img(img_path, figsize = (19, 10))"
      ],
      "metadata": {
        "colab": {
          "base_uri": "https://localhost:8080/",
          "height": 574
        },
        "id": "q7eorTg0G4Jj",
        "outputId": "8aafa3d7-9a76-4e90-e999-4cfec45914d5"
      },
      "id": "q7eorTg0G4Jj",
      "execution_count": null,
      "outputs": [
        {
          "output_type": "display_data",
          "data": {
            "text/plain": [
              "<Figure size 1368x720 with 1 Axes>"
            ],
            "image/png": "[encoded data removed]"
          },
          "metadata": {}
        }
      ]
    },
    {
      "cell_type": "markdown",
      "source": [
        "Let us now, view each of the 3 types shown above     \n",
        "in terms of a bag of balls experiment,   \n",
        "where any bag considered will contain   \n",
        "6 red balls and 4 blue balls. \n",
        "\n",
        "Note that:   \n",
        "- __Generally experiments with discrete sample spaces can be reduced to some form of the bag of balls experiment..__ \n",
        "- This can be quite an useful tool for analysing random experiments\n",
        "\n",
        "\n",
        "## SIMPLE EXPERIMENT:\n",
        "This is the basic form an experiment, where   \n",
        "the outcome is the result of randomly drawing one ball from the bag.   \n",
        "The sample space of such an experiment would be:   \n",
        "{R, B}\n",
        "\n",
        "\n",
        "## PARALLEL EXPERIMENT:\n",
        "Here the experiment consists 2 mutually independent random sub processes.       \n",
        "ie: There are 2 bags, where an outcome is the result of simultaneuosly drawing one ball from each bag.  \n",
        "\n",
        "Assuming both bags are identical, the sample space of such an experiment would be:   \n",
        "{(R, R), (R, B), (B, B), (B, R)}\n",
        "\n",
        "\n",
        "\n",
        "## SEQUENTIAL EXPERIMENT:\n",
        "Here the experiment consists 1 sequential random process consisting of 2 or more steps. \n",
        "\n",
        "In the diagram above, A sequential process with 2 steps is shown.   \n",
        "Both the steps consists of randomly drawing a ball from the bag, but perfomed without replacement.   \n",
        "\n",
        "ie: The 1st ball drawn is not put back into the bag before drawing the 2nd ball.  \n",
        "    \n",
        "Hence the first step results in the modification (reduction) of the sample space, expressed in the  diagram as 1 transforming to 1'.\n",
        "\n",
        "The sample of such an experiment would be:    \n",
        "{(R, R), (R, B), (B, B), (B, R)} -- same as the parallel experiment.\n",
        "\n",
        "__Most experiments are one of the above types or a some combination of the above types.__"
      ],
      "metadata": {
        "id": "0zMe_fn2hp_7"
      },
      "id": "0zMe_fn2hp_7"
    },
    {
      "cell_type": "code",
      "source": [
        ""
      ],
      "metadata": {
        "id": "4wZH1fIUTsjw"
      },
      "id": "4wZH1fIUTsjw",
      "execution_count": null,
      "outputs": []
    },
    {
      "cell_type": "markdown",
      "source": [
        "## WHAT ARE THE DIFFERENT FORMULAE USED TILL NOW?\n",
        "- Emphirical P(event) = n_event_occurances/n_repititions\n",
        "- Theoretical P(event) = based on prior knowledge of the probabilty distribution of the experiment.\n",
        "- Multipication rule: P(A∩B) = P(A) P(B)/A = P(B) P(A|B)\n",
        "- Addition rule: P(A∪B) = P(A) + P(B) - P(A∩B)\n",
        "- Total probability law: P(E) = P(A)P(E|A) + P(B)P(E|B) + P(C)P(E|C) + P(D)P(E|D)\n",
        "    - If A, B, C & D are disjoint and collectively compose the sample space S.\n",
        "    - If E is some subset of S"
      ],
      "metadata": {
        "id": "bC3lj2q9n2gA"
      },
      "id": "bC3lj2q9n2gA"
    },
    {
      "cell_type": "code",
      "source": [
        ""
      ],
      "metadata": {
        "id": "Vdkb8BJ9iKs4"
      },
      "id": "Vdkb8BJ9iKs4",
      "execution_count": null,
      "outputs": []
    },
    {
      "cell_type": "code",
      "source": [
        "                                                                                                                                                                                                                                                                                                  "
      ],
      "metadata": {
        "id": "CrsI7ZgzU6E_"
      },
      "id": "CrsI7ZgzU6E_",
      "execution_count": null,
      "outputs": []
    },
    {
      "cell_type": "code",
      "source": [
        ""
      ],
      "metadata": {
        "id": "kZZovR6wLpW0"
      },
      "id": "kZZovR6wLpW0",
      "execution_count": null,
      "outputs": []
    },
    {
      "cell_type": "code",
      "source": [
        ""
      ],
      "metadata": {
        "id": "7zafZd-xLpMb"
      },
      "id": "7zafZd-xLpMb",
      "execution_count": null,
      "outputs": []
    },
    {
      "cell_type": "code",
      "source": [
        ""
      ],
      "metadata": {
        "id": "2Ddi3Jy_2vLj"
      },
      "id": "2Ddi3Jy_2vLj",
      "execution_count": null,
      "outputs": []
    },
    {
      "cell_type": "markdown",
      "source": [
        "# SECTION 7: 45 mins"
      ],
      "metadata": {
        "id": "GbGZWd7zU-3v"
      },
      "id": "GbGZWd7zU-3v"
    },
    {
      "cell_type": "markdown",
      "source": [
        "In the previous SECTIONS we discussed probabilies wrt to event __SETS__ of the sample space.\n",
        "\n",
        "Now we will discuss probabilties with respect to __RANDOM VARIABLES__.\n",
        "\n",
        "##  WHAT ARE RANDOM VARIABLES?\n",
        "Random variables are similar to event sets with some subtle differences.   \n",
        "Consider a bag of balls experiment where the bag contains 20 balls numbered 1 to 20:\n",
        "- An event set would be the set of outcomes that satify some event condition.\n",
        "- For example:\n",
        "    - Set of all outomes that are div 2\n",
        "    - Set of all outcomes that are divisible by 3\n",
        "    - Set of all outcomes that are divisible by both 2 & 3\n",
        "    - Set of outcomes that are divisibale by 2 or 3.  \n",
        "\n",
        "Now every outcome in the sample space,  \n",
        "could be assigned a \"state\" based on the event sets mentioned above.\n",
        "- For example:\n",
        "    - State_1: Outcome is divisible by both 2 & 3.\n",
        "    - State_2: Outcome is divisble only by 2\n",
        "    - State_3: Outcome is divisble only by 3\n",
        "    - State_4: Outcome is not divisible by both 2 & 3.\n",
        "\n",
        "Let us present the above states using a table.\n"
      ],
      "metadata": {
        "id": "993bwPmO72Vd"
      },
      "id": "993bwPmO72Vd"
    },
    {
      "cell_type": "code",
      "source": [
        "observations = []\n",
        "for i in range(1, 21):\n",
        "    if i%2 == 0 and i%3 == 0:\n",
        "        div_2_3 = 'div_both'\n",
        "    elif i%2 == 0:\n",
        "        div_2_3 = 'div_two'\n",
        "    elif i%3 == 0:\n",
        "        div_2_3 = 'div_three'\n",
        "    else:\n",
        "        div_2_3 = 'not_div_both'\n",
        "    observations.append([i, div_2_3])\n",
        "\n",
        "df1 = pd.DataFrame(np.array(observations))\n",
        "df1.columns = ['outcome', 'div_2_3']\n",
        "\n",
        "df1.head(7)"
      ],
      "metadata": {
        "colab": {
          "base_uri": "https://localhost:8080/",
          "height": 268
        },
        "id": "To8cteriB3lW",
        "outputId": "5093d062-fa20-4009-a180-bf948d18cb0e"
      },
      "id": "To8cteriB3lW",
      "execution_count": null,
      "outputs": [
        {
          "output_type": "execute_result",
          "data": {
            "text/plain": [
              "  outcome       div_2_3\n",
              "0       1  not_div_both\n",
              "1       2       div_two\n",
              "2       3     div_three\n",
              "3       4       div_two\n",
              "4       5  not_div_both\n",
              "5       6      div_both\n",
              "6       7  not_div_both"
            ],
            "text/html": [
              "\n",
              "  <div id=\"df-f950d8d7-8b37-44b5-ba1e-08c4ecc3fa29\">\n",
              "    <div class=\"colab-df-container\">\n",
              "      <div>\n",
              "<style scoped>\n",
              "    .dataframe tbody tr th:only-of-type {\n",
              "        vertical-align: middle;\n",
              "    }\n",
              "\n",
              "    .dataframe tbody tr th {\n",
              "        vertical-align: top;\n",
              "    }\n",
              "\n",
              "    .dataframe thead th {\n",
              "        text-align: right;\n",
              "    }\n",
              "</style>\n",
              "<table border=\"1\" class=\"dataframe\">\n",
              "  <thead>\n",
              "    <tr style=\"text-align: right;\">\n",
              "      <th></th>\n",
              "      <th>outcome</th>\n",
              "      <th>div_2_3</th>\n",
              "    </tr>\n",
              "  </thead>\n",
              "  <tbody>\n",
              "    <tr>\n",
              "      <th>0</th>\n",
              "      <td>1</td>\n",
              "      <td>not_div_both</td>\n",
              "    </tr>\n",
              "    <tr>\n",
              "      <th>1</th>\n",
              "      <td>2</td>\n",
              "      <td>div_two</td>\n",
              "    </tr>\n",
              "    <tr>\n",
              "      <th>2</th>\n",
              "      <td>3</td>\n",
              "      <td>div_three</td>\n",
              "    </tr>\n",
              "    <tr>\n",
              "      <th>3</th>\n",
              "      <td>4</td>\n",
              "      <td>div_two</td>\n",
              "    </tr>\n",
              "    <tr>\n",
              "      <th>4</th>\n",
              "      <td>5</td>\n",
              "      <td>not_div_both</td>\n",
              "    </tr>\n",
              "    <tr>\n",
              "      <th>5</th>\n",
              "      <td>6</td>\n",
              "      <td>div_both</td>\n",
              "    </tr>\n",
              "    <tr>\n",
              "      <th>6</th>\n",
              "      <td>7</td>\n",
              "      <td>not_div_both</td>\n",
              "    </tr>\n",
              "  </tbody>\n",
              "</table>\n",
              "</div>\n",
              "      <button class=\"colab-df-convert\" onclick=\"convertToInteractive('df-f950d8d7-8b37-44b5-ba1e-08c4ecc3fa29')\"\n",
              "              title=\"Convert this dataframe to an interactive table.\"\n",
              "              style=\"display:none;\">\n",
              "        \n",
              "  <svg xmlns=\"http://www.w3.org/2000/svg\" height=\"24px\"viewBox=\"0 0 24 24\"\n",
              "       width=\"24px\">\n",
              "    <path d=\"M0 0h24v24H0V0z\" fill=\"none\"/>\n",
              "    <path d=\"M18.56 5.44l.94 2.06.94-2.06 2.06-.94-2.06-.94-.94-2.06-.94 2.06-2.06.94zm-11 1L8.5 8.5l.94-2.06 2.06-.94-2.06-.94L8.5 2.5l-.94 2.06-2.06.94zm10 10l.94 2.06.94-2.06 2.06-.94-2.06-.94-.94-2.06-.94 2.06-2.06.94z\"/><path d=\"M17.41 7.96l-1.37-1.37c-.4-.4-.92-.59-1.43-.59-.52 0-1.04.2-1.43.59L10.3 9.45l-7.72 7.72c-.78.78-.78 2.05 0 2.83L4 21.41c.39.39.9.59 1.41.59.51 0 1.02-.2 1.41-.59l7.78-7.78 2.81-2.81c.8-.78.8-2.07 0-2.86zM5.41 20L4 18.59l7.72-7.72 1.47 1.35L5.41 20z\"/>\n",
              "  </svg>\n",
              "      </button>\n",
              "      \n",
              "  <style>\n",
              "    .colab-df-container {\n",
              "      display:flex;\n",
              "      flex-wrap:wrap;\n",
              "      gap: 12px;\n",
              "    }\n",
              "\n",
              "    .colab-df-convert {\n",
              "      background-color: #E8F0FE;\n",
              "      border: none;\n",
              "      border-radius: 50%;\n",
              "      cursor: pointer;\n",
              "      display: none;\n",
              "      fill: #1967D2;\n",
              "      height: 32px;\n",
              "      padding: 0 0 0 0;\n",
              "      width: 32px;\n",
              "    }\n",
              "\n",
              "    .colab-df-convert:hover {\n",
              "      background-color: #E2EBFA;\n",
              "      box-shadow: 0px 1px 2px rgba(60, 64, 67, 0.3), 0px 1px 3px 1px rgba(60, 64, 67, 0.15);\n",
              "      fill: #174EA6;\n",
              "    }\n",
              "\n",
              "    [theme=dark] .colab-df-convert {\n",
              "      background-color: #3B4455;\n",
              "      fill: #D2E3FC;\n",
              "    }\n",
              "\n",
              "    [theme=dark] .colab-df-convert:hover {\n",
              "      background-color: #434B5C;\n",
              "      box-shadow: 0px 1px 3px 1px rgba(0, 0, 0, 0.15);\n",
              "      filter: drop-shadow(0px 1px 2px rgba(0, 0, 0, 0.3));\n",
              "      fill: #FFFFFF;\n",
              "    }\n",
              "  </style>\n",
              "\n",
              "      <script>\n",
              "        const buttonEl =\n",
              "          document.querySelector('#df-f950d8d7-8b37-44b5-ba1e-08c4ecc3fa29 button.colab-df-convert');\n",
              "        buttonEl.style.display =\n",
              "          google.colab.kernel.accessAllowed ? 'block' : 'none';\n",
              "\n",
              "        async function convertToInteractive(key) {\n",
              "          const element = document.querySelector('#df-f950d8d7-8b37-44b5-ba1e-08c4ecc3fa29');\n",
              "          const dataTable =\n",
              "            await google.colab.kernel.invokeFunction('convertToInteractive',\n",
              "                                                     [key], {});\n",
              "          if (!dataTable) return;\n",
              "\n",
              "          const docLinkHtml = 'Like what you see? Visit the ' +\n",
              "            '<a target=\"_blank\" href=https://colab.research.google.com/notebooks/data_table.ipynb>data table notebook</a>'\n",
              "            + ' to learn more about interactive tables.';\n",
              "          element.innerHTML = '';\n",
              "          dataTable['output_type'] = 'display_data';\n",
              "          await google.colab.output.renderOutput(dataTable, element);\n",
              "          const docLink = document.createElement('div');\n",
              "          docLink.innerHTML = docLinkHtml;\n",
              "          element.appendChild(docLink);\n",
              "        }\n",
              "      </script>\n",
              "    </div>\n",
              "  </div>\n",
              "  "
            ]
          },
          "metadata": {},
          "execution_count": 22
        }
      ]
    },
    {
      "cell_type": "markdown",
      "source": [
        "Note that values in column \"div_2_3\" has meaning   \n",
        "only when considered with    \n",
        "the corresponding outcome being examined.  \n",
        "ie:  Outcomes being numbers from 1 to 20.   \n",
        "\n",
        "The column \"div_2_3\" in the table above is considered a Random Variable.  \n",
        "\n",
        "Random Variables are essentially observations made about some property/atttribute of the outcomes.\n",
        "\n",
        "In this case, the attribute being observed is regarding the divisibility of the outcomes wrt 2 & 3.\n",
        "\n",
        "ie: __Random Variables give information about the \"STATE\" of an outcome wrt to a particular attribute.__      \n",
        "\n",
        "Here the states of the outcomes wrt attribute \"div_2_3\" are:  \n",
        "states: {div_both, not_div_both, div_3, div_2} \n",
        "\n",
        "\n",
        "We can find probabilites for each state of the random variable using the same principles we have learnt.\n",
        "\n",
        "This is expressed in example shown below."
      ],
      "metadata": {
        "id": "IJIbvjW6CCoA"
      },
      "id": "IJIbvjW6CCoA"
    },
    {
      "cell_type": "code",
      "source": [
        "n_outomes_div_both = len(df1[df1.div_2_3 == 'div_both'])\n",
        "n_outcomes = len(df1)\n",
        "P_div_both = n_outomes_div_both/n_outcomes\n",
        "\n",
        "P_div_both"
      ],
      "metadata": {
        "colab": {
          "base_uri": "https://localhost:8080/"
        },
        "id": "BBRZ-N8WB3hA",
        "outputId": "dc053896-356a-465f-8901-e08d23a83357"
      },
      "id": "BBRZ-N8WB3hA",
      "execution_count": null,
      "outputs": [
        {
          "output_type": "execute_result",
          "data": {
            "text/plain": [
              "0.15"
            ]
          },
          "metadata": {},
          "execution_count": 23
        }
      ]
    },
    {
      "cell_type": "code",
      "source": [
        ""
      ],
      "metadata": {
        "id": "huw-n378B3XC"
      },
      "id": "huw-n378B3XC",
      "execution_count": null,
      "outputs": []
    },
    {
      "cell_type": "code",
      "source": [
        ""
      ],
      "metadata": {
        "id": "2rb7uhYRB3Sd"
      },
      "id": "2rb7uhYRB3Sd",
      "execution_count": null,
      "outputs": []
    },
    {
      "cell_type": "markdown",
      "source": [
        "Can an experiment have more than one random variable associated with it?    \n",
        "Yes they can.  \n",
        "In cases such as these, we come across the concepts of JOINT and CONDITIONAL PROBABILTY.\n",
        "\n",
        "## WHAT ARE JOINT PROBABILTIES?\n",
        "Let us define another random variable called \"prime\" for the same experiment.    \n",
        "We shall define \"prime\" as follows: \n",
        "- It should reflect the state of the outcome wrt whether it is a prime number or not."
      ],
      "metadata": {
        "id": "H5JAeANa1wRb"
      },
      "id": "H5JAeANa1wRb"
    },
    {
      "cell_type": "code",
      "source": [
        "from sympy import isprime\n",
        "observations = []\n",
        "for i in range(1, 21):\n",
        "\n",
        "    prime = 'yes' if isprime(i) else 'no'\n",
        "    observations.append([i, prime])\n",
        "\n",
        "df2 = pd.DataFrame(np.array(observations))\n",
        "df2.columns = ['outcome', 'prime']\n",
        "\n",
        "df2.head()"
      ],
      "metadata": {
        "colab": {
          "base_uri": "https://localhost:8080/",
          "height": 206
        },
        "id": "cK4w15jApeG0",
        "outputId": "3e1fa804-a310-49bf-b8c0-303e656526bd"
      },
      "id": "cK4w15jApeG0",
      "execution_count": null,
      "outputs": [
        {
          "output_type": "execute_result",
          "data": {
            "text/plain": [
              "  outcome prime\n",
              "0       1    no\n",
              "1       2   yes\n",
              "2       3   yes\n",
              "3       4    no\n",
              "4       5   yes"
            ],
            "text/html": [
              "\n",
              "  <div id=\"df-684f201e-7164-4776-bdd5-de1c0b8f823d\">\n",
              "    <div class=\"colab-df-container\">\n",
              "      <div>\n",
              "<style scoped>\n",
              "    .dataframe tbody tr th:only-of-type {\n",
              "        vertical-align: middle;\n",
              "    }\n",
              "\n",
              "    .dataframe tbody tr th {\n",
              "        vertical-align: top;\n",
              "    }\n",
              "\n",
              "    .dataframe thead th {\n",
              "        text-align: right;\n",
              "    }\n",
              "</style>\n",
              "<table border=\"1\" class=\"dataframe\">\n",
              "  <thead>\n",
              "    <tr style=\"text-align: right;\">\n",
              "      <th></th>\n",
              "      <th>outcome</th>\n",
              "      <th>prime</th>\n",
              "    </tr>\n",
              "  </thead>\n",
              "  <tbody>\n",
              "    <tr>\n",
              "      <th>0</th>\n",
              "      <td>1</td>\n",
              "      <td>no</td>\n",
              "    </tr>\n",
              "    <tr>\n",
              "      <th>1</th>\n",
              "      <td>2</td>\n",
              "      <td>yes</td>\n",
              "    </tr>\n",
              "    <tr>\n",
              "      <th>2</th>\n",
              "      <td>3</td>\n",
              "      <td>yes</td>\n",
              "    </tr>\n",
              "    <tr>\n",
              "      <th>3</th>\n",
              "      <td>4</td>\n",
              "      <td>no</td>\n",
              "    </tr>\n",
              "    <tr>\n",
              "      <th>4</th>\n",
              "      <td>5</td>\n",
              "      <td>yes</td>\n",
              "    </tr>\n",
              "  </tbody>\n",
              "</table>\n",
              "</div>\n",
              "      <button class=\"colab-df-convert\" onclick=\"convertToInteractive('df-684f201e-7164-4776-bdd5-de1c0b8f823d')\"\n",
              "              title=\"Convert this dataframe to an interactive table.\"\n",
              "              style=\"display:none;\">\n",
              "        \n",
              "  <svg xmlns=\"http://www.w3.org/2000/svg\" height=\"24px\"viewBox=\"0 0 24 24\"\n",
              "       width=\"24px\">\n",
              "    <path d=\"M0 0h24v24H0V0z\" fill=\"none\"/>\n",
              "    <path d=\"M18.56 5.44l.94 2.06.94-2.06 2.06-.94-2.06-.94-.94-2.06-.94 2.06-2.06.94zm-11 1L8.5 8.5l.94-2.06 2.06-.94-2.06-.94L8.5 2.5l-.94 2.06-2.06.94zm10 10l.94 2.06.94-2.06 2.06-.94-2.06-.94-.94-2.06-.94 2.06-2.06.94z\"/><path d=\"M17.41 7.96l-1.37-1.37c-.4-.4-.92-.59-1.43-.59-.52 0-1.04.2-1.43.59L10.3 9.45l-7.72 7.72c-.78.78-.78 2.05 0 2.83L4 21.41c.39.39.9.59 1.41.59.51 0 1.02-.2 1.41-.59l7.78-7.78 2.81-2.81c.8-.78.8-2.07 0-2.86zM5.41 20L4 18.59l7.72-7.72 1.47 1.35L5.41 20z\"/>\n",
              "  </svg>\n",
              "      </button>\n",
              "      \n",
              "  <style>\n",
              "    .colab-df-container {\n",
              "      display:flex;\n",
              "      flex-wrap:wrap;\n",
              "      gap: 12px;\n",
              "    }\n",
              "\n",
              "    .colab-df-convert {\n",
              "      background-color: #E8F0FE;\n",
              "      border: none;\n",
              "      border-radius: 50%;\n",
              "      cursor: pointer;\n",
              "      display: none;\n",
              "      fill: #1967D2;\n",
              "      height: 32px;\n",
              "      padding: 0 0 0 0;\n",
              "      width: 32px;\n",
              "    }\n",
              "\n",
              "    .colab-df-convert:hover {\n",
              "      background-color: #E2EBFA;\n",
              "      box-shadow: 0px 1px 2px rgba(60, 64, 67, 0.3), 0px 1px 3px 1px rgba(60, 64, 67, 0.15);\n",
              "      fill: #174EA6;\n",
              "    }\n",
              "\n",
              "    [theme=dark] .colab-df-convert {\n",
              "      background-color: #3B4455;\n",
              "      fill: #D2E3FC;\n",
              "    }\n",
              "\n",
              "    [theme=dark] .colab-df-convert:hover {\n",
              "      background-color: #434B5C;\n",
              "      box-shadow: 0px 1px 3px 1px rgba(0, 0, 0, 0.15);\n",
              "      filter: drop-shadow(0px 1px 2px rgba(0, 0, 0, 0.3));\n",
              "      fill: #FFFFFF;\n",
              "    }\n",
              "  </style>\n",
              "\n",
              "      <script>\n",
              "        const buttonEl =\n",
              "          document.querySelector('#df-684f201e-7164-4776-bdd5-de1c0b8f823d button.colab-df-convert');\n",
              "        buttonEl.style.display =\n",
              "          google.colab.kernel.accessAllowed ? 'block' : 'none';\n",
              "\n",
              "        async function convertToInteractive(key) {\n",
              "          const element = document.querySelector('#df-684f201e-7164-4776-bdd5-de1c0b8f823d');\n",
              "          const dataTable =\n",
              "            await google.colab.kernel.invokeFunction('convertToInteractive',\n",
              "                                                     [key], {});\n",
              "          if (!dataTable) return;\n",
              "\n",
              "          const docLinkHtml = 'Like what you see? Visit the ' +\n",
              "            '<a target=\"_blank\" href=https://colab.research.google.com/notebooks/data_table.ipynb>data table notebook</a>'\n",
              "            + ' to learn more about interactive tables.';\n",
              "          element.innerHTML = '';\n",
              "          dataTable['output_type'] = 'display_data';\n",
              "          await google.colab.output.renderOutput(dataTable, element);\n",
              "          const docLink = document.createElement('div');\n",
              "          docLink.innerHTML = docLinkHtml;\n",
              "          element.appendChild(docLink);\n",
              "        }\n",
              "      </script>\n",
              "    </div>\n",
              "  </div>\n",
              "  "
            ]
          },
          "metadata": {},
          "execution_count": 30
        }
      ]
    },
    {
      "cell_type": "markdown",
      "source": [
        "Let us now summarize the outcomes wrt to these 2 random variables:"
      ],
      "metadata": {
        "id": "kYRYjeovHuOl"
      },
      "id": "kYRYjeovHuOl"
    },
    {
      "cell_type": "code",
      "source": [
        "df3 = df1.assign(prime = df2.prime)\n",
        "df3.head()"
      ],
      "metadata": {
        "colab": {
          "base_uri": "https://localhost:8080/",
          "height": 206
        },
        "id": "RxWGiOeFH6Da",
        "outputId": "b9595f62-2b9c-4c5f-8afc-2405020b1363"
      },
      "id": "RxWGiOeFH6Da",
      "execution_count": null,
      "outputs": [
        {
          "output_type": "execute_result",
          "data": {
            "text/plain": [
              "  outcome       div_2_3 prime\n",
              "0       1  not_div_both    no\n",
              "1       2       div_two   yes\n",
              "2       3     div_three   yes\n",
              "3       4       div_two    no\n",
              "4       5  not_div_both   yes"
            ],
            "text/html": [
              "\n",
              "  <div id=\"df-ba438f88-27b2-4b3a-993d-4d1016db48a8\">\n",
              "    <div class=\"colab-df-container\">\n",
              "      <div>\n",
              "<style scoped>\n",
              "    .dataframe tbody tr th:only-of-type {\n",
              "        vertical-align: middle;\n",
              "    }\n",
              "\n",
              "    .dataframe tbody tr th {\n",
              "        vertical-align: top;\n",
              "    }\n",
              "\n",
              "    .dataframe thead th {\n",
              "        text-align: right;\n",
              "    }\n",
              "</style>\n",
              "<table border=\"1\" class=\"dataframe\">\n",
              "  <thead>\n",
              "    <tr style=\"text-align: right;\">\n",
              "      <th></th>\n",
              "      <th>outcome</th>\n",
              "      <th>div_2_3</th>\n",
              "      <th>prime</th>\n",
              "    </tr>\n",
              "  </thead>\n",
              "  <tbody>\n",
              "    <tr>\n",
              "      <th>0</th>\n",
              "      <td>1</td>\n",
              "      <td>not_div_both</td>\n",
              "      <td>no</td>\n",
              "    </tr>\n",
              "    <tr>\n",
              "      <th>1</th>\n",
              "      <td>2</td>\n",
              "      <td>div_two</td>\n",
              "      <td>yes</td>\n",
              "    </tr>\n",
              "    <tr>\n",
              "      <th>2</th>\n",
              "      <td>3</td>\n",
              "      <td>div_three</td>\n",
              "      <td>yes</td>\n",
              "    </tr>\n",
              "    <tr>\n",
              "      <th>3</th>\n",
              "      <td>4</td>\n",
              "      <td>div_two</td>\n",
              "      <td>no</td>\n",
              "    </tr>\n",
              "    <tr>\n",
              "      <th>4</th>\n",
              "      <td>5</td>\n",
              "      <td>not_div_both</td>\n",
              "      <td>yes</td>\n",
              "    </tr>\n",
              "  </tbody>\n",
              "</table>\n",
              "</div>\n",
              "      <button class=\"colab-df-convert\" onclick=\"convertToInteractive('df-ba438f88-27b2-4b3a-993d-4d1016db48a8')\"\n",
              "              title=\"Convert this dataframe to an interactive table.\"\n",
              "              style=\"display:none;\">\n",
              "        \n",
              "  <svg xmlns=\"http://www.w3.org/2000/svg\" height=\"24px\"viewBox=\"0 0 24 24\"\n",
              "       width=\"24px\">\n",
              "    <path d=\"M0 0h24v24H0V0z\" fill=\"none\"/>\n",
              "    <path d=\"M18.56 5.44l.94 2.06.94-2.06 2.06-.94-2.06-.94-.94-2.06-.94 2.06-2.06.94zm-11 1L8.5 8.5l.94-2.06 2.06-.94-2.06-.94L8.5 2.5l-.94 2.06-2.06.94zm10 10l.94 2.06.94-2.06 2.06-.94-2.06-.94-.94-2.06-.94 2.06-2.06.94z\"/><path d=\"M17.41 7.96l-1.37-1.37c-.4-.4-.92-.59-1.43-.59-.52 0-1.04.2-1.43.59L10.3 9.45l-7.72 7.72c-.78.78-.78 2.05 0 2.83L4 21.41c.39.39.9.59 1.41.59.51 0 1.02-.2 1.41-.59l7.78-7.78 2.81-2.81c.8-.78.8-2.07 0-2.86zM5.41 20L4 18.59l7.72-7.72 1.47 1.35L5.41 20z\"/>\n",
              "  </svg>\n",
              "      </button>\n",
              "      \n",
              "  <style>\n",
              "    .colab-df-container {\n",
              "      display:flex;\n",
              "      flex-wrap:wrap;\n",
              "      gap: 12px;\n",
              "    }\n",
              "\n",
              "    .colab-df-convert {\n",
              "      background-color: #E8F0FE;\n",
              "      border: none;\n",
              "      border-radius: 50%;\n",
              "      cursor: pointer;\n",
              "      display: none;\n",
              "      fill: #1967D2;\n",
              "      height: 32px;\n",
              "      padding: 0 0 0 0;\n",
              "      width: 32px;\n",
              "    }\n",
              "\n",
              "    .colab-df-convert:hover {\n",
              "      background-color: #E2EBFA;\n",
              "      box-shadow: 0px 1px 2px rgba(60, 64, 67, 0.3), 0px 1px 3px 1px rgba(60, 64, 67, 0.15);\n",
              "      fill: #174EA6;\n",
              "    }\n",
              "\n",
              "    [theme=dark] .colab-df-convert {\n",
              "      background-color: #3B4455;\n",
              "      fill: #D2E3FC;\n",
              "    }\n",
              "\n",
              "    [theme=dark] .colab-df-convert:hover {\n",
              "      background-color: #434B5C;\n",
              "      box-shadow: 0px 1px 3px 1px rgba(0, 0, 0, 0.15);\n",
              "      filter: drop-shadow(0px 1px 2px rgba(0, 0, 0, 0.3));\n",
              "      fill: #FFFFFF;\n",
              "    }\n",
              "  </style>\n",
              "\n",
              "      <script>\n",
              "        const buttonEl =\n",
              "          document.querySelector('#df-ba438f88-27b2-4b3a-993d-4d1016db48a8 button.colab-df-convert');\n",
              "        buttonEl.style.display =\n",
              "          google.colab.kernel.accessAllowed ? 'block' : 'none';\n",
              "\n",
              "        async function convertToInteractive(key) {\n",
              "          const element = document.querySelector('#df-ba438f88-27b2-4b3a-993d-4d1016db48a8');\n",
              "          const dataTable =\n",
              "            await google.colab.kernel.invokeFunction('convertToInteractive',\n",
              "                                                     [key], {});\n",
              "          if (!dataTable) return;\n",
              "\n",
              "          const docLinkHtml = 'Like what you see? Visit the ' +\n",
              "            '<a target=\"_blank\" href=https://colab.research.google.com/notebooks/data_table.ipynb>data table notebook</a>'\n",
              "            + ' to learn more about interactive tables.';\n",
              "          element.innerHTML = '';\n",
              "          dataTable['output_type'] = 'display_data';\n",
              "          await google.colab.output.renderOutput(dataTable, element);\n",
              "          const docLink = document.createElement('div');\n",
              "          docLink.innerHTML = docLinkHtml;\n",
              "          element.appendChild(docLink);\n",
              "        }\n",
              "      </script>\n",
              "    </div>\n",
              "  </div>\n",
              "  "
            ]
          },
          "metadata": {},
          "execution_count": 29
        }
      ]
    },
    {
      "cell_type": "markdown",
      "source": [
        "Given the above table,   \n",
        "We could ask questions like:\n",
        "- What would be the probability of a  number that is prime and also divisible by 2?\n",
        "- What is the probability that a number is not divisble by both 2 & 3 and also a prime number?\n",
        "\n",
        "ie:   \n",
        "- P(prime ∩ div_2)\n",
        "- P(not_div_both ∩ prime)\n",
        "\n",
        "__Joint distributions are basically intersection probabilties between 2 or more random variables__.  \n",
        "\n",
        "One can get a overview  \n",
        "of the join probabilities   \n",
        "of an experiment's Random Variables,   \n",
        "by creating __CONTINGENCY TABLES__."
      ],
      "metadata": {
        "id": "NuscyKfnIlwZ"
      },
      "id": "NuscyKfnIlwZ"
    },
    {
      "cell_type": "code",
      "source": [
        ""
      ],
      "metadata": {
        "id": "yiFmwtKrH53n"
      },
      "id": "yiFmwtKrH53n",
      "execution_count": null,
      "outputs": []
    },
    {
      "cell_type": "code",
      "source": [
        ""
      ],
      "metadata": {
        "id": "mHCH0UXlH5zN"
      },
      "id": "mHCH0UXlH5zN",
      "execution_count": null,
      "outputs": []
    },
    {
      "cell_type": "markdown",
      "source": [
        "## WHAT ARE CONTINGENCY TABLES?\n",
        "A contingency table summarizes the joint probabilities between two or more random variables.     \n",
        "\n",
        "\n",
        "It can be obtained by finding out the proportions   \n",
        "of the various \"state combinations\" that exist   \n",
        "across 2 or more random variables.  \n",
        "\n",
        "\n",
        "In our case there are 8 possible \"state combinations\":"
      ],
      "metadata": {
        "id": "nkAysiT73Nbi"
      },
      "id": "nkAysiT73Nbi"
    },
    {
      "cell_type": "code",
      "source": [
        "fn_joint_combinations()"
      ],
      "metadata": {
        "colab": {
          "base_uri": "https://localhost:8080/",
          "height": 300
        },
        "id": "_HbTK5k_m8jt",
        "outputId": "36367089-2ec2-47f0-f1e9-d1aeaf5ce5f7"
      },
      "id": "_HbTK5k_m8jt",
      "execution_count": null,
      "outputs": [
        {
          "output_type": "execute_result",
          "data": {
            "text/plain": [
              "        div_2_3 prime\n",
              "0      div_both   yes\n",
              "1      div_both    no\n",
              "2  not_div_both   yes\n",
              "3  not_div_both    no\n",
              "4         div_3   yes\n",
              "5         div_3    no\n",
              "6         div_2   yes\n",
              "7         div_2    no"
            ],
            "text/html": [
              "\n",
              "  <div id=\"df-8cab769c-e0c3-41ea-b6c8-999ac8e33636\">\n",
              "    <div class=\"colab-df-container\">\n",
              "      <div>\n",
              "<style scoped>\n",
              "    .dataframe tbody tr th:only-of-type {\n",
              "        vertical-align: middle;\n",
              "    }\n",
              "\n",
              "    .dataframe tbody tr th {\n",
              "        vertical-align: top;\n",
              "    }\n",
              "\n",
              "    .dataframe thead th {\n",
              "        text-align: right;\n",
              "    }\n",
              "</style>\n",
              "<table border=\"1\" class=\"dataframe\">\n",
              "  <thead>\n",
              "    <tr style=\"text-align: right;\">\n",
              "      <th></th>\n",
              "      <th>div_2_3</th>\n",
              "      <th>prime</th>\n",
              "    </tr>\n",
              "  </thead>\n",
              "  <tbody>\n",
              "    <tr>\n",
              "      <th>0</th>\n",
              "      <td>div_both</td>\n",
              "      <td>yes</td>\n",
              "    </tr>\n",
              "    <tr>\n",
              "      <th>1</th>\n",
              "      <td>div_both</td>\n",
              "      <td>no</td>\n",
              "    </tr>\n",
              "    <tr>\n",
              "      <th>2</th>\n",
              "      <td>not_div_both</td>\n",
              "      <td>yes</td>\n",
              "    </tr>\n",
              "    <tr>\n",
              "      <th>3</th>\n",
              "      <td>not_div_both</td>\n",
              "      <td>no</td>\n",
              "    </tr>\n",
              "    <tr>\n",
              "      <th>4</th>\n",
              "      <td>div_3</td>\n",
              "      <td>yes</td>\n",
              "    </tr>\n",
              "    <tr>\n",
              "      <th>5</th>\n",
              "      <td>div_3</td>\n",
              "      <td>no</td>\n",
              "    </tr>\n",
              "    <tr>\n",
              "      <th>6</th>\n",
              "      <td>div_2</td>\n",
              "      <td>yes</td>\n",
              "    </tr>\n",
              "    <tr>\n",
              "      <th>7</th>\n",
              "      <td>div_2</td>\n",
              "      <td>no</td>\n",
              "    </tr>\n",
              "  </tbody>\n",
              "</table>\n",
              "</div>\n",
              "      <button class=\"colab-df-convert\" onclick=\"convertToInteractive('df-8cab769c-e0c3-41ea-b6c8-999ac8e33636')\"\n",
              "              title=\"Convert this dataframe to an interactive table.\"\n",
              "              style=\"display:none;\">\n",
              "        \n",
              "  <svg xmlns=\"http://www.w3.org/2000/svg\" height=\"24px\"viewBox=\"0 0 24 24\"\n",
              "       width=\"24px\">\n",
              "    <path d=\"M0 0h24v24H0V0z\" fill=\"none\"/>\n",
              "    <path d=\"M18.56 5.44l.94 2.06.94-2.06 2.06-.94-2.06-.94-.94-2.06-.94 2.06-2.06.94zm-11 1L8.5 8.5l.94-2.06 2.06-.94-2.06-.94L8.5 2.5l-.94 2.06-2.06.94zm10 10l.94 2.06.94-2.06 2.06-.94-2.06-.94-.94-2.06-.94 2.06-2.06.94z\"/><path d=\"M17.41 7.96l-1.37-1.37c-.4-.4-.92-.59-1.43-.59-.52 0-1.04.2-1.43.59L10.3 9.45l-7.72 7.72c-.78.78-.78 2.05 0 2.83L4 21.41c.39.39.9.59 1.41.59.51 0 1.02-.2 1.41-.59l7.78-7.78 2.81-2.81c.8-.78.8-2.07 0-2.86zM5.41 20L4 18.59l7.72-7.72 1.47 1.35L5.41 20z\"/>\n",
              "  </svg>\n",
              "      </button>\n",
              "      \n",
              "  <style>\n",
              "    .colab-df-container {\n",
              "      display:flex;\n",
              "      flex-wrap:wrap;\n",
              "      gap: 12px;\n",
              "    }\n",
              "\n",
              "    .colab-df-convert {\n",
              "      background-color: #E8F0FE;\n",
              "      border: none;\n",
              "      border-radius: 50%;\n",
              "      cursor: pointer;\n",
              "      display: none;\n",
              "      fill: #1967D2;\n",
              "      height: 32px;\n",
              "      padding: 0 0 0 0;\n",
              "      width: 32px;\n",
              "    }\n",
              "\n",
              "    .colab-df-convert:hover {\n",
              "      background-color: #E2EBFA;\n",
              "      box-shadow: 0px 1px 2px rgba(60, 64, 67, 0.3), 0px 1px 3px 1px rgba(60, 64, 67, 0.15);\n",
              "      fill: #174EA6;\n",
              "    }\n",
              "\n",
              "    [theme=dark] .colab-df-convert {\n",
              "      background-color: #3B4455;\n",
              "      fill: #D2E3FC;\n",
              "    }\n",
              "\n",
              "    [theme=dark] .colab-df-convert:hover {\n",
              "      background-color: #434B5C;\n",
              "      box-shadow: 0px 1px 3px 1px rgba(0, 0, 0, 0.15);\n",
              "      filter: drop-shadow(0px 1px 2px rgba(0, 0, 0, 0.3));\n",
              "      fill: #FFFFFF;\n",
              "    }\n",
              "  </style>\n",
              "\n",
              "      <script>\n",
              "        const buttonEl =\n",
              "          document.querySelector('#df-8cab769c-e0c3-41ea-b6c8-999ac8e33636 button.colab-df-convert');\n",
              "        buttonEl.style.display =\n",
              "          google.colab.kernel.accessAllowed ? 'block' : 'none';\n",
              "\n",
              "        async function convertToInteractive(key) {\n",
              "          const element = document.querySelector('#df-8cab769c-e0c3-41ea-b6c8-999ac8e33636');\n",
              "          const dataTable =\n",
              "            await google.colab.kernel.invokeFunction('convertToInteractive',\n",
              "                                                     [key], {});\n",
              "          if (!dataTable) return;\n",
              "\n",
              "          const docLinkHtml = 'Like what you see? Visit the ' +\n",
              "            '<a target=\"_blank\" href=https://colab.research.google.com/notebooks/data_table.ipynb>data table notebook</a>'\n",
              "            + ' to learn more about interactive tables.';\n",
              "          element.innerHTML = '';\n",
              "          dataTable['output_type'] = 'display_data';\n",
              "          await google.colab.output.renderOutput(dataTable, element);\n",
              "          const docLink = document.createElement('div');\n",
              "          docLink.innerHTML = docLinkHtml;\n",
              "          element.appendChild(docLink);\n",
              "        }\n",
              "      </script>\n",
              "    </div>\n",
              "  </div>\n",
              "  "
            ]
          },
          "metadata": {},
          "execution_count": 20
        }
      ]
    },
    {
      "cell_type": "markdown",
      "source": [
        "The counts of the various \"state combinations\" can be presented as shown below: "
      ],
      "metadata": {
        "id": "qmO-8hf2n4ft"
      },
      "id": "qmO-8hf2n4ft"
    },
    {
      "cell_type": "code",
      "source": [
        "rows = df3.div_2_3\n",
        "cols = df3.prime\n",
        "counts = pd.crosstab(rows, cols)\n",
        "counts"
      ],
      "metadata": {
        "colab": {
          "base_uri": "https://localhost:8080/",
          "height": 206
        },
        "id": "_g_MsmIIpeBI",
        "outputId": "e0de6852-6f2e-4f66-ee35-e0960e15bf30"
      },
      "id": "_g_MsmIIpeBI",
      "execution_count": null,
      "outputs": [
        {
          "output_type": "execute_result",
          "data": {
            "text/plain": [
              "prime         no  yes\n",
              "div_2_3              \n",
              "div_both       3    0\n",
              "div_three      2    1\n",
              "div_two        6    1\n",
              "not_div_both   1    6"
            ],
            "text/html": [
              "\n",
              "  <div id=\"df-5487cbc4-46d1-46e3-a7d0-0d1d310ee4e1\">\n",
              "    <div class=\"colab-df-container\">\n",
              "      <div>\n",
              "<style scoped>\n",
              "    .dataframe tbody tr th:only-of-type {\n",
              "        vertical-align: middle;\n",
              "    }\n",
              "\n",
              "    .dataframe tbody tr th {\n",
              "        vertical-align: top;\n",
              "    }\n",
              "\n",
              "    .dataframe thead th {\n",
              "        text-align: right;\n",
              "    }\n",
              "</style>\n",
              "<table border=\"1\" class=\"dataframe\">\n",
              "  <thead>\n",
              "    <tr style=\"text-align: right;\">\n",
              "      <th>prime</th>\n",
              "      <th>no</th>\n",
              "      <th>yes</th>\n",
              "    </tr>\n",
              "    <tr>\n",
              "      <th>div_2_3</th>\n",
              "      <th></th>\n",
              "      <th></th>\n",
              "    </tr>\n",
              "  </thead>\n",
              "  <tbody>\n",
              "    <tr>\n",
              "      <th>div_both</th>\n",
              "      <td>3</td>\n",
              "      <td>0</td>\n",
              "    </tr>\n",
              "    <tr>\n",
              "      <th>div_three</th>\n",
              "      <td>2</td>\n",
              "      <td>1</td>\n",
              "    </tr>\n",
              "    <tr>\n",
              "      <th>div_two</th>\n",
              "      <td>6</td>\n",
              "      <td>1</td>\n",
              "    </tr>\n",
              "    <tr>\n",
              "      <th>not_div_both</th>\n",
              "      <td>1</td>\n",
              "      <td>6</td>\n",
              "    </tr>\n",
              "  </tbody>\n",
              "</table>\n",
              "</div>\n",
              "      <button class=\"colab-df-convert\" onclick=\"convertToInteractive('df-5487cbc4-46d1-46e3-a7d0-0d1d310ee4e1')\"\n",
              "              title=\"Convert this dataframe to an interactive table.\"\n",
              "              style=\"display:none;\">\n",
              "        \n",
              "  <svg xmlns=\"http://www.w3.org/2000/svg\" height=\"24px\"viewBox=\"0 0 24 24\"\n",
              "       width=\"24px\">\n",
              "    <path d=\"M0 0h24v24H0V0z\" fill=\"none\"/>\n",
              "    <path d=\"M18.56 5.44l.94 2.06.94-2.06 2.06-.94-2.06-.94-.94-2.06-.94 2.06-2.06.94zm-11 1L8.5 8.5l.94-2.06 2.06-.94-2.06-.94L8.5 2.5l-.94 2.06-2.06.94zm10 10l.94 2.06.94-2.06 2.06-.94-2.06-.94-.94-2.06-.94 2.06-2.06.94z\"/><path d=\"M17.41 7.96l-1.37-1.37c-.4-.4-.92-.59-1.43-.59-.52 0-1.04.2-1.43.59L10.3 9.45l-7.72 7.72c-.78.78-.78 2.05 0 2.83L4 21.41c.39.39.9.59 1.41.59.51 0 1.02-.2 1.41-.59l7.78-7.78 2.81-2.81c.8-.78.8-2.07 0-2.86zM5.41 20L4 18.59l7.72-7.72 1.47 1.35L5.41 20z\"/>\n",
              "  </svg>\n",
              "      </button>\n",
              "      \n",
              "  <style>\n",
              "    .colab-df-container {\n",
              "      display:flex;\n",
              "      flex-wrap:wrap;\n",
              "      gap: 12px;\n",
              "    }\n",
              "\n",
              "    .colab-df-convert {\n",
              "      background-color: #E8F0FE;\n",
              "      border: none;\n",
              "      border-radius: 50%;\n",
              "      cursor: pointer;\n",
              "      display: none;\n",
              "      fill: #1967D2;\n",
              "      height: 32px;\n",
              "      padding: 0 0 0 0;\n",
              "      width: 32px;\n",
              "    }\n",
              "\n",
              "    .colab-df-convert:hover {\n",
              "      background-color: #E2EBFA;\n",
              "      box-shadow: 0px 1px 2px rgba(60, 64, 67, 0.3), 0px 1px 3px 1px rgba(60, 64, 67, 0.15);\n",
              "      fill: #174EA6;\n",
              "    }\n",
              "\n",
              "    [theme=dark] .colab-df-convert {\n",
              "      background-color: #3B4455;\n",
              "      fill: #D2E3FC;\n",
              "    }\n",
              "\n",
              "    [theme=dark] .colab-df-convert:hover {\n",
              "      background-color: #434B5C;\n",
              "      box-shadow: 0px 1px 3px 1px rgba(0, 0, 0, 0.15);\n",
              "      filter: drop-shadow(0px 1px 2px rgba(0, 0, 0, 0.3));\n",
              "      fill: #FFFFFF;\n",
              "    }\n",
              "  </style>\n",
              "\n",
              "      <script>\n",
              "        const buttonEl =\n",
              "          document.querySelector('#df-5487cbc4-46d1-46e3-a7d0-0d1d310ee4e1 button.colab-df-convert');\n",
              "        buttonEl.style.display =\n",
              "          google.colab.kernel.accessAllowed ? 'block' : 'none';\n",
              "\n",
              "        async function convertToInteractive(key) {\n",
              "          const element = document.querySelector('#df-5487cbc4-46d1-46e3-a7d0-0d1d310ee4e1');\n",
              "          const dataTable =\n",
              "            await google.colab.kernel.invokeFunction('convertToInteractive',\n",
              "                                                     [key], {});\n",
              "          if (!dataTable) return;\n",
              "\n",
              "          const docLinkHtml = 'Like what you see? Visit the ' +\n",
              "            '<a target=\"_blank\" href=https://colab.research.google.com/notebooks/data_table.ipynb>data table notebook</a>'\n",
              "            + ' to learn more about interactive tables.';\n",
              "          element.innerHTML = '';\n",
              "          dataTable['output_type'] = 'display_data';\n",
              "          await google.colab.output.renderOutput(dataTable, element);\n",
              "          const docLink = document.createElement('div');\n",
              "          docLink.innerHTML = docLinkHtml;\n",
              "          element.appendChild(docLink);\n",
              "        }\n",
              "      </script>\n",
              "    </div>\n",
              "  </div>\n",
              "  "
            ]
          },
          "metadata": {},
          "execution_count": 32
        }
      ]
    },
    {
      "cell_type": "markdown",
      "source": [
        "Each cell in the table above represents counts of joint outcomes.   \n",
        "The joint probabilties for each of the combinations   \n",
        "can now be got by   \n",
        "dividing each value in the table   \n",
        "by the size of the sample space.     \n",
        "\n",
        "The table thus obtained is the CONTINGENCY TABLE wrt the 2 random variables div_2_3 and prime.   "
      ],
      "metadata": {
        "id": "Htja2B7SM60p"
      },
      "id": "Htja2B7SM60p"
    },
    {
      "cell_type": "code",
      "source": [
        "joint_probabilties = counts/len(df3)\n",
        "joint_probabilties"
      ],
      "metadata": {
        "colab": {
          "base_uri": "https://localhost:8080/",
          "height": 206
        },
        "id": "RMnKWWJ4NkFV",
        "outputId": "9c165a26-8e61-49a1-d6c0-acd374a368f5"
      },
      "id": "RMnKWWJ4NkFV",
      "execution_count": null,
      "outputs": [
        {
          "output_type": "execute_result",
          "data": {
            "text/plain": [
              "prime           no   yes\n",
              "div_2_3                 \n",
              "div_both      0.15  0.00\n",
              "div_three     0.10  0.05\n",
              "div_two       0.30  0.05\n",
              "not_div_both  0.05  0.30"
            ],
            "text/html": [
              "\n",
              "  <div id=\"df-25087ae2-a818-457d-bb18-8e56dd36acd0\">\n",
              "    <div class=\"colab-df-container\">\n",
              "      <div>\n",
              "<style scoped>\n",
              "    .dataframe tbody tr th:only-of-type {\n",
              "        vertical-align: middle;\n",
              "    }\n",
              "\n",
              "    .dataframe tbody tr th {\n",
              "        vertical-align: top;\n",
              "    }\n",
              "\n",
              "    .dataframe thead th {\n",
              "        text-align: right;\n",
              "    }\n",
              "</style>\n",
              "<table border=\"1\" class=\"dataframe\">\n",
              "  <thead>\n",
              "    <tr style=\"text-align: right;\">\n",
              "      <th>prime</th>\n",
              "      <th>no</th>\n",
              "      <th>yes</th>\n",
              "    </tr>\n",
              "    <tr>\n",
              "      <th>div_2_3</th>\n",
              "      <th></th>\n",
              "      <th></th>\n",
              "    </tr>\n",
              "  </thead>\n",
              "  <tbody>\n",
              "    <tr>\n",
              "      <th>div_both</th>\n",
              "      <td>0.15</td>\n",
              "      <td>0.00</td>\n",
              "    </tr>\n",
              "    <tr>\n",
              "      <th>div_three</th>\n",
              "      <td>0.10</td>\n",
              "      <td>0.05</td>\n",
              "    </tr>\n",
              "    <tr>\n",
              "      <th>div_two</th>\n",
              "      <td>0.30</td>\n",
              "      <td>0.05</td>\n",
              "    </tr>\n",
              "    <tr>\n",
              "      <th>not_div_both</th>\n",
              "      <td>0.05</td>\n",
              "      <td>0.30</td>\n",
              "    </tr>\n",
              "  </tbody>\n",
              "</table>\n",
              "</div>\n",
              "      <button class=\"colab-df-convert\" onclick=\"convertToInteractive('df-25087ae2-a818-457d-bb18-8e56dd36acd0')\"\n",
              "              title=\"Convert this dataframe to an interactive table.\"\n",
              "              style=\"display:none;\">\n",
              "        \n",
              "  <svg xmlns=\"http://www.w3.org/2000/svg\" height=\"24px\"viewBox=\"0 0 24 24\"\n",
              "       width=\"24px\">\n",
              "    <path d=\"M0 0h24v24H0V0z\" fill=\"none\"/>\n",
              "    <path d=\"M18.56 5.44l.94 2.06.94-2.06 2.06-.94-2.06-.94-.94-2.06-.94 2.06-2.06.94zm-11 1L8.5 8.5l.94-2.06 2.06-.94-2.06-.94L8.5 2.5l-.94 2.06-2.06.94zm10 10l.94 2.06.94-2.06 2.06-.94-2.06-.94-.94-2.06-.94 2.06-2.06.94z\"/><path d=\"M17.41 7.96l-1.37-1.37c-.4-.4-.92-.59-1.43-.59-.52 0-1.04.2-1.43.59L10.3 9.45l-7.72 7.72c-.78.78-.78 2.05 0 2.83L4 21.41c.39.39.9.59 1.41.59.51 0 1.02-.2 1.41-.59l7.78-7.78 2.81-2.81c.8-.78.8-2.07 0-2.86zM5.41 20L4 18.59l7.72-7.72 1.47 1.35L5.41 20z\"/>\n",
              "  </svg>\n",
              "      </button>\n",
              "      \n",
              "  <style>\n",
              "    .colab-df-container {\n",
              "      display:flex;\n",
              "      flex-wrap:wrap;\n",
              "      gap: 12px;\n",
              "    }\n",
              "\n",
              "    .colab-df-convert {\n",
              "      background-color: #E8F0FE;\n",
              "      border: none;\n",
              "      border-radius: 50%;\n",
              "      cursor: pointer;\n",
              "      display: none;\n",
              "      fill: #1967D2;\n",
              "      height: 32px;\n",
              "      padding: 0 0 0 0;\n",
              "      width: 32px;\n",
              "    }\n",
              "\n",
              "    .colab-df-convert:hover {\n",
              "      background-color: #E2EBFA;\n",
              "      box-shadow: 0px 1px 2px rgba(60, 64, 67, 0.3), 0px 1px 3px 1px rgba(60, 64, 67, 0.15);\n",
              "      fill: #174EA6;\n",
              "    }\n",
              "\n",
              "    [theme=dark] .colab-df-convert {\n",
              "      background-color: #3B4455;\n",
              "      fill: #D2E3FC;\n",
              "    }\n",
              "\n",
              "    [theme=dark] .colab-df-convert:hover {\n",
              "      background-color: #434B5C;\n",
              "      box-shadow: 0px 1px 3px 1px rgba(0, 0, 0, 0.15);\n",
              "      filter: drop-shadow(0px 1px 2px rgba(0, 0, 0, 0.3));\n",
              "      fill: #FFFFFF;\n",
              "    }\n",
              "  </style>\n",
              "\n",
              "      <script>\n",
              "        const buttonEl =\n",
              "          document.querySelector('#df-25087ae2-a818-457d-bb18-8e56dd36acd0 button.colab-df-convert');\n",
              "        buttonEl.style.display =\n",
              "          google.colab.kernel.accessAllowed ? 'block' : 'none';\n",
              "\n",
              "        async function convertToInteractive(key) {\n",
              "          const element = document.querySelector('#df-25087ae2-a818-457d-bb18-8e56dd36acd0');\n",
              "          const dataTable =\n",
              "            await google.colab.kernel.invokeFunction('convertToInteractive',\n",
              "                                                     [key], {});\n",
              "          if (!dataTable) return;\n",
              "\n",
              "          const docLinkHtml = 'Like what you see? Visit the ' +\n",
              "            '<a target=\"_blank\" href=https://colab.research.google.com/notebooks/data_table.ipynb>data table notebook</a>'\n",
              "            + ' to learn more about interactive tables.';\n",
              "          element.innerHTML = '';\n",
              "          dataTable['output_type'] = 'display_data';\n",
              "          await google.colab.output.renderOutput(dataTable, element);\n",
              "          const docLink = document.createElement('div');\n",
              "          docLink.innerHTML = docLinkHtml;\n",
              "          element.appendChild(docLink);\n",
              "        }\n",
              "      </script>\n",
              "    </div>\n",
              "  </div>\n",
              "  "
            ]
          },
          "metadata": {},
          "execution_count": 33
        }
      ]
    },
    {
      "cell_type": "markdown",
      "source": [
        " \n",
        "Joint probabilties can also be directly computed as shown below:"
      ],
      "metadata": {
        "id": "oj8NJ-xFPK-Q"
      },
      "id": "oj8NJ-xFPK-Q"
    },
    {
      "cell_type": "code",
      "source": [
        "not_div_both_and_prime = (df3.div_2_3 == 'not_div_both') & (df3.prime == 'yes')\n",
        "\n",
        "len(df3[not_div_both_and_prime])/len(df3)"
      ],
      "metadata": {
        "colab": {
          "base_uri": "https://localhost:8080/"
        },
        "id": "voAsnw09d0yo",
        "outputId": "5d76bce4-08de-48e4-f2c5-213e9de010e7"
      },
      "id": "voAsnw09d0yo",
      "execution_count": null,
      "outputs": [
        {
          "output_type": "execute_result",
          "data": {
            "text/plain": [
              "0.3"
            ]
          },
          "metadata": {},
          "execution_count": 35
        }
      ]
    },
    {
      "cell_type": "code",
      "source": [
        "div_three_and_not_prime = (df3.div_2_3 == 'div_three') & (df3.prime == 'no')\n",
        "\n",
        "len(df3[div_three_and_not_prime])/len(df3)"
      ],
      "metadata": {
        "colab": {
          "base_uri": "https://localhost:8080/"
        },
        "id": "zj5xy4FkEbJz",
        "outputId": "9e2c5946-6e34-4da5-d273-0f5affaa2bc8"
      },
      "id": "zj5xy4FkEbJz",
      "execution_count": null,
      "outputs": [
        {
          "output_type": "execute_result",
          "data": {
            "text/plain": [
              "0.1"
            ]
          },
          "metadata": {},
          "execution_count": 38
        }
      ]
    },
    {
      "cell_type": "code",
      "source": [
        ""
      ],
      "metadata": {
        "id": "JES2swzLvPm1"
      },
      "id": "JES2swzLvPm1",
      "execution_count": null,
      "outputs": []
    },
    {
      "cell_type": "code",
      "source": [
        ""
      ],
      "metadata": {
        "id": "qyA3o7f1QU1g"
      },
      "id": "qyA3o7f1QU1g",
      "execution_count": null,
      "outputs": []
    },
    {
      "cell_type": "markdown",
      "source": [
        "Are conditional probabilities possible between random variables?    \n",
        "Yes they are. Such probabilities are called MARGINAL PROBABILITIES.\n",
        "\n",
        "## WHAT ARE MARGINAL PROBABILTITIES?\n",
        "Let us reconsider the random variables just discussed previously:\n"
      ],
      "metadata": {
        "id": "r-xaAKUj12k2"
      },
      "id": "r-xaAKUj12k2"
    },
    {
      "cell_type": "code",
      "source": [
        "df3.head()"
      ],
      "metadata": {
        "colab": {
          "base_uri": "https://localhost:8080/",
          "height": 206
        },
        "id": "cib6ryNh3Xh7",
        "outputId": "cd508c45-0f20-4806-ed24-009d629e624d"
      },
      "id": "cib6ryNh3Xh7",
      "execution_count": null,
      "outputs": [
        {
          "output_type": "execute_result",
          "data": {
            "text/plain": [
              "  outcome       div_2_3 prime\n",
              "0       1  not_div_both    no\n",
              "1       2       div_two   yes\n",
              "2       3     div_three   yes\n",
              "3       4       div_two    no\n",
              "4       5  not_div_both   yes"
            ],
            "text/html": [
              "\n",
              "  <div id=\"df-6791785e-93f1-433c-9705-04a0a220eac5\">\n",
              "    <div class=\"colab-df-container\">\n",
              "      <div>\n",
              "<style scoped>\n",
              "    .dataframe tbody tr th:only-of-type {\n",
              "        vertical-align: middle;\n",
              "    }\n",
              "\n",
              "    .dataframe tbody tr th {\n",
              "        vertical-align: top;\n",
              "    }\n",
              "\n",
              "    .dataframe thead th {\n",
              "        text-align: right;\n",
              "    }\n",
              "</style>\n",
              "<table border=\"1\" class=\"dataframe\">\n",
              "  <thead>\n",
              "    <tr style=\"text-align: right;\">\n",
              "      <th></th>\n",
              "      <th>outcome</th>\n",
              "      <th>div_2_3</th>\n",
              "      <th>prime</th>\n",
              "    </tr>\n",
              "  </thead>\n",
              "  <tbody>\n",
              "    <tr>\n",
              "      <th>0</th>\n",
              "      <td>1</td>\n",
              "      <td>not_div_both</td>\n",
              "      <td>no</td>\n",
              "    </tr>\n",
              "    <tr>\n",
              "      <th>1</th>\n",
              "      <td>2</td>\n",
              "      <td>div_two</td>\n",
              "      <td>yes</td>\n",
              "    </tr>\n",
              "    <tr>\n",
              "      <th>2</th>\n",
              "      <td>3</td>\n",
              "      <td>div_three</td>\n",
              "      <td>yes</td>\n",
              "    </tr>\n",
              "    <tr>\n",
              "      <th>3</th>\n",
              "      <td>4</td>\n",
              "      <td>div_two</td>\n",
              "      <td>no</td>\n",
              "    </tr>\n",
              "    <tr>\n",
              "      <th>4</th>\n",
              "      <td>5</td>\n",
              "      <td>not_div_both</td>\n",
              "      <td>yes</td>\n",
              "    </tr>\n",
              "  </tbody>\n",
              "</table>\n",
              "</div>\n",
              "      <button class=\"colab-df-convert\" onclick=\"convertToInteractive('df-6791785e-93f1-433c-9705-04a0a220eac5')\"\n",
              "              title=\"Convert this dataframe to an interactive table.\"\n",
              "              style=\"display:none;\">\n",
              "        \n",
              "  <svg xmlns=\"http://www.w3.org/2000/svg\" height=\"24px\"viewBox=\"0 0 24 24\"\n",
              "       width=\"24px\">\n",
              "    <path d=\"M0 0h24v24H0V0z\" fill=\"none\"/>\n",
              "    <path d=\"M18.56 5.44l.94 2.06.94-2.06 2.06-.94-2.06-.94-.94-2.06-.94 2.06-2.06.94zm-11 1L8.5 8.5l.94-2.06 2.06-.94-2.06-.94L8.5 2.5l-.94 2.06-2.06.94zm10 10l.94 2.06.94-2.06 2.06-.94-2.06-.94-.94-2.06-.94 2.06-2.06.94z\"/><path d=\"M17.41 7.96l-1.37-1.37c-.4-.4-.92-.59-1.43-.59-.52 0-1.04.2-1.43.59L10.3 9.45l-7.72 7.72c-.78.78-.78 2.05 0 2.83L4 21.41c.39.39.9.59 1.41.59.51 0 1.02-.2 1.41-.59l7.78-7.78 2.81-2.81c.8-.78.8-2.07 0-2.86zM5.41 20L4 18.59l7.72-7.72 1.47 1.35L5.41 20z\"/>\n",
              "  </svg>\n",
              "      </button>\n",
              "      \n",
              "  <style>\n",
              "    .colab-df-container {\n",
              "      display:flex;\n",
              "      flex-wrap:wrap;\n",
              "      gap: 12px;\n",
              "    }\n",
              "\n",
              "    .colab-df-convert {\n",
              "      background-color: #E8F0FE;\n",
              "      border: none;\n",
              "      border-radius: 50%;\n",
              "      cursor: pointer;\n",
              "      display: none;\n",
              "      fill: #1967D2;\n",
              "      height: 32px;\n",
              "      padding: 0 0 0 0;\n",
              "      width: 32px;\n",
              "    }\n",
              "\n",
              "    .colab-df-convert:hover {\n",
              "      background-color: #E2EBFA;\n",
              "      box-shadow: 0px 1px 2px rgba(60, 64, 67, 0.3), 0px 1px 3px 1px rgba(60, 64, 67, 0.15);\n",
              "      fill: #174EA6;\n",
              "    }\n",
              "\n",
              "    [theme=dark] .colab-df-convert {\n",
              "      background-color: #3B4455;\n",
              "      fill: #D2E3FC;\n",
              "    }\n",
              "\n",
              "    [theme=dark] .colab-df-convert:hover {\n",
              "      background-color: #434B5C;\n",
              "      box-shadow: 0px 1px 3px 1px rgba(0, 0, 0, 0.15);\n",
              "      filter: drop-shadow(0px 1px 2px rgba(0, 0, 0, 0.3));\n",
              "      fill: #FFFFFF;\n",
              "    }\n",
              "  </style>\n",
              "\n",
              "      <script>\n",
              "        const buttonEl =\n",
              "          document.querySelector('#df-6791785e-93f1-433c-9705-04a0a220eac5 button.colab-df-convert');\n",
              "        buttonEl.style.display =\n",
              "          google.colab.kernel.accessAllowed ? 'block' : 'none';\n",
              "\n",
              "        async function convertToInteractive(key) {\n",
              "          const element = document.querySelector('#df-6791785e-93f1-433c-9705-04a0a220eac5');\n",
              "          const dataTable =\n",
              "            await google.colab.kernel.invokeFunction('convertToInteractive',\n",
              "                                                     [key], {});\n",
              "          if (!dataTable) return;\n",
              "\n",
              "          const docLinkHtml = 'Like what you see? Visit the ' +\n",
              "            '<a target=\"_blank\" href=https://colab.research.google.com/notebooks/data_table.ipynb>data table notebook</a>'\n",
              "            + ' to learn more about interactive tables.';\n",
              "          element.innerHTML = '';\n",
              "          dataTable['output_type'] = 'display_data';\n",
              "          await google.colab.output.renderOutput(dataTable, element);\n",
              "          const docLink = document.createElement('div');\n",
              "          docLink.innerHTML = docLinkHtml;\n",
              "          element.appendChild(docLink);\n",
              "        }\n",
              "      </script>\n",
              "    </div>\n",
              "  </div>\n",
              "  "
            ]
          },
          "metadata": {},
          "execution_count": 39
        }
      ]
    },
    {
      "cell_type": "markdown",
      "source": [
        "What is the probabilty that an outcome is prime given that it is not divisible by both 2 & 3?   \n",
        "ie: We want: P(not_div_both | prime)   \n",
        "ie: __Marginal probabilties are basically conditional probabilities between 2 or more Random Variables.__  \n",
        "\n",
        "This can easily computed using our understanding of intersections.\n",
        "This is shown below. "
      ],
      "metadata": {
        "id": "wodpEGV2Tss2"
      },
      "id": "wodpEGV2Tss2"
    },
    {
      "cell_type": "markdown",
      "source": [
        "It can also be computed using our understanding of intersections    \n",
        "ie: P(A|B) = P(A∩B)/P(B).\n",
        "\n",
        "Wrt the our example it would thus be:\n",
        "\n"
      ],
      "metadata": {
        "id": "K_9CUEveWdMX"
      },
      "id": "K_9CUEveWdMX"
    },
    {
      "cell_type": "code",
      "source": [
        "cond_1 = df3.div_2_3 == 'not_div_both'\n",
        "cond_2 = df3.prime == 'yes'\n",
        "intersection = cond_1 & cond_2\n",
        "\n",
        "size_intersection = len(df3[intersection])\n",
        "prime_count = len(df3[df3.prime == 'yes'])\n",
        "\n",
        "P_not_div_both_given_prime = size_intersection/prime_count\n",
        "P_not_div_both_given_prime"
      ],
      "metadata": {
        "colab": {
          "base_uri": "https://localhost:8080/"
        },
        "id": "ydnLgw-dvUj5",
        "outputId": "1f1a439c-b8df-446c-c681-6fa0ae8bca2b"
      },
      "id": "ydnLgw-dvUj5",
      "execution_count": null,
      "outputs": [
        {
          "output_type": "execute_result",
          "data": {
            "text/plain": [
              "0.75"
            ]
          },
          "metadata": {},
          "execution_count": 58
        }
      ]
    },
    {
      "cell_type": "markdown",
      "source": [
        "The same can also be found by first isolating all prime number outcomes and  \n",
        "then finding what proportion of those are not divisibe by 2 and 3.   \n",
        "This done as shown below.\n",
        "\n"
      ],
      "metadata": {
        "id": "OyeGKET9L15d"
      },
      "id": "OyeGKET9L15d"
    },
    {
      "cell_type": "code",
      "source": [
        "condition = (df3.prime == 'yes')\n",
        "prime_outcomes = df3[condition]\n",
        "\n",
        "prime_outcomes"
      ],
      "metadata": {
        "colab": {
          "base_uri": "https://localhost:8080/",
          "height": 300
        },
        "id": "ASJ2JtRoatEl",
        "outputId": "65e0b788-d475-4d15-b87f-1fd1ec59d488"
      },
      "id": "ASJ2JtRoatEl",
      "execution_count": null,
      "outputs": [
        {
          "output_type": "execute_result",
          "data": {
            "text/plain": [
              "   outcome       div_2_3 prime\n",
              "1        2       div_two   yes\n",
              "2        3     div_three   yes\n",
              "4        5  not_div_both   yes\n",
              "6        7  not_div_both   yes\n",
              "10      11  not_div_both   yes\n",
              "12      13  not_div_both   yes\n",
              "16      17  not_div_both   yes\n",
              "18      19  not_div_both   yes"
            ],
            "text/html": [
              "\n",
              "  <div id=\"df-9461ab07-affe-478b-a356-665f370ab0c1\">\n",
              "    <div class=\"colab-df-container\">\n",
              "      <div>\n",
              "<style scoped>\n",
              "    .dataframe tbody tr th:only-of-type {\n",
              "        vertical-align: middle;\n",
              "    }\n",
              "\n",
              "    .dataframe tbody tr th {\n",
              "        vertical-align: top;\n",
              "    }\n",
              "\n",
              "    .dataframe thead th {\n",
              "        text-align: right;\n",
              "    }\n",
              "</style>\n",
              "<table border=\"1\" class=\"dataframe\">\n",
              "  <thead>\n",
              "    <tr style=\"text-align: right;\">\n",
              "      <th></th>\n",
              "      <th>outcome</th>\n",
              "      <th>div_2_3</th>\n",
              "      <th>prime</th>\n",
              "    </tr>\n",
              "  </thead>\n",
              "  <tbody>\n",
              "    <tr>\n",
              "      <th>1</th>\n",
              "      <td>2</td>\n",
              "      <td>div_two</td>\n",
              "      <td>yes</td>\n",
              "    </tr>\n",
              "    <tr>\n",
              "      <th>2</th>\n",
              "      <td>3</td>\n",
              "      <td>div_three</td>\n",
              "      <td>yes</td>\n",
              "    </tr>\n",
              "    <tr>\n",
              "      <th>4</th>\n",
              "      <td>5</td>\n",
              "      <td>not_div_both</td>\n",
              "      <td>yes</td>\n",
              "    </tr>\n",
              "    <tr>\n",
              "      <th>6</th>\n",
              "      <td>7</td>\n",
              "      <td>not_div_both</td>\n",
              "      <td>yes</td>\n",
              "    </tr>\n",
              "    <tr>\n",
              "      <th>10</th>\n",
              "      <td>11</td>\n",
              "      <td>not_div_both</td>\n",
              "      <td>yes</td>\n",
              "    </tr>\n",
              "    <tr>\n",
              "      <th>12</th>\n",
              "      <td>13</td>\n",
              "      <td>not_div_both</td>\n",
              "      <td>yes</td>\n",
              "    </tr>\n",
              "    <tr>\n",
              "      <th>16</th>\n",
              "      <td>17</td>\n",
              "      <td>not_div_both</td>\n",
              "      <td>yes</td>\n",
              "    </tr>\n",
              "    <tr>\n",
              "      <th>18</th>\n",
              "      <td>19</td>\n",
              "      <td>not_div_both</td>\n",
              "      <td>yes</td>\n",
              "    </tr>\n",
              "  </tbody>\n",
              "</table>\n",
              "</div>\n",
              "      <button class=\"colab-df-convert\" onclick=\"convertToInteractive('df-9461ab07-affe-478b-a356-665f370ab0c1')\"\n",
              "              title=\"Convert this dataframe to an interactive table.\"\n",
              "              style=\"display:none;\">\n",
              "        \n",
              "  <svg xmlns=\"http://www.w3.org/2000/svg\" height=\"24px\"viewBox=\"0 0 24 24\"\n",
              "       width=\"24px\">\n",
              "    <path d=\"M0 0h24v24H0V0z\" fill=\"none\"/>\n",
              "    <path d=\"M18.56 5.44l.94 2.06.94-2.06 2.06-.94-2.06-.94-.94-2.06-.94 2.06-2.06.94zm-11 1L8.5 8.5l.94-2.06 2.06-.94-2.06-.94L8.5 2.5l-.94 2.06-2.06.94zm10 10l.94 2.06.94-2.06 2.06-.94-2.06-.94-.94-2.06-.94 2.06-2.06.94z\"/><path d=\"M17.41 7.96l-1.37-1.37c-.4-.4-.92-.59-1.43-.59-.52 0-1.04.2-1.43.59L10.3 9.45l-7.72 7.72c-.78.78-.78 2.05 0 2.83L4 21.41c.39.39.9.59 1.41.59.51 0 1.02-.2 1.41-.59l7.78-7.78 2.81-2.81c.8-.78.8-2.07 0-2.86zM5.41 20L4 18.59l7.72-7.72 1.47 1.35L5.41 20z\"/>\n",
              "  </svg>\n",
              "      </button>\n",
              "      \n",
              "  <style>\n",
              "    .colab-df-container {\n",
              "      display:flex;\n",
              "      flex-wrap:wrap;\n",
              "      gap: 12px;\n",
              "    }\n",
              "\n",
              "    .colab-df-convert {\n",
              "      background-color: #E8F0FE;\n",
              "      border: none;\n",
              "      border-radius: 50%;\n",
              "      cursor: pointer;\n",
              "      display: none;\n",
              "      fill: #1967D2;\n",
              "      height: 32px;\n",
              "      padding: 0 0 0 0;\n",
              "      width: 32px;\n",
              "    }\n",
              "\n",
              "    .colab-df-convert:hover {\n",
              "      background-color: #E2EBFA;\n",
              "      box-shadow: 0px 1px 2px rgba(60, 64, 67, 0.3), 0px 1px 3px 1px rgba(60, 64, 67, 0.15);\n",
              "      fill: #174EA6;\n",
              "    }\n",
              "\n",
              "    [theme=dark] .colab-df-convert {\n",
              "      background-color: #3B4455;\n",
              "      fill: #D2E3FC;\n",
              "    }\n",
              "\n",
              "    [theme=dark] .colab-df-convert:hover {\n",
              "      background-color: #434B5C;\n",
              "      box-shadow: 0px 1px 3px 1px rgba(0, 0, 0, 0.15);\n",
              "      filter: drop-shadow(0px 1px 2px rgba(0, 0, 0, 0.3));\n",
              "      fill: #FFFFFF;\n",
              "    }\n",
              "  </style>\n",
              "\n",
              "      <script>\n",
              "        const buttonEl =\n",
              "          document.querySelector('#df-9461ab07-affe-478b-a356-665f370ab0c1 button.colab-df-convert');\n",
              "        buttonEl.style.display =\n",
              "          google.colab.kernel.accessAllowed ? 'block' : 'none';\n",
              "\n",
              "        async function convertToInteractive(key) {\n",
              "          const element = document.querySelector('#df-9461ab07-affe-478b-a356-665f370ab0c1');\n",
              "          const dataTable =\n",
              "            await google.colab.kernel.invokeFunction('convertToInteractive',\n",
              "                                                     [key], {});\n",
              "          if (!dataTable) return;\n",
              "\n",
              "          const docLinkHtml = 'Like what you see? Visit the ' +\n",
              "            '<a target=\"_blank\" href=https://colab.research.google.com/notebooks/data_table.ipynb>data table notebook</a>'\n",
              "            + ' to learn more about interactive tables.';\n",
              "          element.innerHTML = '';\n",
              "          dataTable['output_type'] = 'display_data';\n",
              "          await google.colab.output.renderOutput(dataTable, element);\n",
              "          const docLink = document.createElement('div');\n",
              "          docLink.innerHTML = docLinkHtml;\n",
              "          element.appendChild(docLink);\n",
              "        }\n",
              "      </script>\n",
              "    </div>\n",
              "  </div>\n",
              "  "
            ]
          },
          "metadata": {},
          "execution_count": 65
        }
      ]
    },
    {
      "cell_type": "code",
      "source": [
        "condition = (prime_outcomes.div_2_3 == 'not_div_both')\n",
        "prime_not_div_both = prime_outcomes[condition]\n",
        "prime_not_div_both"
      ],
      "metadata": {
        "colab": {
          "base_uri": "https://localhost:8080/",
          "height": 237
        },
        "id": "fLIsTOxlatAj",
        "outputId": "fbfeebd2-63a3-43dd-a91d-a63f9b3116f8"
      },
      "id": "fLIsTOxlatAj",
      "execution_count": null,
      "outputs": [
        {
          "output_type": "execute_result",
          "data": {
            "text/plain": [
              "   outcome       div_2_3 prime\n",
              "4        5  not_div_both   yes\n",
              "6        7  not_div_both   yes\n",
              "10      11  not_div_both   yes\n",
              "12      13  not_div_both   yes\n",
              "16      17  not_div_both   yes\n",
              "18      19  not_div_both   yes"
            ],
            "text/html": [
              "\n",
              "  <div id=\"df-32d832ed-5568-488d-b5b9-f716ce2848f0\">\n",
              "    <div class=\"colab-df-container\">\n",
              "      <div>\n",
              "<style scoped>\n",
              "    .dataframe tbody tr th:only-of-type {\n",
              "        vertical-align: middle;\n",
              "    }\n",
              "\n",
              "    .dataframe tbody tr th {\n",
              "        vertical-align: top;\n",
              "    }\n",
              "\n",
              "    .dataframe thead th {\n",
              "        text-align: right;\n",
              "    }\n",
              "</style>\n",
              "<table border=\"1\" class=\"dataframe\">\n",
              "  <thead>\n",
              "    <tr style=\"text-align: right;\">\n",
              "      <th></th>\n",
              "      <th>outcome</th>\n",
              "      <th>div_2_3</th>\n",
              "      <th>prime</th>\n",
              "    </tr>\n",
              "  </thead>\n",
              "  <tbody>\n",
              "    <tr>\n",
              "      <th>4</th>\n",
              "      <td>5</td>\n",
              "      <td>not_div_both</td>\n",
              "      <td>yes</td>\n",
              "    </tr>\n",
              "    <tr>\n",
              "      <th>6</th>\n",
              "      <td>7</td>\n",
              "      <td>not_div_both</td>\n",
              "      <td>yes</td>\n",
              "    </tr>\n",
              "    <tr>\n",
              "      <th>10</th>\n",
              "      <td>11</td>\n",
              "      <td>not_div_both</td>\n",
              "      <td>yes</td>\n",
              "    </tr>\n",
              "    <tr>\n",
              "      <th>12</th>\n",
              "      <td>13</td>\n",
              "      <td>not_div_both</td>\n",
              "      <td>yes</td>\n",
              "    </tr>\n",
              "    <tr>\n",
              "      <th>16</th>\n",
              "      <td>17</td>\n",
              "      <td>not_div_both</td>\n",
              "      <td>yes</td>\n",
              "    </tr>\n",
              "    <tr>\n",
              "      <th>18</th>\n",
              "      <td>19</td>\n",
              "      <td>not_div_both</td>\n",
              "      <td>yes</td>\n",
              "    </tr>\n",
              "  </tbody>\n",
              "</table>\n",
              "</div>\n",
              "      <button class=\"colab-df-convert\" onclick=\"convertToInteractive('df-32d832ed-5568-488d-b5b9-f716ce2848f0')\"\n",
              "              title=\"Convert this dataframe to an interactive table.\"\n",
              "              style=\"display:none;\">\n",
              "        \n",
              "  <svg xmlns=\"http://www.w3.org/2000/svg\" height=\"24px\"viewBox=\"0 0 24 24\"\n",
              "       width=\"24px\">\n",
              "    <path d=\"M0 0h24v24H0V0z\" fill=\"none\"/>\n",
              "    <path d=\"M18.56 5.44l.94 2.06.94-2.06 2.06-.94-2.06-.94-.94-2.06-.94 2.06-2.06.94zm-11 1L8.5 8.5l.94-2.06 2.06-.94-2.06-.94L8.5 2.5l-.94 2.06-2.06.94zm10 10l.94 2.06.94-2.06 2.06-.94-2.06-.94-.94-2.06-.94 2.06-2.06.94z\"/><path d=\"M17.41 7.96l-1.37-1.37c-.4-.4-.92-.59-1.43-.59-.52 0-1.04.2-1.43.59L10.3 9.45l-7.72 7.72c-.78.78-.78 2.05 0 2.83L4 21.41c.39.39.9.59 1.41.59.51 0 1.02-.2 1.41-.59l7.78-7.78 2.81-2.81c.8-.78.8-2.07 0-2.86zM5.41 20L4 18.59l7.72-7.72 1.47 1.35L5.41 20z\"/>\n",
              "  </svg>\n",
              "      </button>\n",
              "      \n",
              "  <style>\n",
              "    .colab-df-container {\n",
              "      display:flex;\n",
              "      flex-wrap:wrap;\n",
              "      gap: 12px;\n",
              "    }\n",
              "\n",
              "    .colab-df-convert {\n",
              "      background-color: #E8F0FE;\n",
              "      border: none;\n",
              "      border-radius: 50%;\n",
              "      cursor: pointer;\n",
              "      display: none;\n",
              "      fill: #1967D2;\n",
              "      height: 32px;\n",
              "      padding: 0 0 0 0;\n",
              "      width: 32px;\n",
              "    }\n",
              "\n",
              "    .colab-df-convert:hover {\n",
              "      background-color: #E2EBFA;\n",
              "      box-shadow: 0px 1px 2px rgba(60, 64, 67, 0.3), 0px 1px 3px 1px rgba(60, 64, 67, 0.15);\n",
              "      fill: #174EA6;\n",
              "    }\n",
              "\n",
              "    [theme=dark] .colab-df-convert {\n",
              "      background-color: #3B4455;\n",
              "      fill: #D2E3FC;\n",
              "    }\n",
              "\n",
              "    [theme=dark] .colab-df-convert:hover {\n",
              "      background-color: #434B5C;\n",
              "      box-shadow: 0px 1px 3px 1px rgba(0, 0, 0, 0.15);\n",
              "      filter: drop-shadow(0px 1px 2px rgba(0, 0, 0, 0.3));\n",
              "      fill: #FFFFFF;\n",
              "    }\n",
              "  </style>\n",
              "\n",
              "      <script>\n",
              "        const buttonEl =\n",
              "          document.querySelector('#df-32d832ed-5568-488d-b5b9-f716ce2848f0 button.colab-df-convert');\n",
              "        buttonEl.style.display =\n",
              "          google.colab.kernel.accessAllowed ? 'block' : 'none';\n",
              "\n",
              "        async function convertToInteractive(key) {\n",
              "          const element = document.querySelector('#df-32d832ed-5568-488d-b5b9-f716ce2848f0');\n",
              "          const dataTable =\n",
              "            await google.colab.kernel.invokeFunction('convertToInteractive',\n",
              "                                                     [key], {});\n",
              "          if (!dataTable) return;\n",
              "\n",
              "          const docLinkHtml = 'Like what you see? Visit the ' +\n",
              "            '<a target=\"_blank\" href=https://colab.research.google.com/notebooks/data_table.ipynb>data table notebook</a>'\n",
              "            + ' to learn more about interactive tables.';\n",
              "          element.innerHTML = '';\n",
              "          dataTable['output_type'] = 'display_data';\n",
              "          await google.colab.output.renderOutput(dataTable, element);\n",
              "          const docLink = document.createElement('div');\n",
              "          docLink.innerHTML = docLinkHtml;\n",
              "          element.appendChild(docLink);\n",
              "        }\n",
              "      </script>\n",
              "    </div>\n",
              "  </div>\n",
              "  "
            ]
          },
          "metadata": {},
          "execution_count": 66
        }
      ]
    },
    {
      "cell_type": "code",
      "source": [
        "P_not_div_both_given_prime = len(prime_not_div_both)/len(prime_outcomes)\n",
        "P_not_div_both_given_prime"
      ],
      "metadata": {
        "colab": {
          "base_uri": "https://localhost:8080/"
        },
        "id": "YYz6bMUBas8R",
        "outputId": "70c66d16-93da-44f5-8026-91ec625221c3"
      },
      "id": "YYz6bMUBas8R",
      "execution_count": null,
      "outputs": [
        {
          "output_type": "execute_result",
          "data": {
            "text/plain": [
              "0.75"
            ]
          },
          "metadata": {},
          "execution_count": 67
        }
      ]
    },
    {
      "cell_type": "code",
      "source": [
        ""
      ],
      "metadata": {
        "id": "MRosBrOgas3m"
      },
      "id": "MRosBrOgas3m",
      "execution_count": null,
      "outputs": []
    },
    {
      "cell_type": "code",
      "source": [
        ""
      ],
      "metadata": {
        "id": "YG4h2jodON-q"
      },
      "id": "YG4h2jodON-q",
      "execution_count": null,
      "outputs": []
    },
    {
      "cell_type": "markdown",
      "source": [
        "## Let us summarize what we have understood so far:\n",
        "- Sets Vs Random Variables\n",
        "- Joint Probabilities - Intersectional probabilities between 2 or more Random Variables\n",
        "- Marginal Probabilties - Conditional Probabilities between 2 or more random Variables"
      ],
      "metadata": {
        "id": "6oy-Dk86Wt8z"
      },
      "id": "6oy-Dk86Wt8z"
    },
    {
      "cell_type": "code",
      "source": [
        ""
      ],
      "metadata": {
        "id": "fmicdxoyONu6"
      },
      "id": "fmicdxoyONu6",
      "execution_count": null,
      "outputs": []
    },
    {
      "cell_type": "code",
      "source": [
        ""
      ],
      "metadata": {
        "id": "j2B9x88jONqj"
      },
      "id": "j2B9x88jONqj",
      "execution_count": null,
      "outputs": []
    },
    {
      "cell_type": "code",
      "source": [
        ""
      ],
      "metadata": {
        "id": "wGVuPpyFONmE"
      },
      "id": "wGVuPpyFONmE",
      "execution_count": null,
      "outputs": []
    },
    {
      "cell_type": "code",
      "source": [
        ""
      ],
      "metadata": {
        "id": "AgN2jKk13aAz"
      },
      "id": "AgN2jKk13aAz",
      "execution_count": null,
      "outputs": []
    },
    {
      "cell_type": "code",
      "source": [
        ""
      ],
      "metadata": {
        "id": "HFo3xyl-3Zk5"
      },
      "id": "HFo3xyl-3Zk5",
      "execution_count": null,
      "outputs": []
    },
    {
      "cell_type": "markdown",
      "source": [
        "# SECTION 8: 30 mins\n",
        "\n",
        "\n"
      ],
      "metadata": {
        "id": "zMH3sU6j3BNm"
      },
      "id": "zMH3sU6j3BNm"
    },
    {
      "cell_type": "markdown",
      "source": [
        "In the discussions had till now we have only used the Frequentist perspective.\n",
        "## Is there any other useful probabilistic perpective?  \n",
        "Yes there is... Its called the __BAYESIAN PERSPECTIVE__  and its based on the __BAYES RULE__.\n"
      ],
      "metadata": {
        "id": "YkyIjkw9-8I9"
      },
      "id": "YkyIjkw9-8I9"
    },
    {
      "cell_type": "markdown",
      "source": [
        "\n",
        "## WHAT IS THE BAYES RULE?\n",
        "The Bayes rule is derived from the multiplication rule.    \n",
        "We know that:  P(A∩B) = P(A) * P(B|A) = P(B) * P(A|B).  \n",
        "Thus we can say:  \n",
        "- P(A|B) = P(B|A) * P(A)/P(B)\n",
        "\n",
        "\n",
        "This rearrangement of the formula   \n",
        "highlights the relationship between \n",
        "the conditonal probabilties of an experiment.     \n",
        "ie: relationship between P(A|B) & P(B|A)\n",
        "\n",
        "\n",
        "\n",
        "&nbsp; \n",
        "\n",
        "We shall understand its significamce by using a simple example.  \n",
        "\n",
        "Imagine that:\n",
        "1. There are 2 scenarios that could lead to the same set of outcomes. \n",
        "2. But only one of the scenarios can play out at any given moment.\n",
        "3. Now given that a particular outcome has occured,  \n",
        "Which of the scenarios can it be attributed to? \n",
        "\n",
        "&nbsp;\n",
        "\n",
        "Let us use the bag of balls example again to make things more clear.  \n",
        "\n",
        "Consider that the experiment consists of drawing a ball randomly from any one of 2 bags.  \n",
        "Bag_1 has 3 red and 2 blue balls, whereas bag_2 has 2 red and 2 blue balls.  \n",
        "ie:\n",
        "- probability distribution bag_1: {R: 3/5, B:2/5}\n",
        "- probability distribution bag_1: {R: 2/4, B:2/4}    \n",
        "\n",
        "Given that a blue ball was drawn, what is the probabilty that it belonged to bag 2?  \n",
        "ie: What is P(bag_2 | blue)?\n",
        "\n",
        "__In this case bags 1 & 2 represent \"scenarios\" and colors red and blue represent outcomes.__\n",
        "\n",
        "Using the Bayes rule we have:  \n",
        "P(bag_2 | blue) = P(blue | bag_2) * P(bag_2) / P(blue)   \n",
        "where:  \n",
        "P(blue) = P(bag_1) * P(blue|bag_1) + P(bag_2) * P(blue|bag_2) \n",
        "- by law of total probabilty.   \n",
        "\n",
        "\n",
        "\n",
        "The venn diagram for such an experiment would be as shown.\n",
        "\n",
        "\n"
      ],
      "metadata": {
        "id": "JOVgoGbz3jru"
      },
      "id": "JOVgoGbz3jru"
    },
    {
      "cell_type": "code",
      "source": [
        "fn_venn_bayes()"
      ],
      "metadata": {
        "id": "8ZtwcBMP1Xaw",
        "colab": {
          "base_uri": "https://localhost:8080/",
          "height": 284
        },
        "outputId": "8dd7e00c-b587-4cd5-a52f-07ccb2339d61"
      },
      "id": "8ZtwcBMP1Xaw",
      "execution_count": null,
      "outputs": [
        {
          "output_type": "display_data",
          "data": {
            "text/plain": [
              "<Figure size 432x288 with 1 Axes>"
            ],
            "image/png": "[encoded data removed]"
          },
          "metadata": {}
        }
      ]
    },
    {
      "cell_type": "markdown",
      "source": [
        "This venn diagram is unique/different because:\n",
        "1. The sample space of the experiment is {bag_1, bag_2} when looked at from the perspective of:\n",
        "    - \"which bag was the ball drawn from?\" or \"which __scenario__ occurred ?\"\n",
        "2.  The sample space of the experiment is {red, blue} when looked at from the perspective of:\n",
        "    - \"which colored ball was drawn?\" or \"which __outcome__ occured?\"\n",
        "3. Sample space is disjoint from the {bag_1, bag_2} perspective\n",
        "4. Sample space is non-disjoint from the {red, blue} perspective\n",
        "5. Law of total probability can be applied to obtain individual probabilites of blue & red. ie: P(Blue) and P(Red).\n",
        "\n"
      ],
      "metadata": {
        "id": "5FVd3vpQwpDU"
      },
      "id": "5FVd3vpQwpDU"
    },
    {
      "cell_type": "markdown",
      "source": [
        "Bayes rule relates the probabilities of:\n",
        "- One sample space perspective with another via their conditionalities.\n",
        "- ie: relationship between P(bag_2 | blue ) and P(blue | bag_2) and all such combinations.\n",
        "\n",
        "Hence, using __total probabilty law__ we have :\n",
        "\n",
        "P(blue) = P(bag_1) P(blue|bag_1) + P(bag_2) P(blue|bag_2)  \n",
        "\n",
        "P(blue) = (1/2 * 2/5) + (1/2 * 2/4)"
      ],
      "metadata": {
        "id": "_2FshaCFDsAp"
      },
      "id": "_2FshaCFDsAp"
    },
    {
      "cell_type": "code",
      "source": [
        "P_blue = (1/2 * 2/5) + (1/2 * 2/4)\n",
        "P_blue"
      ],
      "metadata": {
        "colab": {
          "base_uri": "https://localhost:8080/"
        },
        "id": "AtoNDfwLET-Z",
        "outputId": "947006e5-a957-4c93-d436-55e5fcb70ac2"
      },
      "id": "AtoNDfwLET-Z",
      "execution_count": null,
      "outputs": [
        {
          "output_type": "execute_result",
          "data": {
            "text/plain": [
              "0.45"
            ]
          },
          "metadata": {},
          "execution_count": 5
        }
      ]
    },
    {
      "cell_type": "markdown",
      "source": [
        "Using __Bayes rule__ we have:  \n",
        "P(bag_2 | blue) = P(blue | bag_2) * P(bag_2) / P(blue)   \n",
        "P(bag_2 | blue) = (2/4) * (1/2) / P_blue  "
      ],
      "metadata": {
        "id": "XHXoraB44Fr0"
      },
      "id": "XHXoraB44Fr0"
    },
    {
      "cell_type": "code",
      "source": [
        "P_bag_2_given_blue = (2/4) * (1/2) / P_blue\n",
        "P_bag_2_given_blue"
      ],
      "metadata": {
        "colab": {
          "base_uri": "https://localhost:8080/"
        },
        "id": "IZIyKBq-4KDI",
        "outputId": "27b6c172-bd5e-4bed-81ab-be990adeb9f2"
      },
      "id": "IZIyKBq-4KDI",
      "execution_count": null,
      "outputs": [
        {
          "output_type": "execute_result",
          "data": {
            "text/plain": [
              "0.5555555555555556"
            ]
          },
          "metadata": {},
          "execution_count": 6
        }
      ]
    },
    {
      "cell_type": "markdown",
      "source": [
        "Note that: P(blue) + P(red) should be = 1    \n",
        "- Where: P(red) =  P(bag_1) P(red|bag_1) + P(bag_2) P(red|bag_2) - - - (Law of Total Probability) \n",
        " \n",
        "Hence:"
      ],
      "metadata": {
        "id": "3CjudWmS2SZa"
      },
      "id": "3CjudWmS2SZa"
    },
    {
      "cell_type": "code",
      "source": [
        "P_red =  (1/2 * 3/5) + (1/2 * 2/4)\n",
        "\n",
        "P_blue + P_red"
      ],
      "metadata": {
        "id": "NGVGIzkfVgr4",
        "colab": {
          "base_uri": "https://localhost:8080/"
        },
        "outputId": "75187e1a-f1c8-46d8-9e38-29b65dcef20c"
      },
      "id": "NGVGIzkfVgr4",
      "execution_count": null,
      "outputs": [
        {
          "output_type": "execute_result",
          "data": {
            "text/plain": [
              "1.0"
            ]
          },
          "metadata": {},
          "execution_count": 4
        }
      ]
    },
    {
      "cell_type": "code",
      "source": [
        ""
      ],
      "metadata": {
        "id": "epf6_9tVLgX-"
      },
      "id": "epf6_9tVLgX-",
      "execution_count": null,
      "outputs": []
    },
    {
      "cell_type": "markdown",
      "source": [
        "Note that the bayes rule can further be interpreted as shown below:\n",
        "\n",
        "P(scenario | outcome) = P(outcome | scenario) * P(scenario) / P(outcome)   \n",
        "\n",
        "In the formula above:\n",
        "\n",
        "- P(scenario) is called the __prior__ probability.    \n",
        "ie:  Probability of the scenario under consideration, regardless of outcome observed.\n",
        "- P(outcome|scenario) is called the __likelihood__.  \n",
        "ie: Probability of observed outcome, given that the scenario under consideration occurs. \n",
        "- P(outcome)  is called the __evidence__ or __marginal__.  \n",
        "ie: Total Probability of the observed outcome.  \n",
        "ie: Probability of the observed outcome considered under all scenarios.\n",
        "- P(scenario | outcome) is called the __posterior__ probability.    \n",
        "ie: Probability of the scenario being considered, given the observed outcome.\n"
      ],
      "metadata": {
        "id": "z2NGzG8M0YFO"
      },
      "id": "z2NGzG8M0YFO"
    },
    {
      "cell_type": "code",
      "source": [
        ""
      ],
      "metadata": {
        "id": "ucIF8sT4LgKC"
      },
      "id": "ucIF8sT4LgKC",
      "execution_count": null,
      "outputs": []
    },
    {
      "cell_type": "code",
      "source": [
        ""
      ],
      "metadata": {
        "id": "PnLGwjE0C7wB"
      },
      "id": "PnLGwjE0C7wB",
      "execution_count": null,
      "outputs": []
    },
    {
      "cell_type": "code",
      "source": [
        ""
      ],
      "metadata": {
        "id": "8x5eZsSc-t2t"
      },
      "id": "8x5eZsSc-t2t",
      "execution_count": null,
      "outputs": []
    },
    {
      "cell_type": "code",
      "source": [
        ""
      ],
      "metadata": {
        "id": "eimNgd2k-vHT"
      },
      "id": "eimNgd2k-vHT",
      "execution_count": null,
      "outputs": []
    },
    {
      "cell_type": "code",
      "source": [
        ""
      ],
      "metadata": {
        "id": "JdldyAlz-u8r"
      },
      "id": "JdldyAlz-u8r",
      "execution_count": null,
      "outputs": []
    },
    {
      "cell_type": "markdown",
      "source": [
        "#  EXERCISES:"
      ],
      "metadata": {
        "id": "ff8ZUf6FJ7gd"
      },
      "id": "ff8ZUf6FJ7gd"
    },
    {
      "cell_type": "markdown",
      "source": [
        "## Problem_1:   \n",
        "Given that four dice are thrown, the probability that only one of them shows a 6 is approximately:\n",
        "\n",
        "&nbsp; \n",
        "\n",
        "Choices:   \n",
        "a. 0.5172   \n",
        "b. 0.3858   \n",
        "c. 0.6647   \n",
        "d. 0.2784   \n"
      ],
      "metadata": {
        "id": "jct9S3gWGtzz"
      },
      "id": "jct9S3gWGtzz"
    },
    {
      "cell_type": "code",
      "source": [
        ""
      ],
      "metadata": {
        "id": "CZfD09F5K5jX"
      },
      "id": "CZfD09F5K5jX",
      "execution_count": null,
      "outputs": []
    },
    {
      "cell_type": "markdown",
      "source": [
        "Soln:  \n",
        "\n",
        "Outcome of each dice is independent of the others.\n",
        "\n",
        "P(6xxx) = P(6 ∩ not_6 ∩ not_6 ∩ not_6) = (1/6) * (5/6) * (5/6) * (5/6) = 0.0964   \n",
        "- Multiplication law for intersection of independent events.   \n",
        "\n",
        "P(6xxx or x6xx or xx6x or xxx6) = 4 * P(6xxx)  = 0.3858.\n",
        "- Additive law for union of disjoint sets."
      ],
      "metadata": {
        "id": "a6OD0qKwG7g4"
      },
      "id": "a6OD0qKwG7g4"
    },
    {
      "cell_type": "code",
      "source": [
        ""
      ],
      "metadata": {
        "id": "6BodW8eQH5pl"
      },
      "id": "6BodW8eQH5pl",
      "execution_count": null,
      "outputs": []
    },
    {
      "cell_type": "code",
      "source": [
        ""
      ],
      "metadata": {
        "id": "ErWiB1W_KdPn"
      },
      "id": "ErWiB1W_KdPn",
      "execution_count": null,
      "outputs": []
    },
    {
      "cell_type": "code",
      "source": [
        ""
      ],
      "metadata": {
        "id": "yN0Fm9QuSD_p"
      },
      "id": "yN0Fm9QuSD_p",
      "execution_count": null,
      "outputs": []
    },
    {
      "cell_type": "code",
      "source": [
        ""
      ],
      "metadata": {
        "id": "NyyFtPnJTJhW"
      },
      "id": "NyyFtPnJTJhW",
      "execution_count": null,
      "outputs": []
    },
    {
      "cell_type": "markdown",
      "source": [
        "## Problem_2:  \n",
        "Tom belongs to a group of astronauts and engineers.   \n",
        "The ratio of astronauts to engineers is 3:10.    \n",
        "It is known that 60% of astronauts and 15% of engineers have taken a basic course in physics.     \n",
        "Tom has taken a basic course in physics, what is the probability of him being an astronaut?\n",
        "\n",
        "&nbsp;\n",
        "\n",
        "Choices:    \n",
        "A.   0.42  \n",
        "B.   0.33   \n",
        "C.   0.62   \n",
        "D.   0.54\n"
      ],
      "metadata": {
        "id": "JnEtn84yUpba"
      },
      "id": "JnEtn84yUpba"
    },
    {
      "cell_type": "code",
      "source": [
        ""
      ],
      "metadata": {
        "id": "HPoYbKZuU8fZ"
      },
      "id": "HPoYbKZuU8fZ",
      "execution_count": null,
      "outputs": []
    },
    {
      "cell_type": "markdown",
      "source": [
        "Soln:   \n",
        "\n",
        "\n",
        "P(astronaut) = 3/13 = 0.231   \n",
        "P(engineer) = 10/13 = 0.7692\n",
        "\n",
        "P(physics | astronaut) = 0.6   \n",
        "P(physics | engineer) = 0.15\n",
        "\n",
        "P(astronaut | physics) = ?\n",
        "\n",
        "\n",
        "P(astronaut | physics) = P(physics | astronaut) * P(astronaut) / P(physics)  \n",
        "- Bayes rule.   \n",
        "\n",
        "P(physics) = P(astronaut) * P(physics | astronaut)  +  P(engineer) * P(physics | engineer)  \n",
        "- Law of Total Probability\n",
        "\n",
        "P(physics) = (0.231 * 0.6)  +  (0.7692 *  0.15) = 0.254\n",
        "\n",
        "Substitutiong in bayes rule we have:  \n",
        "P(astronaut | physics) = 0.6 * 0.231 / 0.254 = 0.54."
      ],
      "metadata": {
        "id": "2hFIS-6IU87B"
      },
      "id": "2hFIS-6IU87B"
    },
    {
      "cell_type": "code",
      "source": [
        ""
      ],
      "metadata": {
        "id": "sJm-BRDaVI3C"
      },
      "id": "sJm-BRDaVI3C",
      "execution_count": null,
      "outputs": []
    },
    {
      "cell_type": "code",
      "source": [
        ""
      ],
      "metadata": {
        "id": "d8acr9HaUpBu"
      },
      "id": "d8acr9HaUpBu",
      "execution_count": null,
      "outputs": []
    },
    {
      "cell_type": "code",
      "source": [
        ""
      ],
      "metadata": {
        "id": "i_U6HuDzUo4g"
      },
      "id": "i_U6HuDzUo4g",
      "execution_count": null,
      "outputs": []
    },
    {
      "cell_type": "code",
      "source": [
        ""
      ],
      "metadata": {
        "id": "JluQSiAHUov5"
      },
      "id": "JluQSiAHUov5",
      "execution_count": null,
      "outputs": []
    },
    {
      "cell_type": "markdown",
      "source": [
        "\n",
        "## Problem_3:  \n",
        "Three rock climbers attempt to climb a particular cliff. \n",
        "The probability of success based on past experience for climbers 1, 2 & 3 are: 72.5%, 57.14% and 33.66% respectively. \n",
        " \n",
        "What is the probability that, of the three climbers, at least two will be successful?\n",
        "\n",
        "&nbsp;\n",
        "\n",
        "Choices:   \n",
        "a. 0.6093   \n",
        "b. 0.7234   \n",
        "c. 0.5717   \n",
        "d. 0.2926   \n"
      ],
      "metadata": {
        "id": "fXvVzxEyKdts"
      },
      "id": "fXvVzxEyKdts"
    },
    {
      "cell_type": "code",
      "source": [
        ""
      ],
      "metadata": {
        "id": "jF20cTmxKdL4"
      },
      "id": "jF20cTmxKdL4",
      "execution_count": null,
      "outputs": []
    },
    {
      "cell_type": "markdown",
      "source": [
        "Solution:   \n",
        "Let P1, P2, P3 denote the probabilities that first, second and third rock climbers are successful. \n",
        "\n",
        "Then:    \n",
        "P1 = 0.725,   \n",
        "therefore: P1_not = 1 - 0.725 = 0.275                             \n",
        "P2 = 0.5714,   \n",
        "therefore: P2_not = 1 - 0.5714 = 0.4286                         \n",
        "P3 = 0.3366,   \n",
        "therefore: P3_not = 1 - 0.3366 = 0.6634\n",
        "\n",
        "Probability that, of the three climbers, at least two will be successful will be:  \n",
        "P = (P1 * P2 * P3_not) + (P1 * P2_not * P3)  + (P1_not * P2 * P3) + (P1 * P2 * P3)  \n",
        "- By Additive law   \n",
        "\n",
        "\n",
        "ie: P = (0.725 * 0.5714 * 0.6634) + (0.725 * 0.4286 * 0.3366) \n",
        "      + (0.275 * 0.5714 * 0.3366) + (0.725 * 0.5714 * 0.3366)    \n",
        "ie: P = 0.2748 + 0.1045 + 0.0529 + 0.1394 = 0.5717\n"
      ],
      "metadata": {
        "id": "4kE6w9aaK6zo"
      },
      "id": "4kE6w9aaK6zo"
    },
    {
      "cell_type": "code",
      "source": [
        ""
      ],
      "metadata": {
        "id": "bIX9n1I8L-ZT"
      },
      "id": "bIX9n1I8L-ZT",
      "execution_count": null,
      "outputs": []
    },
    {
      "cell_type": "code",
      "source": [
        ""
      ],
      "metadata": {
        "id": "bvJDil0ONAdZ"
      },
      "id": "bvJDil0ONAdZ",
      "execution_count": null,
      "outputs": []
    },
    {
      "cell_type": "code",
      "source": [
        ""
      ],
      "metadata": {
        "id": "DT74VQ-_NATI"
      },
      "id": "DT74VQ-_NATI",
      "execution_count": null,
      "outputs": []
    },
    {
      "cell_type": "code",
      "source": [
        ""
      ],
      "metadata": {
        "id": "hFsku_bnNtPe"
      },
      "id": "hFsku_bnNtPe",
      "execution_count": null,
      "outputs": []
    },
    {
      "cell_type": "markdown",
      "source": [
        "## Problem_4:  \n",
        "\n",
        "The nut manufacturing machines A, B, C & D are used to manufacture all the nuts at a nut manufacturing factory.    \n",
        "It is known that machines A, B & C produce 20%, 35% and 40% of the total output.     \n",
        "Past experience shows that 5%, 4%, 3% and 2% of the nuts produced by machines by A, B, C & D respectively are defective.     \n",
        "If we randomly selected a nut and it was found to be defective, then arrange the following probabilities in descending order: \n",
        "\n",
        "1. Probability that it was manufactured using machine A   \n",
        "2. Probability that it was manufactured using machine B   \n",
        "3. Probability that it was manufactured using machine C   \n",
        "4. Probability that it was manufactured using machine D   \n",
        "\n"
      ],
      "metadata": {
        "id": "ITNJhyvKNBEe"
      },
      "id": "ITNJhyvKNBEe"
    },
    {
      "cell_type": "markdown",
      "source": [
        "Choices:     \n",
        "a. 3, 4, 2, 1    \n",
        "b. 2, 3, 4, 1   \n",
        "c. 1, 3, 4, 1    \n",
        "d. 2, 3, 1, 4    \n"
      ],
      "metadata": {
        "id": "TMlT2w7NOECH"
      },
      "id": "TMlT2w7NOECH"
    },
    {
      "cell_type": "code",
      "source": [
        ""
      ],
      "metadata": {
        "id": "LZ3jfTcRNLH7"
      },
      "id": "LZ3jfTcRNLH7",
      "execution_count": null,
      "outputs": []
    },
    {
      "cell_type": "markdown",
      "source": [
        "Solution:   \n",
        "\n",
        "Let A, B, C & D be the events that the nuts were manufactured by machines A, B, C and D respectively.    \n",
        "  Therefore: \n",
        "P(A) = 0.2  \n",
        "P(B) = 0.35\n",
        "P(C) = 0.4 \n",
        "P(D) = 0.05 --- 1- (P(A) + P(B) + P(C))\n",
        "\n",
        "Let Z be the event that nuts are defective.   \n",
        "Therefore:    \n",
        "\n",
        "P(Z|A) = 0.05   \n",
        "P(Z|B) = 0.04   \n",
        "P(Z|C) = 0.03   \n",
        "P(Z|D) = 0.02   \n",
        "\n",
        "Now using Law of total probability:  \n",
        "P(Z) =  P(Z│A) * P(A) + \n",
        "P(Z│B) * P(B) + \n",
        "P(Z│C) * P(C) + \n",
        "P(Z│D) * P(D)\n",
        "\n",
        "ie: P(Z) = 0.05 * 0.2 + 0.04 * 0.35 + 0.03 * 0.4 + 0.02 * 0.05 = 0.037\n",
        "\n",
        "By using Bayes Theorem, the probability that the nut was produced by machine A , given that it is defective is:    \n",
        "P(A│Z) = (P(Z│A) * P(A)) / P(Z) = 0.05 * 0.2 / 0.037 = 0.27\n",
        "\n",
        "Similarly:    \n",
        "P(B│Z) = (P(Z│B) * P(B)) / P(Z) =  0.04 * 0.35 / 0.037  = 0.378   \n",
        "P(C│Z) = (P(Z│C) * P(C)) / P(Z) =  0.03 * 0.40 / 0.037   = 0.324   \n",
        "P(D│Z) = (P(Z│D) * P(D)) / P(Z) = 0.02 * 0.05 / 0.037  = 0.027    \n"
      ],
      "metadata": {
        "id": "ROPWhLuzO2aE"
      },
      "id": "ROPWhLuzO2aE"
    },
    {
      "cell_type": "code",
      "source": [
        ""
      ],
      "metadata": {
        "id": "NJRVmM0pPbxL"
      },
      "id": "NJRVmM0pPbxL",
      "execution_count": null,
      "outputs": []
    },
    {
      "cell_type": "code",
      "source": [
        ""
      ],
      "metadata": {
        "id": "w8zO2_TcP33B"
      },
      "id": "w8zO2_TcP33B",
      "execution_count": null,
      "outputs": []
    },
    {
      "cell_type": "code",
      "source": [
        ""
      ],
      "metadata": {
        "id": "UnJ1AipxP3zn"
      },
      "id": "UnJ1AipxP3zn",
      "execution_count": null,
      "outputs": []
    },
    {
      "cell_type": "code",
      "source": [
        ""
      ],
      "metadata": {
        "id": "gjGO8POsP3vb"
      },
      "id": "gjGO8POsP3vb",
      "execution_count": null,
      "outputs": []
    },
    {
      "cell_type": "markdown",
      "source": [
        "## Problem_5:       \n",
        "In a game of cricket, out of the total sixes in an innings, Sachin scored 20% of them, Sehwag scored 55% of them and the remaining 25% were scored by Dravid. \n",
        "\n",
        "The probability of showing  sixes scored by Sachin, Sehwag and Dravid in the video highlights after the match are 0.25, 0.12  and 0.18 respectively. \n",
        "A six is selected at random from all sixes and shown in the video highlights.\n",
        "What is the probability that it was hit by Dravid?\n",
        "\n",
        "a. 0.17  \n",
        "b. 0.30   \n",
        "c. 0.22   \n",
        "d. 0.28\n"
      ],
      "metadata": {
        "id": "ob265F5tP4VS"
      },
      "id": "ob265F5tP4VS"
    },
    {
      "cell_type": "markdown",
      "source": [
        "Solution:    \n",
        "P(A|B) = P(B|A) x P(A) / P(B)\n",
        "\n",
        "Events: A, B, C = six by sachin, six by sehwag, six by dravid      \n",
        "P(six by sachin) = P(A) = 0.2   \n",
        "P(six by sehwag) = P(B) = 0.55    \n",
        "P(six by dravid) = P(C) = 0.25   \n",
        "\n",
        "P(highlighted | sachin’s six) = P(H|A) = 0.25   \n",
        "p(highlighted | sehwag’s six) = P(H|B) = 0.12   \n",
        "p(highlighted | dravid’s six) = P(H|C) = 0.18   \n",
        "\n",
        "P(six by dravid | highlighted) =  P(C|H) = P(H|C) P(C)/P(H)   \n",
        "\n",
        "P(C|H) = 0.18*0.25/P(H)\n",
        "\n",
        "P(H) = P(H | A) * P(A)  +  P(H | B)) * P(B)  +  P(H | C)) * P(C)   \n",
        "\n",
        "P(H) = 0.25 * 0.20 + 0.12 * 0.55 + 0.18 * 0.25 = 0.161\n",
        "\n",
        "P(C|H) =  0.18 * 0.25 / 0.161 = 0.279\n"
      ],
      "metadata": {
        "id": "1R9A3nJjQXXx"
      },
      "id": "1R9A3nJjQXXx"
    },
    {
      "cell_type": "code",
      "source": [
        ""
      ],
      "metadata": {
        "id": "m23Pil8oQmC6"
      },
      "id": "m23Pil8oQmC6",
      "execution_count": null,
      "outputs": []
    },
    {
      "cell_type": "code",
      "source": [
        ""
      ],
      "metadata": {
        "id": "bTiIbN2iYP7S"
      },
      "id": "bTiIbN2iYP7S",
      "execution_count": null,
      "outputs": []
    },
    {
      "cell_type": "code",
      "source": [
        ""
      ],
      "metadata": {
        "id": "sesxQaOmYPu6"
      },
      "id": "sesxQaOmYPu6",
      "execution_count": null,
      "outputs": []
    },
    {
      "cell_type": "code",
      "source": [
        ""
      ],
      "metadata": {
        "id": "26sRqbH8YPjo"
      },
      "id": "26sRqbH8YPjo",
      "execution_count": null,
      "outputs": []
    },
    {
      "cell_type": "markdown",
      "source": [
        "## Problem_6 (Monty hall problem):     \n",
        "\n",
        "The Monty Hall Problem is based on a game show called Let’s Make a Deal.    \n",
        "Here’s how the game works:  \n",
        "\n",
        "Imagine you are a contestant on a game show.    \n",
        "The host (Monty) shows you three doors, labelled 1, 2, and 3.   \n",
        "\n",
        "He tells you that behind one of the doors there is a car and behind the other 2 doors there is a goat.   \n",
        "\n",
        "The object of the game is to guess which door has the car. If you guess right, you get to keep the car.    \n",
        "\n",
        "Lets say you pick Door 1.   \n",
        "Before opening the door you chose, Monty opens Door 3 and reveals a goat.    \n",
        "\n",
        "Then Monty offers you the option to stick with your original choice or switch to the remaining unopened door.\n",
        "\n",
        "To maximize your chance of winning the car, should you: \n",
        "1. Stick with Door 1 ? \n",
        "2. Switch to Door 2 ?\n",
        "3. It does not matter.."
      ],
      "metadata": {
        "id": "2qVD8FJkYQb4"
      },
      "id": "2qVD8FJkYQb4"
    },
    {
      "cell_type": "code",
      "source": [
        ""
      ],
      "metadata": {
        "id": "bGD3Bj9LYYHK"
      },
      "id": "bGD3Bj9LYYHK",
      "execution_count": null,
      "outputs": []
    },
    {
      "cell_type": "markdown",
      "source": [
        "Soln:   \n",
        "To answer this question, we have to make some assumptions about the behavior of\n",
        "the host:\n",
        "1. Monty always opens a door and offers you the option to switch.\n",
        "2. He never opens the door you picked or the door with the car.\n",
        "3. If you choose the door with the car, he chooses one of the other doors at random.  \n",
        "\n",
        "\n",
        "&nbsp; \n",
        "\n",
        "P(car_1), P(car_2), P(car_3) = 1/3 - - - Probability of car being behind doors 1, 2 & 3.       \n",
        "P(monty_3 | car_1) = 1/2   - - - ie: If car behind door 1, monty picks door 2 or 3 randomly.      \n",
        "P(monty_3 | car_2) = 1   - - - - ie: If car behind door 2, monty picks door 3.       \n",
        "P(monty_3 | car_3) = 0   - - - - ie: If car behind door 3, monty will not pick door 3.         \n",
        "\n",
        " \n",
        "&nbsp; \n",
        "\n",
        "We want P(car_2 | monty_3) and P(car_1 | monty_3)     \n",
        "\n",
        "P(car_2 | monty_3) = P(monty_3 | car_2) * P(car_2) / P(monty_3)   \n",
        "\n",
        "P(car_1 | monty_3) = P(monty_3 | car_1) * P(car_1) / P(monty_3)\n",
        "\n",
        "&nbsp; \n",
        "\n",
        "Now by Law of Total Probability:    \n",
        "P(monty_3) = P(car_1) * P(monty_3 | car_1) + P(car_2) * P(monty_3 | car_2) + P(car_3) * P(monty_3 | car_3) \n",
        "\n",
        "&nbsp; \n",
        "\n",
        "ie: P(monty_3) = (1/3) * (1/2) + (1/3) * (1) + (1/3) * (0) = 1/2   \n",
        "\n",
        "&nbsp; \n",
        "\n",
        "Therefore:   \n",
        "P(car_2 | monty_3) = (1) * (1/3) / (1/2) = 2/3 = 0.6667     \n",
        "P(car_1 | monty_3) = (1/2) * (1/3) / (1/2) = 1/3 = 0.3333   \n",
        "\n",
        "Hence switching to door_2 is a better stratergy.."
      ],
      "metadata": {
        "id": "7Coo1LPnPOiR"
      },
      "id": "7Coo1LPnPOiR"
    },
    {
      "cell_type": "code",
      "source": [
        ""
      ],
      "metadata": {
        "id": "B3_OgVwDPVP8"
      },
      "id": "B3_OgVwDPVP8",
      "execution_count": null,
      "outputs": []
    },
    {
      "cell_type": "code",
      "source": [
        ""
      ],
      "metadata": {
        "id": "cnQ7HKwi4OiE"
      },
      "id": "cnQ7HKwi4OiE",
      "execution_count": null,
      "outputs": []
    },
    {
      "cell_type": "markdown",
      "source": [
        "## Simulating the Monty Hall problem:"
      ],
      "metadata": {
        "id": "0J4qoLv4CUwd"
      },
      "id": "0J4qoLv4CUwd"
    },
    {
      "cell_type": "code",
      "source": [
        "def fn_montyhall():\n",
        "\n",
        "    car = np.random.choice([1,2,3])\n",
        "    you = 1\n",
        "    other_doors = [2,3]\n",
        "\n",
        "    if car == you:\n",
        "        monty = np.random.choice(other_doors)\n",
        "    else:\n",
        "        other_doors.remove(car)\n",
        "        monty = other_doors[0]\n",
        "\n",
        "    return you, car, monty"
      ],
      "metadata": {
        "id": "OOFhhw0jG3rB"
      },
      "id": "OOFhhw0jG3rB",
      "execution_count": null,
      "outputs": []
    },
    {
      "cell_type": "code",
      "source": [
        "samples = [fn_montyhall() for i in range(100_000)] #---- 100,000 Repititions.\n",
        "\n",
        "samples = np.array(samples) \n",
        "cols = 'you car monty'.split()\n",
        "df = pd.DataFrame(samples, columns = cols)\n",
        "\n",
        "df.head()"
      ],
      "metadata": {
        "colab": {
          "base_uri": "https://localhost:8080/",
          "height": 206
        },
        "id": "WgpSaH83-7V6",
        "outputId": "43df75a9-6b0e-4a6a-bea4-90808491614c"
      },
      "id": "WgpSaH83-7V6",
      "execution_count": null,
      "outputs": [
        {
          "output_type": "execute_result",
          "data": {
            "text/plain": [
              "   you  car  monty\n",
              "0    1    1      3\n",
              "1    1    3      2\n",
              "2    1    2      3\n",
              "3    1    1      2\n",
              "4    1    1      2"
            ],
            "text/html": [
              "\n",
              "  <div id=\"df-93626b69-72d2-4109-9c80-0c91b5feefc7\">\n",
              "    <div class=\"colab-df-container\">\n",
              "      <div>\n",
              "<style scoped>\n",
              "    .dataframe tbody tr th:only-of-type {\n",
              "        vertical-align: middle;\n",
              "    }\n",
              "\n",
              "    .dataframe tbody tr th {\n",
              "        vertical-align: top;\n",
              "    }\n",
              "\n",
              "    .dataframe thead th {\n",
              "        text-align: right;\n",
              "    }\n",
              "</style>\n",
              "<table border=\"1\" class=\"dataframe\">\n",
              "  <thead>\n",
              "    <tr style=\"text-align: right;\">\n",
              "      <th></th>\n",
              "      <th>you</th>\n",
              "      <th>car</th>\n",
              "      <th>monty</th>\n",
              "    </tr>\n",
              "  </thead>\n",
              "  <tbody>\n",
              "    <tr>\n",
              "      <th>0</th>\n",
              "      <td>1</td>\n",
              "      <td>1</td>\n",
              "      <td>3</td>\n",
              "    </tr>\n",
              "    <tr>\n",
              "      <th>1</th>\n",
              "      <td>1</td>\n",
              "      <td>3</td>\n",
              "      <td>2</td>\n",
              "    </tr>\n",
              "    <tr>\n",
              "      <th>2</th>\n",
              "      <td>1</td>\n",
              "      <td>2</td>\n",
              "      <td>3</td>\n",
              "    </tr>\n",
              "    <tr>\n",
              "      <th>3</th>\n",
              "      <td>1</td>\n",
              "      <td>1</td>\n",
              "      <td>2</td>\n",
              "    </tr>\n",
              "    <tr>\n",
              "      <th>4</th>\n",
              "      <td>1</td>\n",
              "      <td>1</td>\n",
              "      <td>2</td>\n",
              "    </tr>\n",
              "  </tbody>\n",
              "</table>\n",
              "</div>\n",
              "      <button class=\"colab-df-convert\" onclick=\"convertToInteractive('df-93626b69-72d2-4109-9c80-0c91b5feefc7')\"\n",
              "              title=\"Convert this dataframe to an interactive table.\"\n",
              "              style=\"display:none;\">\n",
              "        \n",
              "  <svg xmlns=\"http://www.w3.org/2000/svg\" height=\"24px\"viewBox=\"0 0 24 24\"\n",
              "       width=\"24px\">\n",
              "    <path d=\"M0 0h24v24H0V0z\" fill=\"none\"/>\n",
              "    <path d=\"M18.56 5.44l.94 2.06.94-2.06 2.06-.94-2.06-.94-.94-2.06-.94 2.06-2.06.94zm-11 1L8.5 8.5l.94-2.06 2.06-.94-2.06-.94L8.5 2.5l-.94 2.06-2.06.94zm10 10l.94 2.06.94-2.06 2.06-.94-2.06-.94-.94-2.06-.94 2.06-2.06.94z\"/><path d=\"M17.41 7.96l-1.37-1.37c-.4-.4-.92-.59-1.43-.59-.52 0-1.04.2-1.43.59L10.3 9.45l-7.72 7.72c-.78.78-.78 2.05 0 2.83L4 21.41c.39.39.9.59 1.41.59.51 0 1.02-.2 1.41-.59l7.78-7.78 2.81-2.81c.8-.78.8-2.07 0-2.86zM5.41 20L4 18.59l7.72-7.72 1.47 1.35L5.41 20z\"/>\n",
              "  </svg>\n",
              "      </button>\n",
              "      \n",
              "  <style>\n",
              "    .colab-df-container {\n",
              "      display:flex;\n",
              "      flex-wrap:wrap;\n",
              "      gap: 12px;\n",
              "    }\n",
              "\n",
              "    .colab-df-convert {\n",
              "      background-color: #E8F0FE;\n",
              "      border: none;\n",
              "      border-radius: 50%;\n",
              "      cursor: pointer;\n",
              "      display: none;\n",
              "      fill: #1967D2;\n",
              "      height: 32px;\n",
              "      padding: 0 0 0 0;\n",
              "      width: 32px;\n",
              "    }\n",
              "\n",
              "    .colab-df-convert:hover {\n",
              "      background-color: #E2EBFA;\n",
              "      box-shadow: 0px 1px 2px rgba(60, 64, 67, 0.3), 0px 1px 3px 1px rgba(60, 64, 67, 0.15);\n",
              "      fill: #174EA6;\n",
              "    }\n",
              "\n",
              "    [theme=dark] .colab-df-convert {\n",
              "      background-color: #3B4455;\n",
              "      fill: #D2E3FC;\n",
              "    }\n",
              "\n",
              "    [theme=dark] .colab-df-convert:hover {\n",
              "      background-color: #434B5C;\n",
              "      box-shadow: 0px 1px 3px 1px rgba(0, 0, 0, 0.15);\n",
              "      filter: drop-shadow(0px 1px 2px rgba(0, 0, 0, 0.3));\n",
              "      fill: #FFFFFF;\n",
              "    }\n",
              "  </style>\n",
              "\n",
              "      <script>\n",
              "        const buttonEl =\n",
              "          document.querySelector('#df-93626b69-72d2-4109-9c80-0c91b5feefc7 button.colab-df-convert');\n",
              "        buttonEl.style.display =\n",
              "          google.colab.kernel.accessAllowed ? 'block' : 'none';\n",
              "\n",
              "        async function convertToInteractive(key) {\n",
              "          const element = document.querySelector('#df-93626b69-72d2-4109-9c80-0c91b5feefc7');\n",
              "          const dataTable =\n",
              "            await google.colab.kernel.invokeFunction('convertToInteractive',\n",
              "                                                     [key], {});\n",
              "          if (!dataTable) return;\n",
              "\n",
              "          const docLinkHtml = 'Like what you see? Visit the ' +\n",
              "            '<a target=\"_blank\" href=https://colab.research.google.com/notebooks/data_table.ipynb>data table notebook</a>'\n",
              "            + ' to learn more about interactive tables.';\n",
              "          element.innerHTML = '';\n",
              "          dataTable['output_type'] = 'display_data';\n",
              "          await google.colab.output.renderOutput(dataTable, element);\n",
              "          const docLink = document.createElement('div');\n",
              "          docLink.innerHTML = docLinkHtml;\n",
              "          element.appendChild(docLink);\n",
              "        }\n",
              "      </script>\n",
              "    </div>\n",
              "  </div>\n",
              "  "
            ]
          },
          "metadata": {},
          "execution_count": 14
        }
      ]
    },
    {
      "cell_type": "markdown",
      "source": [
        "Probability of car being behind door 2 given monty opened door 3 after you chose door 1:"
      ],
      "metadata": {
        "id": "JoJ9IkVZXD_h"
      },
      "id": "JoJ9IkVZXD_h"
    },
    {
      "cell_type": "code",
      "source": [
        "# Only cases where monty opened door 3:\n",
        "df_monty_3 = df[df.monty == 3] \n",
        "\n",
        "# Cases where car behind door 2 given monty opened door 3:\n",
        "df_car_2 = df_monty_3[df_monty_3.car == 2]\n",
        "\n",
        "# Probability of car behind door 2 given monty opened door 3:\n",
        "P_car_2 = len(df_car_2)/len(df_monty_3)\n",
        "P_car_2"
      ],
      "metadata": {
        "colab": {
          "base_uri": "https://localhost:8080/"
        },
        "id": "LtAv4nRAEg9Q",
        "outputId": "f06178a7-bba5-4123-9fb2-1533b973b9d7"
      },
      "id": "LtAv4nRAEg9Q",
      "execution_count": null,
      "outputs": [
        {
          "output_type": "execute_result",
          "data": {
            "text/plain": [
              "0.6661394622514966"
            ]
          },
          "metadata": {},
          "execution_count": 13
        }
      ]
    },
    {
      "cell_type": "markdown",
      "source": [
        "We see that the Emphirical probability confirms our theortical  probability calculations."
      ],
      "metadata": {
        "id": "bhvDRkur9M7y"
      },
      "id": "bhvDRkur9M7y"
    },
    {
      "cell_type": "code",
      "source": [
        ""
      ],
      "metadata": {
        "id": "6pq507tnL67C"
      },
      "id": "6pq507tnL67C",
      "execution_count": null,
      "outputs": []
    },
    {
      "cell_type": "code",
      "source": [
        ""
      ],
      "metadata": {
        "id": "ltGBOqwNL-uL"
      },
      "id": "ltGBOqwNL-uL",
      "execution_count": null,
      "outputs": []
    },
    {
      "cell_type": "code",
      "source": [
        ""
      ],
      "metadata": {
        "id": "diW1WPdRMM39"
      },
      "id": "diW1WPdRMM39",
      "execution_count": null,
      "outputs": []
    },
    {
      "cell_type": "code",
      "source": [
        ""
      ],
      "metadata": {
        "id": "YbYRdFjjWvUV"
      },
      "id": "YbYRdFjjWvUV",
      "execution_count": null,
      "outputs": []
    },
    {
      "cell_type": "code",
      "source": [
        ""
      ],
      "metadata": {
        "id": "bl0rFARvznHY"
      },
      "id": "bl0rFARvznHY",
      "execution_count": null,
      "outputs": []
    }
  ],
  "metadata": {
    "colab": {
      "collapsed_sections": [],
      "name": "probabilty_theory_foundation_v2.ipynb",
      "provenance": [],
      "include_colab_link": true
    },
    "kernelspec": {
      "display_name": "Python 3",
      "language": "python",
      "name": "python3"
    },
    "language_info": {
      "codemirror_mode": {
        "name": "ipython",
        "version": 3
      },
      "file_extension": ".py",
      "mimetype": "text/x-python",
      "name": "python",
      "nbconvert_exporter": "python",
      "pygments_lexer": "ipython3",
      "version": "3.8.8"
    }
  },
  "nbformat": 4,
  "nbformat_minor": 5
}